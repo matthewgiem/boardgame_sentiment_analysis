{
 "cells": [
  {
   "cell_type": "code",
   "execution_count": 1,
   "metadata": {},
   "outputs": [],
   "source": [
    "import pandas as pd\n",
    "import matplotlib.pyplot as plt\n",
    "import numpy as np\n",
    "import time\n",
    "import operator\n",
    "from collections import Counter\n",
    "from operator import itemgetter"
   ]
  },
  {
   "cell_type": "code",
   "execution_count": 2,
   "metadata": {},
   "outputs": [],
   "source": [
    "df_small = pd.read_csv('../data/small_sample.csv')\n",
    "df = pd.read_csv('../data/large_sample.csv')\n",
    "df_small.drop(columns=['Unnamed: 0'], inplace=True)\n",
    "df.drop(columns=['Unnamed: 0'], inplace=True)\n",
    "df.rating = np.ceil(df.rating)\n",
    "df_small.rating = np.ceil(df_small.rating)"
   ]
  },
  {
   "cell_type": "code",
   "execution_count": 3,
   "metadata": {},
   "outputs": [],
   "source": [
    "def create_count(comment):\n",
    "    for x in comment.split(' '):\n",
    "        if x in di:\n",
    "            di[x.lower()] += 1\n",
    "        else:\n",
    "            di[x.lower()] = 1\n",
    "    return di"
   ]
  },
  {
   "cell_type": "code",
   "execution_count": 4,
   "metadata": {},
   "outputs": [
    {
     "name": "stdout",
     "output_type": "stream",
     "text": [
      "CPU times: user 36.5 s, sys: 305 ms, total: 36.8 s\n",
      "Wall time: 36.9 s\n"
     ]
    }
   ],
   "source": [
    "%%time\n",
    "di = dict()\n",
    "df.loc[df.rating == 1].loc[df.comment.apply(lambda x: len(x.split(' ')))<30].comment.apply(create_count)\n",
    "one_dict = di\n",
    "di = dict()\n",
    "df.loc[df.rating == 2].loc[df.comment.apply(lambda x: len(x.split(' ')))<30].comment.apply(create_count)\n",
    "two_dict = di\n",
    "di = dict()\n",
    "df.loc[df.rating == 3].loc[df.comment.apply(lambda x: len(x.split(' ')))<30].comment.apply(create_count)\n",
    "three_dict = di\n",
    "di = dict()\n",
    "df.loc[df.rating == 4].loc[df.comment.apply(lambda x: len(x.split(' ')))<30].comment.apply(create_count)\n",
    "four_dict = di\n",
    "di = dict()\n",
    "df.loc[df.rating == 5].loc[df.comment.apply(lambda x: len(x.split(' ')))<30].comment.apply(create_count)\n",
    "five_dict = di\n",
    "di = dict()\n",
    "df.loc[df.rating == 6].loc[df.comment.apply(lambda x: len(x.split(' ')))<30].comment.apply(create_count)\n",
    "six_dict = di\n",
    "di = dict()\n",
    "df.loc[df.rating == 7].loc[df.comment.apply(lambda x: len(x.split(' ')))<30].comment.apply(create_count)\n",
    "seven_dict = di\n",
    "di = dict()\n",
    "df.loc[df.rating == 8].loc[df.comment.apply(lambda x: len(x.split(' ')))<30].comment.apply(create_count)\n",
    "eight_dict = di\n",
    "di = dict()\n",
    "df.loc[df.rating == 9].loc[df.comment.apply(lambda x: len(x.split(' ')))<30].comment.apply(create_count)\n",
    "nine_dict = di\n",
    "di = dict()\n",
    "df.loc[df.rating == 10].loc[df.comment.apply(lambda x: len(x.split(' ')))<30].comment.apply(create_count)\n",
    "ten_dict = di"
   ]
  },
  {
   "cell_type": "code",
   "execution_count": 5,
   "metadata": {},
   "outputs": [
    {
     "name": "stdout",
     "output_type": "stream",
     "text": [
      "CPU times: user 43.5 ms, sys: 8.38 ms, total: 51.9 ms\n",
      "Wall time: 52.5 ms\n"
     ]
    }
   ],
   "source": [
    "%%time\n",
    "one_counter = Counter(one_dict)\n",
    "two_counter = Counter(two_dict)\n",
    "three_counter = Counter(three_dict)\n",
    "four_counter = Counter(four_dict)\n",
    "five_counter = Counter(five_dict)\n",
    "six_counter = Counter(six_dict)\n",
    "seven_counter = Counter(seven_dict)\n",
    "eight_counter = Counter(eight_dict)\n",
    "nine_counter = Counter(nine_dict)\n",
    "ten_counter = Counter(ten_dict)"
   ]
  },
  {
   "cell_type": "code",
   "execution_count": 6,
   "metadata": {},
   "outputs": [],
   "source": [
    "all_counter = one_counter + two_counter + three_counter + four_counter + five_counter + six_counter + seven_counter + eight_counter + nine_counter + ten_counter"
   ]
  },
  {
   "cell_type": "code",
   "execution_count": 7,
   "metadata": {},
   "outputs": [],
   "source": [
    "all_dict = dict(Counter(all_counter))"
   ]
  },
  {
   "cell_type": "code",
   "execution_count": 8,
   "metadata": {},
   "outputs": [
    {
     "name": "stdout",
     "output_type": "stream",
     "text": [
      "CPU times: user 27.8 ms, sys: 1.11 ms, total: 28.9 ms\n",
      "Wall time: 29.5 ms\n"
     ]
    }
   ],
   "source": [
    "%%time\n",
    "new_data = {k: v for k, v in all_dict.items() if v > 5}"
   ]
  },
  {
   "cell_type": "code",
   "execution_count": 9,
   "metadata": {},
   "outputs": [
    {
     "name": "stdout",
     "output_type": "stream",
     "text": [
      "CPU times: user 1min 27s, sys: 180 ms, total: 1min 27s\n",
      "Wall time: 1min 27s\n"
     ]
    }
   ],
   "source": [
    "%%time\n",
    "sortedList=sorted(new_data.values())\n",
    "sorted_dict = dict()\n",
    "for sortedKey in sortedList:\n",
    "    for key, value in new_data.items():\n",
    "        if value==sortedKey:\n",
    "            sorted_dict[key]=value"
   ]
  },
  {
   "cell_type": "code",
   "execution_count": 10,
   "metadata": {},
   "outputs": [
    {
     "name": "stdout",
     "output_type": "stream",
     "text": [
      "CPU times: user 42.3 ms, sys: 12.4 ms, total: 54.7 ms\n",
      "Wall time: 54.6 ms\n"
     ]
    }
   ],
   "source": [
    "%%time\n",
    "dict_list = []\n",
    "for key, value in sorted_dict.items():\n",
    "    temp = [key,value]\n",
    "    dict_list.append(temp)"
   ]
  },
  {
   "cell_type": "code",
   "execution_count": 11,
   "metadata": {},
   "outputs": [],
   "source": [
    "testing_df = df.loc[df.comment.apply(lambda x: len(x.split(' ')))<30].copy()"
   ]
  },
  {
   "cell_type": "code",
   "execution_count": 12,
   "metadata": {},
   "outputs": [],
   "source": [
    "def make_it_lower(comment):\n",
    "    new_comment = []\n",
    "    for x in comment.split(' '):\n",
    "        new_comment.append(x.lower())\n",
    "    return ' '.join(new_comment)"
   ]
  },
  {
   "cell_type": "code",
   "execution_count": 13,
   "metadata": {},
   "outputs": [
    {
     "name": "stdout",
     "output_type": "stream",
     "text": [
      "CPU times: user 2.83 s, sys: 62.4 ms, total: 2.9 s\n",
      "Wall time: 2.9 s\n"
     ]
    }
   ],
   "source": [
    "%%time\n",
    "testing_df['lower_comment'] = testing_df.comment.apply(lambda x: make_it_lower(x))\n",
    "testing_df.drop(columns=['comment'], inplace=True)\n",
    "testing_df.rename(columns={'lower_comment':'comment'}, inplace=True)"
   ]
  },
  {
   "cell_type": "code",
   "execution_count": 67,
   "metadata": {},
   "outputs": [],
   "source": [
    "def word_count(comment, word, number):\n",
    "    print(number[word])\n",
    "    if word in comment.split(' '):\n",
    "        print('inside')\n",
    "        print(word in number)\n",
    "        if word in number:\n",
    "            print('word in dictionary and the count is {}'.format(number[word]))\n",
    "            number[word] += comment.split(' ').count(word)\n",
    "            print('word in dictionary and the count is {}'.format(number[word]))\n",
    "        else:\n",
    "            print('set number[word] = 1 ')\n",
    "            number[word] = comment.split(' ').count(word)\n",
    "#             print(word in number)\n",
    "            print(number[word])"
   ]
  },
  {
   "cell_type": "code",
   "execution_count": 73,
   "metadata": {},
   "outputs": [
    {
     "name": "stdout",
     "output_type": "stream",
     "text": [
      "CPU times: user 10 µs, sys: 1 µs, total: 11 µs\n",
      "Wall time: 17.9 µs\n"
     ]
    }
   ],
   "source": [
    "%%time\n",
    "def make_report(w,z):\n",
    "    labels = ['word', 'average/std', 'percent_average', 'percent_std', 'rating', 'word_count', 'divisor', 'percent']\n",
    "    to_return = pd.DataFrame(columns=labels)\n",
    "    error = []\n",
    "    for word in dict_list[int(w):int(z)]:\n",
    "#         try:\n",
    "        to_append = []\n",
    "        std = 0\n",
    "        average = 0\n",
    "        for y in range(1,11):\n",
    "#             print(y)\n",
    "            \n",
    "            number = dict()\n",
    "            print(number)\n",
    "            testing_df.loc[testing_df.rating == y].comment.apply(word_count, word=word[0], number=number)\n",
    "            print('pass')\n",
    "            divisor = testing_df.loc[df.rating == y].comment.count()\n",
    "            percent = number[word[0]]/divisor\n",
    "            to_append.append([word[0], None, None, None, y, number[word[0]], divisor, percent])\n",
    "#             print(to_append)\n",
    "        for_array = []\n",
    "        for value in to_append:\n",
    "            for_array.append(value[7])\n",
    "        x = np.array(for_array)\n",
    "        array1 = [[word[0], (np.sum(x)/10)/(np.std(x)), np.sum(x)/10, np.std(x), None, None, None, None]]\n",
    "        for x in to_append:\n",
    "            array1.append(x)\n",
    "        inbetween_df = pd.DataFrame.from_records(array1, columns=labels)\n",
    "#             print('not working')\n",
    "#             print(inbetween_df.head())\n",
    "        print(to_return.head())\n",
    "        to_return = pd.concat([to_return, inbetween_df])\n",
    "#             print('inside')\n",
    "#         except KeyError:\n",
    "#             error.append(word[0])\n",
    "#             continue\n",
    "    return to_return, error"
   ]
  },
  {
   "cell_type": "code",
   "execution_count": 74,
   "metadata": {},
   "outputs": [
    {
     "name": "stdout",
     "output_type": "stream",
     "text": [
      "{}\n",
      "inside\n",
      "False\n",
      "set number[word] = 1 \n",
      "True\n",
      "1\n",
      "pass\n",
      "{}\n",
      "pass\n"
     ]
    },
    {
     "ename": "KeyError",
     "evalue": "'building!'",
     "output_type": "error",
     "traceback": [
      "\u001b[0;31m---------------------------------------------------------------------------\u001b[0m",
      "\u001b[0;31mKeyError\u001b[0m                                  Traceback (most recent call last)",
      "\u001b[0;32m<timed exec>\u001b[0m in \u001b[0;36m<module>\u001b[0;34m()\u001b[0m\n",
      "\u001b[0;32m<timed exec>\u001b[0m in \u001b[0;36mmake_report\u001b[0;34m(w, z)\u001b[0m\n",
      "\u001b[0;31mKeyError\u001b[0m: 'building!'"
     ]
    }
   ],
   "source": [
    "%%time\n",
    "report = make_report(10000,10100)"
   ]
  },
  {
   "cell_type": "code",
   "execution_count": 62,
   "metadata": {},
   "outputs": [
    {
     "data": {
      "text/plain": [
       "False"
      ]
     },
     "execution_count": 62,
     "metadata": {},
     "output_type": "execute_result"
    }
   ],
   "source": [
    "'building!' in dict_list[10000:10100]"
   ]
  },
  {
   "cell_type": "code",
   "execution_count": 31,
   "metadata": {},
   "outputs": [
    {
     "data": {
      "text/plain": [
       "[['building!', 12],\n",
       " ['hopelessly', 12],\n",
       " [':s', 12],\n",
       " ['music.', 12],\n",
       " ['un', 12],\n",
       " ['expensive,', 12],\n",
       " ['pursuit', 12],\n",
       " ['expansion:', 12],\n",
       " ['weapons.', 12],\n",
       " ['kingdoms', 12],\n",
       " ['aversion', 12],\n",
       " ['duel', 12],\n",
       " ['(sort', 12],\n",
       " ['tale', 12],\n",
       " ['wonders', 12],\n",
       " ['intend', 12],\n",
       " ['craziness', 12],\n",
       " ['railroad', 12],\n",
       " ['slugfest', 12],\n",
       " ['lesson.', 12],\n",
       " ['\"so', 12],\n",
       " ['loop', 12],\n",
       " ['mediocre,', 12],\n",
       " ['unattractive', 12],\n",
       " ['facebook', 12],\n",
       " ['hoard', 12],\n",
       " ['dracula', 12],\n",
       " ['dark.', 12],\n",
       " ['gifts', 12],\n",
       " ['humanity.', 12],\n",
       " ['excellent,', 12],\n",
       " ['look!', 12],\n",
       " ['won´t', 12],\n",
       " ['solitaire\"', 12],\n",
       " ['swimming', 12],\n",
       " ['disappointment,', 12],\n",
       " ['bowl', 12],\n",
       " ['game...not', 12],\n",
       " ['tired,', 12],\n",
       " [\"collector's\", 12],\n",
       " ['looooong', 12],\n",
       " ['stage.', 12],\n",
       " ['betrayal', 12],\n",
       " ['angry.', 12],\n",
       " ['game...it', 12],\n",
       " ['failed.', 12],\n",
       " ['luckiest', 12],\n",
       " ['psychology,', 12],\n",
       " ['pretending', 12],\n",
       " ['completes', 12],\n",
       " ['knight', 12],\n",
       " ['or,', 12],\n",
       " ['jungle', 12],\n",
       " ['1960.', 12],\n",
       " ['collector', 12],\n",
       " ['sales', 12],\n",
       " ['galaxy.', 12],\n",
       " ['sun', 12],\n",
       " ['volume', 12],\n",
       " ['complication.', 12],\n",
       " ['alliance', 12],\n",
       " ['regretted', 12],\n",
       " ['shoot.', 12],\n",
       " ['stretched', 12],\n",
       " ['induces', 12],\n",
       " ['assign', 12],\n",
       " ['mutual', 12],\n",
       " ['campaigns.', 12],\n",
       " ['tiles?', 12],\n",
       " ['hooks', 12],\n",
       " ['boats.', 12],\n",
       " ['definatly', 12],\n",
       " ['haven&#039;t', 12],\n",
       " ['pixel', 12],\n",
       " ['teenagers', 12],\n",
       " ['absorbing.', 12],\n",
       " ['gamey.', 12],\n",
       " ['permutations', 12],\n",
       " ['derived', 12],\n",
       " ['line,', 12],\n",
       " ['blind.', 12],\n",
       " ['descent', 12],\n",
       " ['scale,', 12],\n",
       " ['reaction.', 12],\n",
       " ['town,', 12],\n",
       " [':3', 12],\n",
       " ['ordered', 12],\n",
       " ['care,', 12],\n",
       " ['teenager,', 12],\n",
       " ['front.', 12],\n",
       " ['usable', 12],\n",
       " ['base,', 12],\n",
       " ['discarding', 12],\n",
       " ['ancestor', 12],\n",
       " ['dragon.', 12],\n",
       " ['(3-4', 12],\n",
       " ['all?', 12],\n",
       " ['humorous,', 12],\n",
       " ['chancy', 12],\n",
       " ['didn&#039;t', 12]]"
      ]
     },
     "execution_count": 31,
     "metadata": {},
     "output_type": "execute_result"
    }
   ],
   "source": [
    "dict_list[10000:10100]"
   ]
  },
  {
   "cell_type": "code",
   "execution_count": 32,
   "metadata": {},
   "outputs": [
    {
     "name": "stdout",
     "output_type": "stream",
     "text": [
      "['building!', 12]\n",
      "['hopelessly', 12]\n",
      "[':s', 12]\n",
      "['music.', 12]\n",
      "['un', 12]\n",
      "['expensive,', 12]\n",
      "['pursuit', 12]\n",
      "['expansion:', 12]\n",
      "['weapons.', 12]\n",
      "['kingdoms', 12]\n",
      "['aversion', 12]\n",
      "['duel', 12]\n",
      "['(sort', 12]\n",
      "['tale', 12]\n",
      "['wonders', 12]\n",
      "['intend', 12]\n",
      "['craziness', 12]\n",
      "['railroad', 12]\n",
      "['slugfest', 12]\n",
      "['lesson.', 12]\n",
      "['\"so', 12]\n",
      "['loop', 12]\n",
      "['mediocre,', 12]\n",
      "['unattractive', 12]\n",
      "['facebook', 12]\n",
      "['hoard', 12]\n",
      "['dracula', 12]\n",
      "['dark.', 12]\n",
      "['gifts', 12]\n",
      "['humanity.', 12]\n",
      "['excellent,', 12]\n",
      "['look!', 12]\n",
      "['won´t', 12]\n",
      "['solitaire\"', 12]\n",
      "['swimming', 12]\n",
      "['disappointment,', 12]\n",
      "['bowl', 12]\n",
      "['game...not', 12]\n",
      "['tired,', 12]\n",
      "[\"collector's\", 12]\n",
      "['looooong', 12]\n",
      "['stage.', 12]\n",
      "['betrayal', 12]\n",
      "['angry.', 12]\n",
      "['game...it', 12]\n",
      "['failed.', 12]\n",
      "['luckiest', 12]\n",
      "['psychology,', 12]\n",
      "['pretending', 12]\n",
      "['completes', 12]\n",
      "['knight', 12]\n",
      "['or,', 12]\n",
      "['jungle', 12]\n",
      "['1960.', 12]\n",
      "['collector', 12]\n",
      "['sales', 12]\n",
      "['galaxy.', 12]\n",
      "['sun', 12]\n",
      "['volume', 12]\n",
      "['complication.', 12]\n",
      "['alliance', 12]\n",
      "['regretted', 12]\n",
      "['shoot.', 12]\n",
      "['stretched', 12]\n",
      "['induces', 12]\n",
      "['assign', 12]\n",
      "['mutual', 12]\n",
      "['campaigns.', 12]\n",
      "['tiles?', 12]\n",
      "['hooks', 12]\n",
      "['boats.', 12]\n",
      "['definatly', 12]\n",
      "['haven&#039;t', 12]\n",
      "['pixel', 12]\n",
      "['teenagers', 12]\n",
      "['absorbing.', 12]\n",
      "['gamey.', 12]\n",
      "['permutations', 12]\n",
      "['derived', 12]\n",
      "['line,', 12]\n",
      "['blind.', 12]\n",
      "['descent', 12]\n",
      "['scale,', 12]\n",
      "['reaction.', 12]\n",
      "['town,', 12]\n",
      "[':3', 12]\n",
      "['ordered', 12]\n",
      "['care,', 12]\n",
      "['teenager,', 12]\n",
      "['front.', 12]\n",
      "['usable', 12]\n",
      "['base,', 12]\n",
      "['discarding', 12]\n",
      "['ancestor', 12]\n",
      "['dragon.', 12]\n",
      "['(3-4', 12]\n",
      "['all?', 12]\n",
      "['humorous,', 12]\n",
      "['chancy', 12]\n",
      "['didn&#039;t', 12]\n"
     ]
    }
   ],
   "source": [
    "for word in dict_list[10000:10100]:\n",
    "    print(word)"
   ]
  },
  {
   "cell_type": "code",
   "execution_count": null,
   "metadata": {},
   "outputs": [],
   "source": []
  }
 ],
 "metadata": {
  "kernelspec": {
   "display_name": "Python 3",
   "language": "python",
   "name": "python3"
  },
  "language_info": {
   "codemirror_mode": {
    "name": "ipython",
    "version": 3
   },
   "file_extension": ".py",
   "mimetype": "text/x-python",
   "name": "python",
   "nbconvert_exporter": "python",
   "pygments_lexer": "ipython3",
   "version": "3.6.5"
  }
 },
 "nbformat": 4,
 "nbformat_minor": 2
}
