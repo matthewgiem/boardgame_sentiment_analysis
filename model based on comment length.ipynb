{
 "cells": [
  {
   "cell_type": "markdown",
   "metadata": {},
   "source": [
    "## Import revelant dependencies"
   ]
  },
  {
   "cell_type": "code",
   "execution_count": 8,
   "metadata": {},
   "outputs": [],
   "source": [
    "import pandas as pd\n",
    "import matplotlib.pyplot as plt\n",
    "import numpy as np"
   ]
  },
  {
   "cell_type": "markdown",
   "metadata": {},
   "source": [
    "## Since I am going to create a model based on the comment length I'm going to use the larger df to get my values for the comment length and test it on the smaller df"
   ]
  },
  {
   "cell_type": "code",
   "execution_count": 9,
   "metadata": {},
   "outputs": [],
   "source": [
    "test = pd.read_csv('data/small_sample.csv')\n",
    "df = pd.read_csv('data/large_sample.csv')"
   ]
  },
  {
   "cell_type": "code",
   "execution_count": 10,
   "metadata": {},
   "outputs": [],
   "source": [
    "test.drop(columns=['Unnamed: 0'], inplace=True)\n",
    "df.drop(columns=['Unnamed: 0'], inplace=True)"
   ]
  },
  {
   "cell_type": "markdown",
   "metadata": {},
   "source": [
    "## For this model I will take the ceiling of each rating to get rid of decimal places for easier matching"
   ]
  },
  {
   "cell_type": "code",
   "execution_count": 11,
   "metadata": {},
   "outputs": [],
   "source": [
    "df.rating = np.ceil(df.rating)\n",
    "test.rating = np.ceil(test.rating)"
   ]
  },
  {
   "cell_type": "markdown",
   "metadata": {},
   "source": [
    "## Next I will create a column with the comment length value"
   ]
  },
  {
   "cell_type": "code",
   "execution_count": 12,
   "metadata": {},
   "outputs": [],
   "source": [
    "def length(var):\n",
    "    return len(var.split(' '))"
   ]
  },
  {
   "cell_type": "code",
   "execution_count": 13,
   "metadata": {},
   "outputs": [],
   "source": [
    "df['len'] = df['comment'].apply(length)\n",
    "test['len'] = test['comment'].apply(length)"
   ]
  },
  {
   "cell_type": "code",
   "execution_count": 14,
   "metadata": {},
   "outputs": [
    {
     "data": {
      "text/html": [
       "<div>\n",
       "<style scoped>\n",
       "    .dataframe tbody tr th:only-of-type {\n",
       "        vertical-align: middle;\n",
       "    }\n",
       "\n",
       "    .dataframe tbody tr th {\n",
       "        vertical-align: top;\n",
       "    }\n",
       "\n",
       "    .dataframe thead th {\n",
       "        text-align: right;\n",
       "    }\n",
       "</style>\n",
       "<table border=\"1\" class=\"dataframe\">\n",
       "  <thead>\n",
       "    <tr style=\"text-align: right;\">\n",
       "      <th></th>\n",
       "      <th>commenter</th>\n",
       "      <th>gameID</th>\n",
       "      <th>rating</th>\n",
       "      <th>comment</th>\n",
       "      <th>len</th>\n",
       "    </tr>\n",
       "  </thead>\n",
       "  <tbody>\n",
       "    <tr>\n",
       "      <th>0</th>\n",
       "      <td>172640</td>\n",
       "      <td>24068</td>\n",
       "      <td>7.0</td>\n",
       "      <td>Good:  Unique take on the hidden role games. T...</td>\n",
       "      <td>78</td>\n",
       "    </tr>\n",
       "    <tr>\n",
       "      <th>1</th>\n",
       "      <td>86674</td>\n",
       "      <td>24068</td>\n",
       "      <td>7.0</td>\n",
       "      <td>A neat social deduction game with multiple tea...</td>\n",
       "      <td>16</td>\n",
       "    </tr>\n",
       "    <tr>\n",
       "      <th>2</th>\n",
       "      <td>10643</td>\n",
       "      <td>24068</td>\n",
       "      <td>7.0</td>\n",
       "      <td>Good hidden roles werewolf style game that can...</td>\n",
       "      <td>35</td>\n",
       "    </tr>\n",
       "    <tr>\n",
       "      <th>3</th>\n",
       "      <td>31171</td>\n",
       "      <td>24068</td>\n",
       "      <td>7.0</td>\n",
       "      <td>Overall I hate Mafia/Werewolf, but this versio...</td>\n",
       "      <td>64</td>\n",
       "    </tr>\n",
       "    <tr>\n",
       "      <th>4</th>\n",
       "      <td>165608</td>\n",
       "      <td>24068</td>\n",
       "      <td>7.0</td>\n",
       "      <td>Fun social deduction exercise that gets merrie...</td>\n",
       "      <td>57</td>\n",
       "    </tr>\n",
       "  </tbody>\n",
       "</table>\n",
       "</div>"
      ],
      "text/plain": [
       "   commenter  gameID  rating  \\\n",
       "0     172640   24068     7.0   \n",
       "1      86674   24068     7.0   \n",
       "2      10643   24068     7.0   \n",
       "3      31171   24068     7.0   \n",
       "4     165608   24068     7.0   \n",
       "\n",
       "                                             comment  len  \n",
       "0  Good:  Unique take on the hidden role games. T...   78  \n",
       "1  A neat social deduction game with multiple tea...   16  \n",
       "2  Good hidden roles werewolf style game that can...   35  \n",
       "3  Overall I hate Mafia/Werewolf, but this versio...   64  \n",
       "4  Fun social deduction exercise that gets merrie...   57  "
      ]
     },
     "execution_count": 14,
     "metadata": {},
     "output_type": "execute_result"
    }
   ],
   "source": [
    "df.head()"
   ]
  },
  {
   "cell_type": "code",
   "execution_count": 15,
   "metadata": {},
   "outputs": [
    {
     "data": {
      "text/plain": [
       "array([ 7., 10.,  9.,  8.,  6.,  5.,  4.,  3.,  2.,  1.])"
      ]
     },
     "execution_count": 15,
     "metadata": {},
     "output_type": "execute_result"
    }
   ],
   "source": [
    "df.rating.unique()"
   ]
  },
  {
   "cell_type": "code",
   "execution_count": 16,
   "metadata": {},
   "outputs": [
    {
     "data": {
      "text/plain": [
       "4699"
      ]
     },
     "execution_count": 16,
     "metadata": {},
     "output_type": "execute_result"
    }
   ],
   "source": [
    "df.len.max()"
   ]
  },
  {
   "cell_type": "markdown",
   "metadata": {},
   "source": [
    "## Lets look at the spread of comment lengths"
   ]
  },
  {
   "cell_type": "code",
   "execution_count": 19,
   "metadata": {},
   "outputs": [
    {
     "name": "stdout",
     "output_type": "stream",
     "text": [
      "841467 in between 0 < x < 1000\n",
      "159 in between 1000 < x < 2000\n",
      "14 in between 2000 < x < 3000\n",
      "2 in between 3000 < x < 4000\n",
      "2 in between 4000 < x < 5000\n"
     ]
    }
   ],
   "source": [
    "for x in range(1,6):\n",
    "    print('{} in between {} < x < {}'.format(df.loc[(df.len < x*1000) & (df.len > (x-1)*1000)]['len'].count(), (x-1)*1000, x*1000))\n"
   ]
  },
  {
   "cell_type": "code",
   "execution_count": 20,
   "metadata": {},
   "outputs": [
    {
     "data": {
      "text/plain": [
       "(array([ 1.,  3.,  6.,  8.,  3., 19., 25., 43., 28., 41.]),\n",
       " array([ 1. ,  1.9,  2.8,  3.7,  4.6,  5.5,  6.4,  7.3,  8.2,  9.1, 10. ]),\n",
       " <a list of 10 Patch objects>)"
      ]
     },
     "execution_count": 20,
     "metadata": {},
     "output_type": "execute_result"
    },
    {
     "data": {
      "image/png": "[encoded data removed]",
      "text/plain": [
       "<Figure size 432x288 with 1 Axes>"
      ]
     },
     "metadata": {},
     "output_type": "display_data"
    }
   ],
   "source": [
    "plt.hist(df.loc[df.len>1000].sort_values(by=['rating'])['rating'])"
   ]
  },
  {
   "cell_type": "code",
   "execution_count": 21,
   "metadata": {},
   "outputs": [
    {
     "name": "stdout",
     "output_type": "stream",
     "text": [
      "774463 comments in between 0 < x < 100\n",
      "50046 comments in between 100 < x < 200\n",
      "9597 comments in between 200 < x < 300\n",
      "3164 comments in between 300 < x < 400\n",
      "1341 comments in between 400 < x < 500\n",
      "647 comments in between 500 < x < 600\n",
      "335 comments in between 600 < x < 700\n",
      "181 comments in between 700 < x < 800\n",
      "109 comments in between 800 < x < 900\n",
      "67 comments in between 900 < x < 1000\n"
     ]
    }
   ],
   "source": [
    "for x in range(1,11):\n",
    "    print('{} comments in between {} < x < {}'.format(df.loc[(df.len < x*100) & (df.len > (x-1)*100)]['len'].count(), (x-1)*100, x*100))\n"
   ]
  },
  {
   "cell_type": "code",
   "execution_count": 22,
   "metadata": {},
   "outputs": [
    {
     "name": "stdout",
     "output_type": "stream",
     "text": [
      "148367 in between 0 < x < 10\n",
      "163138 in between 10 < x < 20\n",
      "122092 in between 20 < x < 30\n",
      "86474 in between 30 < x < 40\n",
      "59438 in between 40 < x < 50\n",
      "42048 in between 50 < x < 60\n",
      "30054 in between 60 < x < 70\n",
      "21784 in between 70 < x < 80\n",
      "16526 in between 80 < x < 90\n",
      "12587 in between 90 < x < 100\n"
     ]
    }
   ],
   "source": [
    "for x in range(1,11):\n",
    "    print('{} in between {} < x < {}'.format(df.loc[(df.len < x*10) & (df.len > (x-1)*10)]['len'].count(), (x-1)*10, x*10))\n"
   ]
  },
  {
   "cell_type": "code",
   "execution_count": 23,
   "metadata": {},
   "outputs": [
    {
     "name": "stdout",
     "output_type": "stream",
     "text": [
      "3919 comments with 1 rating is 3919 and has an average length of 41.41, and a standard deviation of 48.01\n",
      "8490 comments with 2 rating is 8490 and has an average length of 41.7, and a standard deviation of 45.24\n",
      "16349 comments with 3 rating is 16349 and has an average length of 42.37, and a standard deviation of 44.88\n",
      "29469 comments with 4 rating is 29469 and has an average length of 41.52, and a standard deviation of 43.52\n",
      "52333 comments with 5 rating is 52333 and has an average length of 39.32, and a standard deviation of 41.99\n",
      "110167 comments with 6 rating is 110167 and has an average length of 38.65, and a standard deviation of 40.64\n",
      "196285 comments with 7 rating is 196285 and has an average length of 36.32, and a standard deviation of 38.41\n",
      "220833 comments with 8 rating is 220833 and has an average length of 36.64, and a standard deviation of 38.51\n",
      "130351 comments with 9 rating is 130351 and has an average length of 38.98, and a standard deviation of 40.6\n",
      "67344 comments with 10 rating is 67344 and has an average length of 41.39, and a standard deviation of 44.42\n"
     ]
    }
   ],
   "source": [
    "sample = df.loc[df.len<300]\n",
    "for x in range(1,11):\n",
    "    print('{} comments with {} rating is {} and has an average length of {}, and a standard deviation of {}'.format(sample.loc[sample.rating == x]['len'].count(), x, sample.loc[sample.rating == x]['len'].count(), round(sample.loc[sample.rating == x]['len'].mean(),2), round(sample.loc[sample.rating == x]['len'].std(),2)))"
   ]
  },
  {
   "cell_type": "code",
   "execution_count": 25,
   "metadata": {},
   "outputs": [
    {
     "name": "stdout",
     "output_type": "stream",
     "text": [
      "51 comments with 1 rating is 51 and has an average length of 444.47, and a standard deviation of 173.4\n",
      "121 comments with 2 rating is 121 and has an average length of 462.94, and a standard deviation of 230.42\n",
      "175 comments with 3 rating is 175 and has an average length of 467.59, and a standard deviation of 222.27\n",
      "279 comments with 4 rating is 279 and has an average length of 465.3, and a standard deviation of 197.6\n",
      "429 comments with 5 rating is 429 and has an average length of 433.52, and a standard deviation of 148.0\n",
      "812 comments with 6 rating is 812 and has an average length of 446.53, and a standard deviation of 176.96\n",
      "1104 comments with 7 rating is 1104 and has an average length of 461.46, and a standard deviation of 216.63\n",
      "1336 comments with 8 rating is 1336 and has an average length of 460.09, and a standard deviation of 212.78\n",
      "919 comments with 9 rating is 919 and has an average length of 476.12, and a standard deviation of 277.21\n",
      "830 comments with 10 rating is 830 and has an average length of 487.82, and a standard deviation of 296.66\n"
     ]
    }
   ],
   "source": [
    "sample = df.loc[df.len>300]\n",
    "for x in range(1,11):\n",
    "    print('{} comments with {} rating is {} and has an average length of {}, and a standard deviation of {}'.format(sample.loc[sample.rating == x]['len'].count(), x, sample.loc[sample.rating == x]['len'].count(), round(sample.loc[sample.rating == x]['len'].mean(),2), round(sample.loc[sample.rating == x]['len'].std(),2)))"
   ]
  },
  {
   "cell_type": "markdown",
   "metadata": {},
   "source": [
    "## For a quick and dirty model I'll sperate the longer comments from the shorter and then put my prediction in to \"boxes\" as there isn't enough corrilation to predict a single rating"
   ]
  },
  {
   "cell_type": "code",
   "execution_count": 26,
   "metadata": {},
   "outputs": [],
   "source": [
    "def first_try(var):\n",
    "    if var < 300:\n",
    "        if var > 40:\n",
    "            return [1,2,3,4,10]\n",
    "        if var > 37 & var < 40:\n",
    "            return [5,6,9]\n",
    "        if var <= 37:\n",
    "            return [7,8]\n",
    "    else:\n",
    "        if var > 470:\n",
    "            return [9,10]\n",
    "        if var > 460 & var < 470:\n",
    "            return [2,3,4,7,8]\n",
    "        if var <= 460:\n",
    "            return [1,5,6]"
   ]
  },
  {
   "cell_type": "code",
   "execution_count": 27,
   "metadata": {},
   "outputs": [],
   "source": [
    "test['prediction'] = test.len.apply(first_try)"
   ]
  },
  {
   "cell_type": "code",
   "execution_count": 28,
   "metadata": {},
   "outputs": [],
   "source": [
    "def check(a, b):\n",
    "    if a in b:\n",
    "        return True\n",
    "    else:\n",
    "        return False"
   ]
  },
  {
   "cell_type": "code",
   "execution_count": 29,
   "metadata": {},
   "outputs": [],
   "source": [
    "test['value'] = test.apply(lambda row: check(row['rating'], row['prediction']), axis=1)"
   ]
  },
  {
   "cell_type": "code",
   "execution_count": 30,
   "metadata": {},
   "outputs": [
    {
     "data": {
      "text/html": [
       "<div>\n",
       "<style scoped>\n",
       "    .dataframe tbody tr th:only-of-type {\n",
       "        vertical-align: middle;\n",
       "    }\n",
       "\n",
       "    .dataframe tbody tr th {\n",
       "        vertical-align: top;\n",
       "    }\n",
       "\n",
       "    .dataframe thead th {\n",
       "        text-align: right;\n",
       "    }\n",
       "</style>\n",
       "<table border=\"1\" class=\"dataframe\">\n",
       "  <thead>\n",
       "    <tr style=\"text-align: right;\">\n",
       "      <th></th>\n",
       "      <th>commenter</th>\n",
       "      <th>gameID</th>\n",
       "      <th>rating</th>\n",
       "      <th>comment</th>\n",
       "      <th>len</th>\n",
       "      <th>prediction</th>\n",
       "    </tr>\n",
       "    <tr>\n",
       "      <th>value</th>\n",
       "      <th></th>\n",
       "      <th></th>\n",
       "      <th></th>\n",
       "      <th></th>\n",
       "      <th></th>\n",
       "      <th></th>\n",
       "    </tr>\n",
       "  </thead>\n",
       "  <tbody>\n",
       "    <tr>\n",
       "      <th>False</th>\n",
       "      <td>583</td>\n",
       "      <td>583</td>\n",
       "      <td>583</td>\n",
       "      <td>583</td>\n",
       "      <td>583</td>\n",
       "      <td>583</td>\n",
       "    </tr>\n",
       "    <tr>\n",
       "      <th>True</th>\n",
       "      <td>264</td>\n",
       "      <td>264</td>\n",
       "      <td>264</td>\n",
       "      <td>264</td>\n",
       "      <td>264</td>\n",
       "      <td>264</td>\n",
       "    </tr>\n",
       "  </tbody>\n",
       "</table>\n",
       "</div>"
      ],
      "text/plain": [
       "       commenter  gameID  rating  comment  len  prediction\n",
       "value                                                     \n",
       "False        583     583     583      583  583         583\n",
       "True         264     264     264      264  264         264"
      ]
     },
     "execution_count": 30,
     "metadata": {},
     "output_type": "execute_result"
    }
   ],
   "source": [
    "test.groupby('value').count()"
   ]
  },
  {
   "cell_type": "code",
   "execution_count": 40,
   "metadata": {},
   "outputs": [
    {
     "name": "stdout",
     "output_type": "stream",
     "text": [
      "31.17%\n"
     ]
    }
   ],
   "source": [
    "print('{}%'.format(round(test.loc[test.value == True].count()['len']/test.count()['len']*100,2)))"
   ]
  },
  {
   "cell_type": "markdown",
   "metadata": {},
   "source": [
    "## The model has a 31.17% accuracy rate but given that I am predicting that a comment falls into a box this is pretty bad lol"
   ]
  }
 ],
 "metadata": {
  "kernelspec": {
   "display_name": "Python 3",
   "language": "python",
   "name": "python3"
  },
  "language_info": {
   "codemirror_mode": {
    "name": "ipython",
    "version": 3
   },
   "file_extension": ".py",
   "mimetype": "text/x-python",
   "name": "python",
   "nbconvert_exporter": "python",
   "pygments_lexer": "ipython3",
   "version": "3.6.5"
  }
 },
 "nbformat": 4,
 "nbformat_minor": 2
}
