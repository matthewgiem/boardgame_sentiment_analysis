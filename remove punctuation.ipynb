{
 "cells": [
  {
   "cell_type": "code",
   "execution_count": 25,
   "metadata": {},
   "outputs": [],
   "source": [
    "import pandas as pd\n",
    "import matplotlib.pyplot as plt\n",
    "import numpy as np\n",
    "import time\n",
    "import operator\n",
    "from collections import Counter\n",
    "from operator import itemgetter\n",
    "import time\n",
    "import string"
   ]
  },
  {
   "cell_type": "code",
   "execution_count": 32,
   "metadata": {},
   "outputs": [
    {
     "name": "stdout",
     "output_type": "stream",
     "text": [
      "CPU times: user 3.48 s, sys: 643 ms, total: 4.13 s\n",
      "Wall time: 4.41 s\n"
     ]
    }
   ],
   "source": [
    "%%time\n",
    "df_remove = pd.read_csv('../data/small_sample.csv')\n",
    "df_large = pd.read_csv('../data/large_sample.csv')\n",
    "df_remove.drop(columns=['Unnamed: 0'], inplace=True)\n",
    "df_large.drop(columns=['Unnamed: 0'], inplace=True)\n",
    "df_large.rating = np.ceil(df.rating)\n",
    "df_remove.rating = np.ceil(df_small.rating)"
   ]
  },
  {
   "cell_type": "code",
   "execution_count": 27,
   "metadata": {},
   "outputs": [],
   "source": [
    "phrase = \"hello! I wanna remove *@ .,/ if possible?\"\n",
    "comment = 'what should I :dpw for hsi: w0982)(@*$@0!)'"
   ]
  },
  {
   "cell_type": "code",
   "execution_count": 28,
   "metadata": {},
   "outputs": [],
   "source": [
    "def remove_punctuation(comment):\n",
    "    table = str.maketrans(dict.fromkeys('@#$%^&*()_+=~`[{}]|\\:;\"<,>.\"/'))\n",
    "    return comment.translate(table)"
   ]
  },
  {
   "cell_type": "code",
   "execution_count": 33,
   "metadata": {},
   "outputs": [],
   "source": [
    "def replace_exclimation(comment):\n",
    "    return comment.replace('!', ' <!> ').replace('?', ' <?> ')"
   ]
  },
  {
   "cell_type": "code",
   "execution_count": 30,
   "metadata": {},
   "outputs": [
    {
     "data": {
      "text/plain": [
       "'hello! I wanna remove   if possible?'"
      ]
     },
     "execution_count": 30,
     "metadata": {},
     "output_type": "execute_result"
    }
   ],
   "source": [
    "remove_punctuation(phrase)"
   ]
  },
  {
   "cell_type": "code",
   "execution_count": 31,
   "metadata": {},
   "outputs": [
    {
     "data": {
      "text/plain": [
       "'hello <!>  I wanna remove *@ .,/ if possible <?> '"
      ]
     },
     "execution_count": 31,
     "metadata": {},
     "output_type": "execute_result"
    }
   ],
   "source": [
    "replace_exclimation(phrase)"
   ]
  },
  {
   "cell_type": "code",
   "execution_count": null,
   "metadata": {},
   "outputs": [],
   "source": [
    "%%time\n",
    "df_large['remove_punctuation'] = df_large.comment.apply(lambda x: remove_punctuation(x))\n",
    "df_large.drop(columns=['comment'], inplace=True)\n",
    "df_large.rename(columns={'remove_punctuation':'comment'}, inplace=True)\n",
    "df_large['replace_punctuation'] = df_large.comment.apply(lambda x: replace_exclimation(x))\n",
    "df_large.drop(columns=['comment'], inplace=True)\n",
    "df_large.rename(columns={'replace_punctuation':'comment'}, inplace=True)    "
   ]
  },
  {
   "cell_type": "code",
   "execution_count": null,
   "metadata": {},
   "outputs": [],
   "source": []
  },
  {
   "cell_type": "code",
   "execution_count": null,
   "metadata": {},
   "outputs": [],
   "source": []
  },
  {
   "cell_type": "code",
   "execution_count": null,
   "metadata": {},
   "outputs": [],
   "source": []
  }
 ],
 "metadata": {
  "kernelspec": {
   "display_name": "Python 3",
   "language": "python",
   "name": "python3"
  },
  "language_info": {
   "codemirror_mode": {
    "name": "ipython",
    "version": 3
   },
   "file_extension": ".py",
   "mimetype": "text/x-python",
   "name": "python",
   "nbconvert_exporter": "python",
   "pygments_lexer": "ipython3",
   "version": "3.6.5"
  }
 },
 "nbformat": 4,
 "nbformat_minor": 2
}
