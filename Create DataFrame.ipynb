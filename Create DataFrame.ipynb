{
 "cells": [
  {
   "cell_type": "code",
   "execution_count": 1,
   "metadata": {},
   "outputs": [],
   "source": [
    "import pandas as pd"
   ]
  },
  {
   "cell_type": "code",
   "execution_count": 11,
   "metadata": {},
   "outputs": [],
   "source": [
    "df = pd.DataFrame(columns=['word', 'word_index', 'average/std', 'percent_average', 'percent_std', 'rating', 'word_count', 'divisor', 'percent'])"
   ]
  },
  {
   "cell_type": "code",
   "execution_count": 12,
   "metadata": {},
   "outputs": [
    {
     "data": {
      "text/html": [
       "<div>\n",
       "<style scoped>\n",
       "    .dataframe tbody tr th:only-of-type {\n",
       "        vertical-align: middle;\n",
       "    }\n",
       "\n",
       "    .dataframe tbody tr th {\n",
       "        vertical-align: top;\n",
       "    }\n",
       "\n",
       "    .dataframe thead th {\n",
       "        text-align: right;\n",
       "    }\n",
       "</style>\n",
       "<table border=\"1\" class=\"dataframe\">\n",
       "  <thead>\n",
       "    <tr style=\"text-align: right;\">\n",
       "      <th></th>\n",
       "      <th>word</th>\n",
       "      <th>word_index</th>\n",
       "      <th>average/std</th>\n",
       "      <th>percent_average</th>\n",
       "      <th>percent_std</th>\n",
       "      <th>rating</th>\n",
       "      <th>word_count</th>\n",
       "      <th>divisor</th>\n",
       "      <th>percent</th>\n",
       "    </tr>\n",
       "  </thead>\n",
       "  <tbody>\n",
       "  </tbody>\n",
       "</table>\n",
       "</div>"
      ],
      "text/plain": [
       "Empty DataFrame\n",
       "Columns: [word, word_index, average/std, percent_average, percent_std, rating, word_count, divisor, percent]\n",
       "Index: []"
      ]
     },
     "execution_count": 12,
     "metadata": {},
     "output_type": "execute_result"
    }
   ],
   "source": [
    "df.head()"
   ]
  },
  {
   "cell_type": "code",
   "execution_count": 4,
   "metadata": {},
   "outputs": [],
   "source": [
    "data_to_populate = ['here.',\n",
    "  2.1398739848222044,\n",
    "  0.003597551157985037,\n",
    "  0.001681197670284284,\n",
    "  [[1, 10, 2219, 0.004506534474988734],\n",
    "   [2, 21, 4575, 0.0045901639344262295],\n",
    "   [3, 59, 8644, 0.0068255437297547435],\n",
    "   [4, 78, 15691, 0.004971002485501243],\n",
    "   [5, 140, 29252, 0.004785997538629837],\n",
    "   [6, 173, 61498, 0.0028130996129955444],\n",
    "   [7, 226, 113929, 0.0019836915973983796],\n",
    "   [8, 268, 126791, 0.0021137146958380326],\n",
    "   [9, 133, 71451, 0.0018614155155281243],\n",
    "   [10, 55, 36081, 0.0015243479947895013]]]"
   ]
  },
  {
   "cell_type": "code",
   "execution_count": 5,
   "metadata": {},
   "outputs": [
    {
     "data": {
      "text/plain": [
       "['here.',\n",
       " 2.1398739848222044,\n",
       " 0.003597551157985037,\n",
       " 0.001681197670284284,\n",
       " [[1, 10, 2219, 0.004506534474988734],\n",
       "  [2, 21, 4575, 0.0045901639344262295],\n",
       "  [3, 59, 8644, 0.0068255437297547435],\n",
       "  [4, 78, 15691, 0.004971002485501243],\n",
       "  [5, 140, 29252, 0.004785997538629837],\n",
       "  [6, 173, 61498, 0.0028130996129955444],\n",
       "  [7, 226, 113929, 0.0019836915973983796],\n",
       "  [8, 268, 126791, 0.0021137146958380326],\n",
       "  [9, 133, 71451, 0.0018614155155281243],\n",
       "  [10, 55, 36081, 0.0015243479947895013]]]"
      ]
     },
     "execution_count": 5,
     "metadata": {},
     "output_type": "execute_result"
    }
   ],
   "source": [
    "data_to_populate"
   ]
  },
  {
   "cell_type": "code",
   "execution_count": 13,
   "metadata": {},
   "outputs": [],
   "source": [
    "work = [['here.',1, 2.1398739848222044, 0.003597551157985037, 0.001681197670284284,None,None,None,None],\n",
    "[None,1,None,None,None,1, 10, 2219, 0.004506534474988734],\n",
    "[None,1,None,None,None,2, 21, 4575, 0.0045901639344262295],\n",
    "[None,1,None,None,None,3, 59, 8644, 0.0068255437297547435],\n",
    "[None,1,None,None,None,4, 78, 15691, 0.004971002485501243],\n",
    "[None,1,None,None,None,5, 140, 29252, 0.004785997538629837],\n",
    "[None,1,None,None,None,6, 173, 61498, 0.0028130996129955444],\n",
    "[None,1,None,None,None,7, 226, 113929, 0.0019836915973983796],\n",
    "[None,1,None,None,None,8, 268, 126791, 0.0021137146958380326],\n",
    "[None,1,None,None,None,9, 133, 71451, 0.0018614155155281243],\n",
    "[None,1,None,None,None,10, 55, 36081, 0.0015243479947895013]]"
   ]
  },
  {
   "cell_type": "code",
   "execution_count": 15,
   "metadata": {},
   "outputs": [
    {
     "data": {
      "text/plain": [
       "[['here.',\n",
       "  1,\n",
       "  2.1398739848222044,\n",
       "  0.003597551157985037,\n",
       "  0.001681197670284284,\n",
       "  None,\n",
       "  None,\n",
       "  None,\n",
       "  None],\n",
       " [None, 1, None, None, None, 1, 10, 2219, 0.004506534474988734],\n",
       " [None, 1, None, None, None, 2, 21, 4575, 0.0045901639344262295],\n",
       " [None, 1, None, None, None, 3, 59, 8644, 0.0068255437297547435],\n",
       " [None, 1, None, None, None, 4, 78, 15691, 0.004971002485501243],\n",
       " [None, 1, None, None, None, 5, 140, 29252, 0.004785997538629837],\n",
       " [None, 1, None, None, None, 6, 173, 61498, 0.0028130996129955444],\n",
       " [None, 1, None, None, None, 7, 226, 113929, 0.0019836915973983796],\n",
       " [None, 1, None, None, None, 8, 268, 126791, 0.0021137146958380326],\n",
       " [None, 1, None, None, None, 9, 133, 71451, 0.0018614155155281243],\n",
       " [None, 1, None, None, None, 10, 55, 36081, 0.0015243479947895013]]"
      ]
     },
     "execution_count": 15,
     "metadata": {},
     "output_type": "execute_result"
    }
   ],
   "source": [
    "work"
   ]
  },
  {
   "cell_type": "code",
   "execution_count": 16,
   "metadata": {},
   "outputs": [],
   "source": [
    "labels = ['word', 'word_index', 'average/std', 'percent_average', 'percent_std', 'rating', 'word_count', 'divisor', 'percent']"
   ]
  },
  {
   "cell_type": "code",
   "execution_count": 18,
   "metadata": {},
   "outputs": [],
   "source": [
    "df_add = pd.DataFrame.from_records(work, columns=labels)"
   ]
  },
  {
   "cell_type": "code",
   "execution_count": 19,
   "metadata": {},
   "outputs": [
    {
     "data": {
      "text/html": [
       "<div>\n",
       "<style scoped>\n",
       "    .dataframe tbody tr th:only-of-type {\n",
       "        vertical-align: middle;\n",
       "    }\n",
       "\n",
       "    .dataframe tbody tr th {\n",
       "        vertical-align: top;\n",
       "    }\n",
       "\n",
       "    .dataframe thead th {\n",
       "        text-align: right;\n",
       "    }\n",
       "</style>\n",
       "<table border=\"1\" class=\"dataframe\">\n",
       "  <thead>\n",
       "    <tr style=\"text-align: right;\">\n",
       "      <th></th>\n",
       "      <th>word</th>\n",
       "      <th>word_index</th>\n",
       "      <th>average/std</th>\n",
       "      <th>percent_average</th>\n",
       "      <th>percent_std</th>\n",
       "      <th>rating</th>\n",
       "      <th>word_count</th>\n",
       "      <th>divisor</th>\n",
       "      <th>percent</th>\n",
       "    </tr>\n",
       "  </thead>\n",
       "  <tbody>\n",
       "    <tr>\n",
       "      <th>0</th>\n",
       "      <td>here.</td>\n",
       "      <td>1</td>\n",
       "      <td>2.139874</td>\n",
       "      <td>0.003598</td>\n",
       "      <td>0.001681</td>\n",
       "      <td>NaN</td>\n",
       "      <td>NaN</td>\n",
       "      <td>NaN</td>\n",
       "      <td>NaN</td>\n",
       "    </tr>\n",
       "    <tr>\n",
       "      <th>1</th>\n",
       "      <td>None</td>\n",
       "      <td>1</td>\n",
       "      <td>NaN</td>\n",
       "      <td>NaN</td>\n",
       "      <td>NaN</td>\n",
       "      <td>1.0</td>\n",
       "      <td>10.0</td>\n",
       "      <td>2219.0</td>\n",
       "      <td>0.004507</td>\n",
       "    </tr>\n",
       "    <tr>\n",
       "      <th>2</th>\n",
       "      <td>None</td>\n",
       "      <td>1</td>\n",
       "      <td>NaN</td>\n",
       "      <td>NaN</td>\n",
       "      <td>NaN</td>\n",
       "      <td>2.0</td>\n",
       "      <td>21.0</td>\n",
       "      <td>4575.0</td>\n",
       "      <td>0.004590</td>\n",
       "    </tr>\n",
       "    <tr>\n",
       "      <th>3</th>\n",
       "      <td>None</td>\n",
       "      <td>1</td>\n",
       "      <td>NaN</td>\n",
       "      <td>NaN</td>\n",
       "      <td>NaN</td>\n",
       "      <td>3.0</td>\n",
       "      <td>59.0</td>\n",
       "      <td>8644.0</td>\n",
       "      <td>0.006826</td>\n",
       "    </tr>\n",
       "    <tr>\n",
       "      <th>4</th>\n",
       "      <td>None</td>\n",
       "      <td>1</td>\n",
       "      <td>NaN</td>\n",
       "      <td>NaN</td>\n",
       "      <td>NaN</td>\n",
       "      <td>4.0</td>\n",
       "      <td>78.0</td>\n",
       "      <td>15691.0</td>\n",
       "      <td>0.004971</td>\n",
       "    </tr>\n",
       "    <tr>\n",
       "      <th>5</th>\n",
       "      <td>None</td>\n",
       "      <td>1</td>\n",
       "      <td>NaN</td>\n",
       "      <td>NaN</td>\n",
       "      <td>NaN</td>\n",
       "      <td>5.0</td>\n",
       "      <td>140.0</td>\n",
       "      <td>29252.0</td>\n",
       "      <td>0.004786</td>\n",
       "    </tr>\n",
       "    <tr>\n",
       "      <th>6</th>\n",
       "      <td>None</td>\n",
       "      <td>1</td>\n",
       "      <td>NaN</td>\n",
       "      <td>NaN</td>\n",
       "      <td>NaN</td>\n",
       "      <td>6.0</td>\n",
       "      <td>173.0</td>\n",
       "      <td>61498.0</td>\n",
       "      <td>0.002813</td>\n",
       "    </tr>\n",
       "    <tr>\n",
       "      <th>7</th>\n",
       "      <td>None</td>\n",
       "      <td>1</td>\n",
       "      <td>NaN</td>\n",
       "      <td>NaN</td>\n",
       "      <td>NaN</td>\n",
       "      <td>7.0</td>\n",
       "      <td>226.0</td>\n",
       "      <td>113929.0</td>\n",
       "      <td>0.001984</td>\n",
       "    </tr>\n",
       "    <tr>\n",
       "      <th>8</th>\n",
       "      <td>None</td>\n",
       "      <td>1</td>\n",
       "      <td>NaN</td>\n",
       "      <td>NaN</td>\n",
       "      <td>NaN</td>\n",
       "      <td>8.0</td>\n",
       "      <td>268.0</td>\n",
       "      <td>126791.0</td>\n",
       "      <td>0.002114</td>\n",
       "    </tr>\n",
       "    <tr>\n",
       "      <th>9</th>\n",
       "      <td>None</td>\n",
       "      <td>1</td>\n",
       "      <td>NaN</td>\n",
       "      <td>NaN</td>\n",
       "      <td>NaN</td>\n",
       "      <td>9.0</td>\n",
       "      <td>133.0</td>\n",
       "      <td>71451.0</td>\n",
       "      <td>0.001861</td>\n",
       "    </tr>\n",
       "    <tr>\n",
       "      <th>10</th>\n",
       "      <td>None</td>\n",
       "      <td>1</td>\n",
       "      <td>NaN</td>\n",
       "      <td>NaN</td>\n",
       "      <td>NaN</td>\n",
       "      <td>10.0</td>\n",
       "      <td>55.0</td>\n",
       "      <td>36081.0</td>\n",
       "      <td>0.001524</td>\n",
       "    </tr>\n",
       "  </tbody>\n",
       "</table>\n",
       "</div>"
      ],
      "text/plain": [
       "     word  word_index  average/std  percent_average  percent_std  rating  \\\n",
       "0   here.           1     2.139874         0.003598     0.001681     NaN   \n",
       "1    None           1          NaN              NaN          NaN     1.0   \n",
       "2    None           1          NaN              NaN          NaN     2.0   \n",
       "3    None           1          NaN              NaN          NaN     3.0   \n",
       "4    None           1          NaN              NaN          NaN     4.0   \n",
       "5    None           1          NaN              NaN          NaN     5.0   \n",
       "6    None           1          NaN              NaN          NaN     6.0   \n",
       "7    None           1          NaN              NaN          NaN     7.0   \n",
       "8    None           1          NaN              NaN          NaN     8.0   \n",
       "9    None           1          NaN              NaN          NaN     9.0   \n",
       "10   None           1          NaN              NaN          NaN    10.0   \n",
       "\n",
       "    word_count   divisor   percent  \n",
       "0          NaN       NaN       NaN  \n",
       "1         10.0    2219.0  0.004507  \n",
       "2         21.0    4575.0  0.004590  \n",
       "3         59.0    8644.0  0.006826  \n",
       "4         78.0   15691.0  0.004971  \n",
       "5        140.0   29252.0  0.004786  \n",
       "6        173.0   61498.0  0.002813  \n",
       "7        226.0  113929.0  0.001984  \n",
       "8        268.0  126791.0  0.002114  \n",
       "9        133.0   71451.0  0.001861  \n",
       "10        55.0   36081.0  0.001524  "
      ]
     },
     "execution_count": 19,
     "metadata": {},
     "output_type": "execute_result"
    }
   ],
   "source": [
    "df_add"
   ]
  },
  {
   "cell_type": "code",
   "execution_count": null,
   "metadata": {},
   "outputs": [],
   "source": []
  }
 ],
 "metadata": {
  "kernelspec": {
   "display_name": "Python 3",
   "language": "python",
   "name": "python3"
  },
  "language_info": {
   "codemirror_mode": {
    "name": "ipython",
    "version": 3
   },
   "file_extension": ".py",
   "mimetype": "text/x-python",
   "name": "python",
   "nbconvert_exporter": "python",
   "pygments_lexer": "ipython3",
   "version": "3.6.5"
  }
 },
 "nbformat": 4,
 "nbformat_minor": 2
}
