{
 "cells": [
  {
   "cell_type": "code",
   "execution_count": 1,
   "metadata": {},
   "outputs": [],
   "source": [
    "import pandas as pd\n",
    "import matplotlib.pyplot as plt\n",
    "import numpy as np\n",
    "import time\n",
    "import operator\n",
    "from collections import Counter\n",
    "from operator import itemgetter"
   ]
  },
  {
   "cell_type": "code",
   "execution_count": 2,
   "metadata": {},
   "outputs": [],
   "source": [
    "df_small = pd.read_csv('../data/small_sample.csv')\n",
    "df = pd.read_csv('../data/large_sample.csv')\n",
    "df_small.drop(columns=['Unnamed: 0'], inplace=True)\n",
    "df.drop(columns=['Unnamed: 0'], inplace=True)\n",
    "df.rating = np.ceil(df.rating)\n",
    "df_small.rating = np.ceil(df_small.rating)"
   ]
  },
  {
   "cell_type": "code",
   "execution_count": 3,
   "metadata": {},
   "outputs": [],
   "source": [
    "def create_count(comment):\n",
    "    for x in comment.split(' '):\n",
    "        if x in di:\n",
    "            di[x.lower()] += 1\n",
    "        else:\n",
    "            di[x.lower()] = 1\n",
    "    return di"
   ]
  },
  {
   "cell_type": "code",
   "execution_count": 4,
   "metadata": {},
   "outputs": [
    {
     "name": "stdout",
     "output_type": "stream",
     "text": [
      "CPU times: user 43.3 s, sys: 650 ms, total: 44 s\n",
      "Wall time: 45.4 s\n"
     ]
    }
   ],
   "source": [
    "%%time\n",
    "di = dict()\n",
    "df.loc[df.rating == 1].loc[df.comment.apply(lambda x: len(x.split(' ')))<30].comment.apply(create_count)\n",
    "one_dict = di\n",
    "di = dict()\n",
    "df.loc[df.rating == 2].loc[df.comment.apply(lambda x: len(x.split(' ')))<30].comment.apply(create_count)\n",
    "two_dict = di\n",
    "di = dict()\n",
    "df.loc[df.rating == 3].loc[df.comment.apply(lambda x: len(x.split(' ')))<30].comment.apply(create_count)\n",
    "three_dict = di\n",
    "di = dict()\n",
    "df.loc[df.rating == 4].loc[df.comment.apply(lambda x: len(x.split(' ')))<30].comment.apply(create_count)\n",
    "four_dict = di\n",
    "di = dict()\n",
    "df.loc[df.rating == 5].loc[df.comment.apply(lambda x: len(x.split(' ')))<30].comment.apply(create_count)\n",
    "five_dict = di\n",
    "di = dict()\n",
    "df.loc[df.rating == 6].loc[df.comment.apply(lambda x: len(x.split(' ')))<30].comment.apply(create_count)\n",
    "six_dict = di\n",
    "di = dict()\n",
    "df.loc[df.rating == 7].loc[df.comment.apply(lambda x: len(x.split(' ')))<30].comment.apply(create_count)\n",
    "seven_dict = di\n",
    "di = dict()\n",
    "df.loc[df.rating == 8].loc[df.comment.apply(lambda x: len(x.split(' ')))<30].comment.apply(create_count)\n",
    "eight_dict = di\n",
    "di = dict()\n",
    "df.loc[df.rating == 9].loc[df.comment.apply(lambda x: len(x.split(' ')))<30].comment.apply(create_count)\n",
    "nine_dict = di\n",
    "di = dict()\n",
    "df.loc[df.rating == 10].loc[df.comment.apply(lambda x: len(x.split(' ')))<30].comment.apply(create_count)\n",
    "ten_dict = di"
   ]
  },
  {
   "cell_type": "code",
   "execution_count": 5,
   "metadata": {},
   "outputs": [
    {
     "name": "stdout",
     "output_type": "stream",
     "text": [
      "CPU times: user 34.9 ms, sys: 6.53 ms, total: 41.4 ms\n",
      "Wall time: 43.9 ms\n"
     ]
    }
   ],
   "source": [
    "%%time\n",
    "one_counter = Counter(one_dict)\n",
    "two_counter = Counter(two_dict)\n",
    "three_counter = Counter(three_dict)\n",
    "four_counter = Counter(four_dict)\n",
    "five_counter = Counter(five_dict)\n",
    "six_counter = Counter(six_dict)\n",
    "seven_counter = Counter(seven_dict)\n",
    "eight_counter = Counter(eight_dict)\n",
    "nine_counter = Counter(nine_dict)\n",
    "ten_counter = Counter(ten_dict)"
   ]
  },
  {
   "cell_type": "code",
   "execution_count": 6,
   "metadata": {},
   "outputs": [],
   "source": [
    "all_counter = one_counter + two_counter + three_counter + four_counter + five_counter + six_counter + seven_counter + eight_counter + nine_counter + ten_counter"
   ]
  },
  {
   "cell_type": "code",
   "execution_count": 7,
   "metadata": {},
   "outputs": [],
   "source": [
    "all_dict = dict(Counter(all_counter))"
   ]
  },
  {
   "cell_type": "code",
   "execution_count": 8,
   "metadata": {},
   "outputs": [
    {
     "name": "stdout",
     "output_type": "stream",
     "text": [
      "CPU times: user 25 ms, sys: 1.26 ms, total: 26.3 ms\n",
      "Wall time: 25.6 ms\n"
     ]
    }
   ],
   "source": [
    "%%time\n",
    "new_data = {k: v for k, v in all_dict.items() if v > 5}"
   ]
  },
  {
   "cell_type": "code",
   "execution_count": 9,
   "metadata": {},
   "outputs": [
    {
     "name": "stdout",
     "output_type": "stream",
     "text": [
      "CPU times: user 1min 40s, sys: 615 ms, total: 1min 40s\n",
      "Wall time: 1min 43s\n"
     ]
    }
   ],
   "source": [
    "%%time\n",
    "sortedList=sorted(new_data.values())\n",
    "sorted_dict = dict()\n",
    "for sortedKey in sortedList:\n",
    "    for key, value in new_data.items():\n",
    "        if value==sortedKey:\n",
    "            sorted_dict[key]=value"
   ]
  },
  {
   "cell_type": "code",
   "execution_count": 10,
   "metadata": {},
   "outputs": [
    {
     "name": "stdout",
     "output_type": "stream",
     "text": [
      "CPU times: user 38.6 ms, sys: 12.5 ms, total: 51.1 ms\n",
      "Wall time: 50.1 ms\n"
     ]
    }
   ],
   "source": [
    "%%time\n",
    "dict_list = []\n",
    "for key, value in sorted_dict.items():\n",
    "    temp = [key,value]\n",
    "    dict_list.append(temp)"
   ]
  },
  {
   "cell_type": "code",
   "execution_count": 11,
   "metadata": {},
   "outputs": [],
   "source": [
    "testing_df = df.loc[df.comment.apply(lambda x: len(x.split(' ')))<30].copy()"
   ]
  },
  {
   "cell_type": "code",
   "execution_count": 12,
   "metadata": {},
   "outputs": [],
   "source": [
    "def make_it_lower(comment):\n",
    "    new_comment = []\n",
    "    for x in comment.split(' '):\n",
    "        new_comment.append(x.lower())\n",
    "    return ' '.join(new_comment)"
   ]
  },
  {
   "cell_type": "code",
   "execution_count": 13,
   "metadata": {},
   "outputs": [
    {
     "name": "stdout",
     "output_type": "stream",
     "text": [
      "CPU times: user 3.76 s, sys: 116 ms, total: 3.88 s\n",
      "Wall time: 4.12 s\n"
     ]
    }
   ],
   "source": [
    "%%time\n",
    "testing_df['lower_comment'] = testing_df.comment.apply(lambda x: make_it_lower(x))\n",
    "testing_df.drop(columns=['comment'], inplace=True)\n",
    "testing_df.rename(columns={'lower_comment':'comment'}, inplace=True)"
   ]
  },
  {
   "cell_type": "code",
   "execution_count": 14,
   "metadata": {},
   "outputs": [],
   "source": [
    "def word_count(comment):\n",
    "    if word[0] in comment.split(' '):\n",
    "        if word[0] in number:\n",
    "            number[word[0]] += comment.split(' ').count(word[0])\n",
    "        else:\n",
    "            number[word[0]] = comment.split(' ').count(word[0])"
   ]
  },
  {
   "cell_type": "code",
   "execution_count": 15,
   "metadata": {},
   "outputs": [
    {
     "name": "stdout",
     "output_type": "stream",
     "text": [
      "CPU times: user 6 µs, sys: 0 ns, total: 6 µs\n",
      "Wall time: 11 µs\n"
     ]
    }
   ],
   "source": [
    "%%time\n",
    "def make_report(w,z):\n",
    "    labels = ['word', 'average/std', 'percent_average', 'percent_std', 'rating', 'word_count', 'divisor', 'percent']\n",
    "    to_return = pd.DataFrame(columns=labels)\n",
    "    error = []\n",
    "    for word in dict_list[int(w):int(z)]:\n",
    "        print(word)\n",
    "        try:\n",
    "            to_append = []\n",
    "            std = 0\n",
    "            average = 0\n",
    "            for y in range(1,11):\n",
    "                print(y)\n",
    "                number = dict()\n",
    "                testing_df.loc[testing_df.rating == y].comment.apply(word_count, word=word, number=number)\n",
    "                divisor = testing_df.loc[df.rating == y].comment.count()\n",
    "                percent = number[word[0]]/divisor\n",
    "                to_append.append([word[0], None, None, None, y, number[word[0]], divisor, percent])\n",
    "#             print(to_append)\n",
    "            for_array = []\n",
    "            for value in to_append:\n",
    "                for_array.append(value[7])\n",
    "            x = np.array(for_array)\n",
    "            array1 = [[word[0], (np.sum(x)/10)/(np.std(x)), np.sum(x)/10, np.std(x), None, None, None, None]]\n",
    "            for x in to_append:\n",
    "                array1.append(x)\n",
    "            inbetween_df = pd.DataFrame.from_records(array1, columns=labels)\n",
    "#             print('not working')\n",
    "#             print(inbetween_df.head())\n",
    "            print(to_return.head())\n",
    "            to_return = pd.concat([to_return, inbetween_df])\n",
    "#             print('inside')\n",
    "        except KeyError:\n",
    "            error.append(word[0])\n",
    "            continue\n",
    "    return to_return, error"
   ]
  },
  {
   "cell_type": "code",
   "execution_count": 16,
   "metadata": {},
   "outputs": [
    {
     "name": "stdout",
     "output_type": "stream",
     "text": [
      "['denominator', 6]\n",
      "1\n"
     ]
    },
    {
     "ename": "TypeError",
     "evalue": "word_count() got an unexpected keyword argument 'word'",
     "output_type": "error",
     "traceback": [
      "\u001b[0;31m---------------------------------------------------------------------------\u001b[0m",
      "\u001b[0;31mTypeError\u001b[0m                                 Traceback (most recent call last)",
      "\u001b[0;32m<timed exec>\u001b[0m in \u001b[0;36m<module>\u001b[0;34m()\u001b[0m\n",
      "\u001b[0;32m<timed exec>\u001b[0m in \u001b[0;36mmake_report\u001b[0;34m(w, z)\u001b[0m\n",
      "\u001b[0;32m/usr/local/lib/python3.6/site-packages/pandas/core/series.py\u001b[0m in \u001b[0;36mapply\u001b[0;34m(self, func, convert_dtype, args, **kwds)\u001b[0m\n\u001b[1;32m   2549\u001b[0m             \u001b[0;32melse\u001b[0m\u001b[0;34m:\u001b[0m\u001b[0;34m\u001b[0m\u001b[0m\n\u001b[1;32m   2550\u001b[0m                 \u001b[0mvalues\u001b[0m \u001b[0;34m=\u001b[0m \u001b[0mself\u001b[0m\u001b[0;34m.\u001b[0m\u001b[0masobject\u001b[0m\u001b[0;34m\u001b[0m\u001b[0m\n\u001b[0;32m-> 2551\u001b[0;31m                 \u001b[0mmapped\u001b[0m \u001b[0;34m=\u001b[0m \u001b[0mlib\u001b[0m\u001b[0;34m.\u001b[0m\u001b[0mmap_infer\u001b[0m\u001b[0;34m(\u001b[0m\u001b[0mvalues\u001b[0m\u001b[0;34m,\u001b[0m \u001b[0mf\u001b[0m\u001b[0;34m,\u001b[0m \u001b[0mconvert\u001b[0m\u001b[0;34m=\u001b[0m\u001b[0mconvert_dtype\u001b[0m\u001b[0;34m)\u001b[0m\u001b[0;34m\u001b[0m\u001b[0m\n\u001b[0m\u001b[1;32m   2552\u001b[0m \u001b[0;34m\u001b[0m\u001b[0m\n\u001b[1;32m   2553\u001b[0m         \u001b[0;32mif\u001b[0m \u001b[0mlen\u001b[0m\u001b[0;34m(\u001b[0m\u001b[0mmapped\u001b[0m\u001b[0;34m)\u001b[0m \u001b[0;32mand\u001b[0m \u001b[0misinstance\u001b[0m\u001b[0;34m(\u001b[0m\u001b[0mmapped\u001b[0m\u001b[0;34m[\u001b[0m\u001b[0;36m0\u001b[0m\u001b[0;34m]\u001b[0m\u001b[0;34m,\u001b[0m \u001b[0mSeries\u001b[0m\u001b[0;34m)\u001b[0m\u001b[0;34m:\u001b[0m\u001b[0;34m\u001b[0m\u001b[0m\n",
      "\u001b[0;32mpandas/_libs/src/inference.pyx\u001b[0m in \u001b[0;36mpandas._libs.lib.map_infer\u001b[0;34m()\u001b[0m\n",
      "\u001b[0;32m/usr/local/lib/python3.6/site-packages/pandas/core/series.py\u001b[0m in \u001b[0;36m<lambda>\u001b[0;34m(x)\u001b[0m\n\u001b[1;32m   2536\u001b[0m         \u001b[0;31m# handle ufuncs and lambdas\u001b[0m\u001b[0;34m\u001b[0m\u001b[0;34m\u001b[0m\u001b[0m\n\u001b[1;32m   2537\u001b[0m         \u001b[0;32mif\u001b[0m \u001b[0mkwds\u001b[0m \u001b[0;32mor\u001b[0m \u001b[0margs\u001b[0m \u001b[0;32mand\u001b[0m \u001b[0;32mnot\u001b[0m \u001b[0misinstance\u001b[0m\u001b[0;34m(\u001b[0m\u001b[0mfunc\u001b[0m\u001b[0;34m,\u001b[0m \u001b[0mnp\u001b[0m\u001b[0;34m.\u001b[0m\u001b[0mufunc\u001b[0m\u001b[0;34m)\u001b[0m\u001b[0;34m:\u001b[0m\u001b[0;34m\u001b[0m\u001b[0m\n\u001b[0;32m-> 2538\u001b[0;31m             \u001b[0mf\u001b[0m \u001b[0;34m=\u001b[0m \u001b[0;32mlambda\u001b[0m \u001b[0mx\u001b[0m\u001b[0;34m:\u001b[0m \u001b[0mfunc\u001b[0m\u001b[0;34m(\u001b[0m\u001b[0mx\u001b[0m\u001b[0;34m,\u001b[0m \u001b[0;34m*\u001b[0m\u001b[0margs\u001b[0m\u001b[0;34m,\u001b[0m \u001b[0;34m**\u001b[0m\u001b[0mkwds\u001b[0m\u001b[0;34m)\u001b[0m\u001b[0;34m\u001b[0m\u001b[0m\n\u001b[0m\u001b[1;32m   2539\u001b[0m         \u001b[0;32melse\u001b[0m\u001b[0;34m:\u001b[0m\u001b[0;34m\u001b[0m\u001b[0m\n\u001b[1;32m   2540\u001b[0m             \u001b[0mf\u001b[0m \u001b[0;34m=\u001b[0m \u001b[0mfunc\u001b[0m\u001b[0;34m\u001b[0m\u001b[0m\n",
      "\u001b[0;31mTypeError\u001b[0m: word_count() got an unexpected keyword argument 'word'"
     ]
    }
   ],
   "source": [
    "%%time\n",
    "report = make_report(0,100)"
   ]
  },
  {
   "cell_type": "code",
   "execution_count": null,
   "metadata": {},
   "outputs": [],
   "source": []
  }
 ],
 "metadata": {
  "kernelspec": {
   "display_name": "Python 3",
   "language": "python",
   "name": "python3"
  },
  "language_info": {
   "codemirror_mode": {
    "name": "ipython",
    "version": 3
   },
   "file_extension": ".py",
   "mimetype": "text/x-python",
   "name": "python",
   "nbconvert_exporter": "python",
   "pygments_lexer": "ipython3",
   "version": "3.6.5"
  }
 },
 "nbformat": 4,
 "nbformat_minor": 2
}
