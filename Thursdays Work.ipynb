{
 "cells": [
  {
   "cell_type": "code",
   "execution_count": 6,
   "metadata": {},
   "outputs": [],
   "source": [
    "import pandas as pd\n",
    "import math\n",
    "import numpy as np\n",
    "import matplotlib.pyplot as plt"
   ]
  },
  {
   "cell_type": "code",
   "execution_count": 7,
   "metadata": {},
   "outputs": [],
   "source": [
    "df = pd.read_csv('new_normalized_data.csv')\n",
    "df.drop(columns=['Unnamed: 0'], inplace=True)"
   ]
  },
  {
   "cell_type": "code",
   "execution_count": 8,
   "metadata": {},
   "outputs": [],
   "source": [
    "df = df.loc[df.average_std < 1.5]"
   ]
  },
  {
   "cell_type": "code",
   "execution_count": 9,
   "metadata": {},
   "outputs": [],
   "source": [
    "testing = df.loc[df.word.isin(['worst','love', 'diseases', 'ultimate'])]\n",
    "testing = testing.reset_index(drop=True)"
   ]
  },
  {
   "cell_type": "code",
   "execution_count": 10,
   "metadata": {},
   "outputs": [],
   "source": [
    "def write_normialized_statistics(series, df):\n",
    "    mean_total = 0\n",
    "    median_total = 0\n",
    "    mode_total = 0\n",
    "    mode = 0\n",
    "    counter = 0\n",
    "    stop_median = 0\n",
    "    for x in series:\n",
    "        if counter > 0:\n",
    "            mean_total += counter*x\n",
    "            median_total += x\n",
    "            if (median_total >= 50 and stop_median == 0):\n",
    "                df.loc[(df.word == series.name) & (df.type == 1), 'median'] = counter\n",
    "                stop_median = 1\n",
    "            if x > mode_total:\n",
    "                mode_total = x\n",
    "                mode = counter\n",
    "        counter += 1\n",
    "    df.loc[(df.word == series.name) & (df.type == 1), 'mean'] = mean_total/100\n",
    "    df.loc[(df.word == series.name) & (df.type == 1), 'mode'] = mode"
   ]
  },
  {
   "cell_type": "code",
   "execution_count": 11,
   "metadata": {},
   "outputs": [
    {
     "name": "stdout",
     "output_type": "stream",
     "text": [
      "CPU times: user 81.8 ms, sys: 5.89 ms, total: 87.7 ms\n",
      "Wall time: 105 ms\n"
     ]
    },
    {
     "data": {
      "text/plain": [
       "word\n",
       "diseases    None\n",
       "love        None\n",
       "ultimate    None\n",
       "worst       None\n",
       "Name: normilized_percent, dtype: object"
      ]
     },
     "execution_count": 11,
     "metadata": {},
     "output_type": "execute_result"
    }
   ],
   "source": [
    "%%time\n",
    "testing.groupby(testing.word).normilized_percent.apply(write_normialized_statistics, df=testing)"
   ]
  },
  {
   "cell_type": "code",
   "execution_count": 12,
   "metadata": {},
   "outputs": [
    {
     "name": "stdout",
     "output_type": "stream",
     "text": [
      "CPU times: user 46.6 s, sys: 392 ms, total: 47 s\n",
      "Wall time: 47.4 s\n"
     ]
    },
    {
     "data": {
      "text/plain": [
       "word\n",
       "'nuff                    None\n",
       "'take                    None\n",
       "'the                     None\n",
       "----                     None\n",
       "-1                       None\n",
       "-limited                 None\n",
       "0                        None\n",
       "01                       None\n",
       "05                       None\n",
       "09                       None\n",
       "1-4                      None\n",
       "1-5                      None\n",
       "1-6                      None\n",
       "1-8                      None\n",
       "10                       None\n",
       "10-15                    None\n",
       "1010                     None\n",
       "10th                     None\n",
       "11                       None\n",
       "110                      None\n",
       "15-20                    None\n",
       "150                      None\n",
       "16                       None\n",
       "18                       None\n",
       "18xx                     None\n",
       "1910                     None\n",
       "1960                     None\n",
       "1995                     None\n",
       "1999                     None\n",
       "1v1                      None\n",
       "                         ... \n",
       "workerplacement          None\n",
       "worlds                   None\n",
       "worn                     None\n",
       "worried                  None\n",
       "worse                    None\n",
       "worst                    None\n",
       "wow                      None\n",
       "writing                  None\n",
       "ww2                      None\n",
       "wwwbrettspillguidenno    None\n",
       "xbox                     None\n",
       "xmas                     None\n",
       "yatzee                   None\n",
       "yawn                     None\n",
       "yelling                  None\n",
       "youngest                 None\n",
       "youth                    None\n",
       "youtube                  None\n",
       "yr                       None\n",
       "yucata                   None\n",
       "yucatade                 None\n",
       "yuck                     None\n",
       "z-man                    None\n",
       "zero                     None\n",
       "zoo                      None\n",
       "zooloretto               None\n",
       "–                        None\n",
       "•                        None\n",
       "−                        None\n",
       "✔                        None\n",
       "Name: normilized_percent, Length: 2088, dtype: object"
      ]
     },
     "execution_count": 12,
     "metadata": {},
     "output_type": "execute_result"
    }
   ],
   "source": [
    "%%time\n",
    "df.groupby(df.word).normilized_percent.apply(write_normialized_statistics, df=df)"
   ]
  },
  {
   "cell_type": "code",
   "execution_count": 13,
   "metadata": {},
   "outputs": [],
   "source": [
    "df.to_csv('new_normalized_data.csv')"
   ]
  },
  {
   "cell_type": "code",
   "execution_count": 14,
   "metadata": {},
   "outputs": [],
   "source": [
    "df['zeros'] = 0\n",
    "df['total_word_count'] = 0\n",
    "testing['zeros'] = 0\n",
    "testing['total_word_count'] = 0"
   ]
  },
  {
   "cell_type": "code",
   "execution_count": 15,
   "metadata": {},
   "outputs": [],
   "source": [
    "def values_with_zeros_and_total_word_count(series, df):\n",
    "    counter = 0\n",
    "    number_of_zeros = 0\n",
    "    total_words = 0\n",
    "    for x in series:\n",
    "        if (counter > 0):\n",
    "            if (x < 2):\n",
    "                number_of_zeros += 1\n",
    "            total_words += x\n",
    "        counter +=1\n",
    "    df.loc[(df.word == series.name) & (df.type == 1), 'zeros'] = number_of_zeros\n",
    "    df.loc[(df.word == series.name) & (df.type == 1), 'total_word_count'] = total_words"
   ]
  },
  {
   "cell_type": "code",
   "execution_count": 16,
   "metadata": {},
   "outputs": [
    {
     "name": "stdout",
     "output_type": "stream",
     "text": [
      "CPU times: user 33.2 s, sys: 276 ms, total: 33.4 s\n",
      "Wall time: 33.7 s\n"
     ]
    },
    {
     "data": {
      "text/plain": [
       "word\n",
       "'nuff                    None\n",
       "'take                    None\n",
       "'the                     None\n",
       "----                     None\n",
       "-1                       None\n",
       "-limited                 None\n",
       "0                        None\n",
       "01                       None\n",
       "05                       None\n",
       "09                       None\n",
       "1-4                      None\n",
       "1-5                      None\n",
       "1-6                      None\n",
       "1-8                      None\n",
       "10                       None\n",
       "10-15                    None\n",
       "1010                     None\n",
       "10th                     None\n",
       "11                       None\n",
       "110                      None\n",
       "15-20                    None\n",
       "150                      None\n",
       "16                       None\n",
       "18                       None\n",
       "18xx                     None\n",
       "1910                     None\n",
       "1960                     None\n",
       "1995                     None\n",
       "1999                     None\n",
       "1v1                      None\n",
       "                         ... \n",
       "workerplacement          None\n",
       "worlds                   None\n",
       "worn                     None\n",
       "worried                  None\n",
       "worse                    None\n",
       "worst                    None\n",
       "wow                      None\n",
       "writing                  None\n",
       "ww2                      None\n",
       "wwwbrettspillguidenno    None\n",
       "xbox                     None\n",
       "xmas                     None\n",
       "yatzee                   None\n",
       "yawn                     None\n",
       "yelling                  None\n",
       "youngest                 None\n",
       "youth                    None\n",
       "youtube                  None\n",
       "yr                       None\n",
       "yucata                   None\n",
       "yucatade                 None\n",
       "yuck                     None\n",
       "z-man                    None\n",
       "zero                     None\n",
       "zoo                      None\n",
       "zooloretto               None\n",
       "–                        None\n",
       "•                        None\n",
       "−                        None\n",
       "✔                        None\n",
       "Name: word_count, Length: 2088, dtype: object"
      ]
     },
     "execution_count": 16,
     "metadata": {},
     "output_type": "execute_result"
    }
   ],
   "source": [
    "%%time\n",
    "df.groupby(df.word).word_count.apply(values_with_zeros_and_total_word_count, df=df)"
   ]
  },
  {
   "cell_type": "code",
   "execution_count": 17,
   "metadata": {},
   "outputs": [],
   "source": [
    "words = df.loc[df.type == 1]"
   ]
  },
  {
   "cell_type": "code",
   "execution_count": 18,
   "metadata": {},
   "outputs": [],
   "source": [
    "words.to_csv('words.csv')"
   ]
  },
  {
   "cell_type": "code",
   "execution_count": 19,
   "metadata": {},
   "outputs": [],
   "source": [
    "df = pd.read_csv('words.csv')\n",
    "df = df.drop(columns=['Unnamed: 0'])"
   ]
  },
  {
   "cell_type": "code",
   "execution_count": 20,
   "metadata": {},
   "outputs": [],
   "source": [
    "df = df.sort_values(by=['average_std'])"
   ]
  },
  {
   "cell_type": "code",
   "execution_count": 21,
   "metadata": {},
   "outputs": [],
   "source": [
    "cols = df.columns.tolist()"
   ]
  },
  {
   "cell_type": "code",
   "execution_count": 22,
   "metadata": {},
   "outputs": [],
   "source": [
    "cols = ['word',\n",
    " 'total_word_count',\n",
    " 'zeros',\n",
    " 'average_std',\n",
    " 'mean',\n",
    " 'median',\n",
    " 'mode',\n",
    " 'percent_average',\n",
    " 'percent_std',\n",
    " 'rating',\n",
    " 'word_count',\n",
    " 'divisor',\n",
    " 'percent',\n",
    " 'type',\n",
    " 'normilization_divisor',\n",
    " 'normilized_percent']"
   ]
  },
  {
   "cell_type": "code",
   "execution_count": 23,
   "metadata": {},
   "outputs": [],
   "source": [
    "df = df[cols]"
   ]
  },
  {
   "cell_type": "code",
   "execution_count": 24,
   "metadata": {},
   "outputs": [],
   "source": [
    "df = df.drop(columns=['rating', 'word_count', 'divisor', 'percent'])"
   ]
  },
  {
   "cell_type": "code",
   "execution_count": 25,
   "metadata": {},
   "outputs": [],
   "source": [
    "df = df.drop(columns=['normilized_percent', 'type', 'normilization_divisor', 'percent_std'])"
   ]
  },
  {
   "cell_type": "code",
   "execution_count": 26,
   "metadata": {},
   "outputs": [],
   "source": [
    "df['new'] = df.percent_average.apply(lambda x: x*100)"
   ]
  },
  {
   "cell_type": "code",
   "execution_count": 27,
   "metadata": {},
   "outputs": [],
   "source": [
    "df = df.drop(columns=['percent_average'])"
   ]
  },
  {
   "cell_type": "code",
   "execution_count": 28,
   "metadata": {},
   "outputs": [],
   "source": [
    "df['percent_average'] = df.new.apply(lambda x: x*100)"
   ]
  },
  {
   "cell_type": "code",
   "execution_count": 29,
   "metadata": {},
   "outputs": [],
   "source": [
    "df = df.drop(columns=['new'])"
   ]
  },
  {
   "cell_type": "code",
   "execution_count": 30,
   "metadata": {},
   "outputs": [],
   "source": [
    "df = df.sort_values(by=['percent_average'],ascending=False)"
   ]
  },
  {
   "cell_type": "code",
   "execution_count": 31,
   "metadata": {},
   "outputs": [
    {
     "data": {
      "text/html": [
       "<div>\n",
       "<style scoped>\n",
       "    .dataframe tbody tr th:only-of-type {\n",
       "        vertical-align: middle;\n",
       "    }\n",
       "\n",
       "    .dataframe tbody tr th {\n",
       "        vertical-align: top;\n",
       "    }\n",
       "\n",
       "    .dataframe thead th {\n",
       "        text-align: right;\n",
       "    }\n",
       "</style>\n",
       "<table border=\"1\" class=\"dataframe\">\n",
       "  <thead>\n",
       "    <tr style=\"text-align: right;\">\n",
       "      <th></th>\n",
       "      <th>word</th>\n",
       "      <th>total_word_count</th>\n",
       "      <th>zeros</th>\n",
       "      <th>average_std</th>\n",
       "      <th>mean</th>\n",
       "      <th>median</th>\n",
       "      <th>mode</th>\n",
       "      <th>percent_average</th>\n",
       "    </tr>\n",
       "  </thead>\n",
       "  <tbody>\n",
       "    <tr>\n",
       "      <th>1289</th>\n",
       "      <td>great</td>\n",
       "      <td>53725.0</td>\n",
       "      <td>0</td>\n",
       "      <td>1.290807</td>\n",
       "      <td>7.562748</td>\n",
       "      <td>8</td>\n",
       "      <td>9</td>\n",
       "      <td>758.046962</td>\n",
       "    </tr>\n",
       "    <tr>\n",
       "      <th>1288</th>\n",
       "      <td>love</td>\n",
       "      <td>22575.0</td>\n",
       "      <td>0</td>\n",
       "      <td>1.076059</td>\n",
       "      <td>7.806826</td>\n",
       "      <td>9</td>\n",
       "      <td>10</td>\n",
       "      <td>376.468269</td>\n",
       "    </tr>\n",
       "    <tr>\n",
       "      <th>1133</th>\n",
       "      <td>boring</td>\n",
       "      <td>5024.0</td>\n",
       "      <td>0</td>\n",
       "      <td>1.040698</td>\n",
       "      <td>2.866672</td>\n",
       "      <td>3</td>\n",
       "      <td>1</td>\n",
       "      <td>367.797693</td>\n",
       "    </tr>\n",
       "    <tr>\n",
       "      <th>1287</th>\n",
       "      <td>best</td>\n",
       "      <td>20618.0</td>\n",
       "      <td>0</td>\n",
       "      <td>1.006746</td>\n",
       "      <td>7.934620</td>\n",
       "      <td>9</td>\n",
       "      <td>10</td>\n",
       "      <td>347.978685</td>\n",
       "    </tr>\n",
       "    <tr>\n",
       "      <th>1135</th>\n",
       "      <td>ever</td>\n",
       "      <td>6227.0</td>\n",
       "      <td>0</td>\n",
       "      <td>1.233311</td>\n",
       "      <td>5.106415</td>\n",
       "      <td>4</td>\n",
       "      <td>1</td>\n",
       "      <td>218.481853</td>\n",
       "    </tr>\n",
       "  </tbody>\n",
       "</table>\n",
       "</div>"
      ],
      "text/plain": [
       "        word  total_word_count  zeros  average_std      mean  median  mode  \\\n",
       "1289   great           53725.0      0     1.290807  7.562748       8     9   \n",
       "1288    love           22575.0      0     1.076059  7.806826       9    10   \n",
       "1133  boring            5024.0      0     1.040698  2.866672       3     1   \n",
       "1287    best           20618.0      0     1.006746  7.934620       9    10   \n",
       "1135    ever            6227.0      0     1.233311  5.106415       4     1   \n",
       "\n",
       "      percent_average  \n",
       "1289       758.046962  \n",
       "1288       376.468269  \n",
       "1133       367.797693  \n",
       "1287       347.978685  \n",
       "1135       218.481853  "
      ]
     },
     "execution_count": 31,
     "metadata": {},
     "output_type": "execute_result"
    }
   ],
   "source": [
    "df.head()"
   ]
  },
  {
   "cell_type": "code",
   "execution_count": 32,
   "metadata": {},
   "outputs": [
    {
     "data": {
      "text/html": [
       "<div>\n",
       "<style scoped>\n",
       "    .dataframe tbody tr th:only-of-type {\n",
       "        vertical-align: middle;\n",
       "    }\n",
       "\n",
       "    .dataframe tbody tr th {\n",
       "        vertical-align: top;\n",
       "    }\n",
       "\n",
       "    .dataframe thead th {\n",
       "        text-align: right;\n",
       "    }\n",
       "</style>\n",
       "<table border=\"1\" class=\"dataframe\">\n",
       "  <thead>\n",
       "    <tr style=\"text-align: right;\">\n",
       "      <th></th>\n",
       "      <th>word</th>\n",
       "      <th>total_word_count</th>\n",
       "      <th>zeros</th>\n",
       "      <th>average_std</th>\n",
       "      <th>mean</th>\n",
       "      <th>median</th>\n",
       "      <th>mode</th>\n",
       "      <th>percent_average</th>\n",
       "    </tr>\n",
       "  </thead>\n",
       "  <tbody>\n",
       "    <tr>\n",
       "      <th>1450</th>\n",
       "      <td>smjj</td>\n",
       "      <td>89.0</td>\n",
       "      <td>9</td>\n",
       "      <td>0.333333</td>\n",
       "      <td>1.0</td>\n",
       "      <td>1</td>\n",
       "      <td>1</td>\n",
       "      <td>40.881948</td>\n",
       "    </tr>\n",
       "  </tbody>\n",
       "</table>\n",
       "</div>"
      ],
      "text/plain": [
       "      word  total_word_count  zeros  average_std  mean  median  mode  \\\n",
       "1450  smjj              89.0      9     0.333333   1.0       1     1   \n",
       "\n",
       "      percent_average  \n",
       "1450        40.881948  "
      ]
     },
     "execution_count": 32,
     "metadata": {},
     "output_type": "execute_result"
    }
   ],
   "source": [
    "df.loc[df.zeros >= 7]"
   ]
  },
  {
   "cell_type": "code",
   "execution_count": 33,
   "metadata": {},
   "outputs": [],
   "source": [
    "df = df.drop(1450)"
   ]
  },
  {
   "cell_type": "code",
   "execution_count": 34,
   "metadata": {},
   "outputs": [
    {
     "data": {
      "text/html": [
       "<div>\n",
       "<style scoped>\n",
       "    .dataframe tbody tr th:only-of-type {\n",
       "        vertical-align: middle;\n",
       "    }\n",
       "\n",
       "    .dataframe tbody tr th {\n",
       "        vertical-align: top;\n",
       "    }\n",
       "\n",
       "    .dataframe thead th {\n",
       "        text-align: right;\n",
       "    }\n",
       "</style>\n",
       "<table border=\"1\" class=\"dataframe\">\n",
       "  <thead>\n",
       "    <tr style=\"text-align: right;\">\n",
       "      <th></th>\n",
       "      <th>word</th>\n",
       "      <th>total_word_count</th>\n",
       "      <th>zeros</th>\n",
       "      <th>average_std</th>\n",
       "      <th>mean</th>\n",
       "      <th>median</th>\n",
       "      <th>mode</th>\n",
       "      <th>percent_average</th>\n",
       "    </tr>\n",
       "  </thead>\n",
       "  <tbody>\n",
       "  </tbody>\n",
       "</table>\n",
       "</div>"
      ],
      "text/plain": [
       "Empty DataFrame\n",
       "Columns: [word, total_word_count, zeros, average_std, mean, median, mode, percent_average]\n",
       "Index: []"
      ]
     },
     "execution_count": 34,
     "metadata": {},
     "output_type": "execute_result"
    }
   ],
   "source": [
    "df.loc[df.zeros >= 7]"
   ]
  },
  {
   "cell_type": "code",
   "execution_count": 35,
   "metadata": {},
   "outputs": [
    {
     "data": {
      "text/plain": [
       "2087"
      ]
     },
     "execution_count": 35,
     "metadata": {},
     "output_type": "execute_result"
    }
   ],
   "source": [
    "len(df)"
   ]
  },
  {
   "cell_type": "code",
   "execution_count": 36,
   "metadata": {},
   "outputs": [
    {
     "data": {
      "text/plain": [
       "2087"
      ]
     },
     "execution_count": 36,
     "metadata": {},
     "output_type": "execute_result"
    }
   ],
   "source": [
    "len(df.groupby(df.average_std))"
   ]
  },
  {
   "cell_type": "code",
   "execution_count": 37,
   "metadata": {},
   "outputs": [],
   "source": [
    "df = df.reset_index(drop=True)"
   ]
  },
  {
   "cell_type": "code",
   "execution_count": 38,
   "metadata": {},
   "outputs": [],
   "source": [
    "df = df.reset_index()"
   ]
  },
  {
   "cell_type": "code",
   "execution_count": 39,
   "metadata": {},
   "outputs": [],
   "source": [
    "word_list = dict()"
   ]
  },
  {
   "cell_type": "code",
   "execution_count": 40,
   "metadata": {},
   "outputs": [],
   "source": [
    "def turn(word, index):\n",
    "    word_list[word] = [index]"
   ]
  },
  {
   "cell_type": "code",
   "execution_count": 41,
   "metadata": {},
   "outputs": [
    {
     "data": {
      "text/plain": [
       "0       None\n",
       "1       None\n",
       "2       None\n",
       "3       None\n",
       "4       None\n",
       "5       None\n",
       "6       None\n",
       "7       None\n",
       "8       None\n",
       "9       None\n",
       "10      None\n",
       "11      None\n",
       "12      None\n",
       "13      None\n",
       "14      None\n",
       "15      None\n",
       "16      None\n",
       "17      None\n",
       "18      None\n",
       "19      None\n",
       "20      None\n",
       "21      None\n",
       "22      None\n",
       "23      None\n",
       "24      None\n",
       "25      None\n",
       "26      None\n",
       "27      None\n",
       "28      None\n",
       "29      None\n",
       "        ... \n",
       "2057    None\n",
       "2058    None\n",
       "2059    None\n",
       "2060    None\n",
       "2061    None\n",
       "2062    None\n",
       "2063    None\n",
       "2064    None\n",
       "2065    None\n",
       "2066    None\n",
       "2067    None\n",
       "2068    None\n",
       "2069    None\n",
       "2070    None\n",
       "2071    None\n",
       "2072    None\n",
       "2073    None\n",
       "2074    None\n",
       "2075    None\n",
       "2076    None\n",
       "2077    None\n",
       "2078    None\n",
       "2079    None\n",
       "2080    None\n",
       "2081    None\n",
       "2082    None\n",
       "2083    None\n",
       "2084    None\n",
       "2085    None\n",
       "2086    None\n",
       "Length: 2087, dtype: object"
      ]
     },
     "execution_count": 41,
     "metadata": {},
     "output_type": "execute_result"
    }
   ],
   "source": [
    "df.apply(lambda row: turn(row['word'], row['index']), axis=1)"
   ]
  },
  {
   "cell_type": "code",
   "execution_count": 42,
   "metadata": {},
   "outputs": [
    {
     "data": {
      "text/plain": [
       "[0]"
      ]
     },
     "execution_count": 42,
     "metadata": {},
     "output_type": "execute_result"
    }
   ],
   "source": [
    "word_list['great']"
   ]
  },
  {
   "cell_type": "code",
   "execution_count": 43,
   "metadata": {},
   "outputs": [],
   "source": [
    "test = pd.read_csv('../data/small_sample.csv')\n",
    "test.drop(columns=['Unnamed: 0'], inplace=True)"
   ]
  },
  {
   "cell_type": "code",
   "execution_count": 44,
   "metadata": {},
   "outputs": [],
   "source": [
    "def remove_punctuation(comment):\n",
    "    table = str.maketrans(dict.fromkeys('@#$%^&*()_+=~`[{}]|\\:;\"<,>.\"/'))\n",
    "    return comment.translate(table)"
   ]
  },
  {
   "cell_type": "code",
   "execution_count": 45,
   "metadata": {},
   "outputs": [],
   "source": [
    "def replace_exclimation(comment):\n",
    "    return comment.replace('!', ' <!> ').replace('?', ' <?> ')"
   ]
  },
  {
   "cell_type": "code",
   "execution_count": 46,
   "metadata": {},
   "outputs": [
    {
     "name": "stdout",
     "output_type": "stream",
     "text": [
      "CPU times: user 29.8 ms, sys: 2.18 ms, total: 31.9 ms\n",
      "Wall time: 34.9 ms\n"
     ]
    }
   ],
   "source": [
    "%%time\n",
    "test['remove_punctuation'] = test.comment.apply(lambda x: remove_punctuation(x))\n",
    "test.drop(columns=['comment'], inplace=True)\n",
    "test.rename(columns={'remove_punctuation':'comment'}, inplace=True)\n",
    "test['replace_punctuation'] = test.comment.apply(lambda x: replace_exclimation(x))\n",
    "test.drop(columns=['comment'], inplace=True)\n",
    "test.rename(columns={'replace_punctuation':'comment'}, inplace=True)"
   ]
  },
  {
   "cell_type": "code",
   "execution_count": 47,
   "metadata": {},
   "outputs": [],
   "source": [
    "test.rating = np.ceil(test.rating)"
   ]
  },
  {
   "cell_type": "code",
   "execution_count": 48,
   "metadata": {},
   "outputs": [],
   "source": [
    "def make_it_lower(comment):\n",
    "    new_comment = []\n",
    "    for x in comment.split(' '):\n",
    "        new_comment.append(x.lower())\n",
    "    return ' '.join(new_comment)"
   ]
  },
  {
   "cell_type": "code",
   "execution_count": 49,
   "metadata": {},
   "outputs": [
    {
     "name": "stdout",
     "output_type": "stream",
     "text": [
      "CPU times: user 33.8 ms, sys: 2.65 ms, total: 36.5 ms\n",
      "Wall time: 38.7 ms\n"
     ]
    }
   ],
   "source": [
    "%%time\n",
    "test['lower_comment'] = test.comment.apply(lambda x: make_it_lower(x))\n",
    "test.drop(columns=['comment'], inplace=True)\n",
    "test.rename(columns={'lower_comment':'comment'}, inplace=True)"
   ]
  },
  {
   "cell_type": "code",
   "execution_count": 50,
   "metadata": {},
   "outputs": [],
   "source": [
    "def return_array(comment):\n",
    "    new_comment = []\n",
    "    for x in comment.split(' '):\n",
    "        if x in word_list:\n",
    "            new_comment.append(word_list[x][0])\n",
    "    return new_comment"
   ]
  },
  {
   "cell_type": "code",
   "execution_count": 51,
   "metadata": {},
   "outputs": [
    {
     "name": "stdout",
     "output_type": "stream",
     "text": [
      "CPU times: user 18.9 ms, sys: 1.76 ms, total: 20.7 ms\n",
      "Wall time: 21.1 ms\n"
     ]
    }
   ],
   "source": [
    "%%time\n",
    "test['new'] = test.comment.apply(lambda x: return_array(x))"
   ]
  },
  {
   "cell_type": "code",
   "execution_count": 52,
   "metadata": {},
   "outputs": [
    {
     "data": {
      "text/html": [
       "<div>\n",
       "<style scoped>\n",
       "    .dataframe tbody tr th:only-of-type {\n",
       "        vertical-align: middle;\n",
       "    }\n",
       "\n",
       "    .dataframe tbody tr th {\n",
       "        vertical-align: top;\n",
       "    }\n",
       "\n",
       "    .dataframe thead th {\n",
       "        text-align: right;\n",
       "    }\n",
       "</style>\n",
       "<table border=\"1\" class=\"dataframe\">\n",
       "  <thead>\n",
       "    <tr style=\"text-align: right;\">\n",
       "      <th></th>\n",
       "      <th>index</th>\n",
       "      <th>word</th>\n",
       "      <th>total_word_count</th>\n",
       "      <th>zeros</th>\n",
       "      <th>average_std</th>\n",
       "      <th>mean</th>\n",
       "      <th>median</th>\n",
       "      <th>mode</th>\n",
       "      <th>percent_average</th>\n",
       "    </tr>\n",
       "  </thead>\n",
       "  <tbody>\n",
       "    <tr>\n",
       "      <th>0</th>\n",
       "      <td>0</td>\n",
       "      <td>great</td>\n",
       "      <td>53725.0</td>\n",
       "      <td>0</td>\n",
       "      <td>1.290807</td>\n",
       "      <td>7.562748</td>\n",
       "      <td>8</td>\n",
       "      <td>9</td>\n",
       "      <td>758.046962</td>\n",
       "    </tr>\n",
       "    <tr>\n",
       "      <th>1</th>\n",
       "      <td>1</td>\n",
       "      <td>love</td>\n",
       "      <td>22575.0</td>\n",
       "      <td>0</td>\n",
       "      <td>1.076059</td>\n",
       "      <td>7.806826</td>\n",
       "      <td>9</td>\n",
       "      <td>10</td>\n",
       "      <td>376.468269</td>\n",
       "    </tr>\n",
       "    <tr>\n",
       "      <th>2</th>\n",
       "      <td>2</td>\n",
       "      <td>boring</td>\n",
       "      <td>5024.0</td>\n",
       "      <td>0</td>\n",
       "      <td>1.040698</td>\n",
       "      <td>2.866672</td>\n",
       "      <td>3</td>\n",
       "      <td>1</td>\n",
       "      <td>367.797693</td>\n",
       "    </tr>\n",
       "    <tr>\n",
       "      <th>3</th>\n",
       "      <td>3</td>\n",
       "      <td>best</td>\n",
       "      <td>20618.0</td>\n",
       "      <td>0</td>\n",
       "      <td>1.006746</td>\n",
       "      <td>7.934620</td>\n",
       "      <td>9</td>\n",
       "      <td>10</td>\n",
       "      <td>347.978685</td>\n",
       "    </tr>\n",
       "    <tr>\n",
       "      <th>4</th>\n",
       "      <td>4</td>\n",
       "      <td>ever</td>\n",
       "      <td>6227.0</td>\n",
       "      <td>0</td>\n",
       "      <td>1.233311</td>\n",
       "      <td>5.106415</td>\n",
       "      <td>4</td>\n",
       "      <td>1</td>\n",
       "      <td>218.481853</td>\n",
       "    </tr>\n",
       "  </tbody>\n",
       "</table>\n",
       "</div>"
      ],
      "text/plain": [
       "   index    word  total_word_count  zeros  average_std      mean  median  \\\n",
       "0      0   great           53725.0      0     1.290807  7.562748       8   \n",
       "1      1    love           22575.0      0     1.076059  7.806826       9   \n",
       "2      2  boring            5024.0      0     1.040698  2.866672       3   \n",
       "3      3    best           20618.0      0     1.006746  7.934620       9   \n",
       "4      4    ever            6227.0      0     1.233311  5.106415       4   \n",
       "\n",
       "   mode  percent_average  \n",
       "0     9       758.046962  \n",
       "1    10       376.468269  \n",
       "2     1       367.797693  \n",
       "3    10       347.978685  \n",
       "4     1       218.481853  "
      ]
     },
     "execution_count": 52,
     "metadata": {},
     "output_type": "execute_result"
    }
   ],
   "source": [
    "df.head()"
   ]
  },
  {
   "cell_type": "code",
   "execution_count": null,
   "metadata": {},
   "outputs": [],
   "source": []
  },
  {
   "cell_type": "code",
   "execution_count": 53,
   "metadata": {},
   "outputs": [],
   "source": [
    "word_values = dict()"
   ]
  },
  {
   "cell_type": "code",
   "execution_count": 54,
   "metadata": {},
   "outputs": [],
   "source": [
    "def values(average, index):\n",
    "    word_values[index] = [average]"
   ]
  },
  {
   "cell_type": "code",
   "execution_count": 55,
   "metadata": {},
   "outputs": [
    {
     "data": {
      "text/plain": [
       "0       None\n",
       "1       None\n",
       "2       None\n",
       "3       None\n",
       "4       None\n",
       "5       None\n",
       "6       None\n",
       "7       None\n",
       "8       None\n",
       "9       None\n",
       "10      None\n",
       "11      None\n",
       "12      None\n",
       "13      None\n",
       "14      None\n",
       "15      None\n",
       "16      None\n",
       "17      None\n",
       "18      None\n",
       "19      None\n",
       "20      None\n",
       "21      None\n",
       "22      None\n",
       "23      None\n",
       "24      None\n",
       "25      None\n",
       "26      None\n",
       "27      None\n",
       "28      None\n",
       "29      None\n",
       "        ... \n",
       "2057    None\n",
       "2058    None\n",
       "2059    None\n",
       "2060    None\n",
       "2061    None\n",
       "2062    None\n",
       "2063    None\n",
       "2064    None\n",
       "2065    None\n",
       "2066    None\n",
       "2067    None\n",
       "2068    None\n",
       "2069    None\n",
       "2070    None\n",
       "2071    None\n",
       "2072    None\n",
       "2073    None\n",
       "2074    None\n",
       "2075    None\n",
       "2076    None\n",
       "2077    None\n",
       "2078    None\n",
       "2079    None\n",
       "2080    None\n",
       "2081    None\n",
       "2082    None\n",
       "2083    None\n",
       "2084    None\n",
       "2085    None\n",
       "2086    None\n",
       "Length: 2087, dtype: object"
      ]
     },
     "execution_count": 55,
     "metadata": {},
     "output_type": "execute_result"
    }
   ],
   "source": [
    "df.apply(lambda row: values(row['mode'], row['index']), axis=1)"
   ]
  },
  {
   "cell_type": "code",
   "execution_count": 56,
   "metadata": {},
   "outputs": [],
   "source": [
    "def create_score(new):\n",
    "    if new != []:\n",
    "        raw_prediction = 0\n",
    "        counter = 0\n",
    "        for x in new:\n",
    "#             print(word_values[x])\n",
    "            raw_prediction += word_values[x][0]\n",
    "            counter += 1\n",
    "        return raw_prediction/counter"
   ]
  },
  {
   "cell_type": "code",
   "execution_count": 57,
   "metadata": {},
   "outputs": [],
   "source": [
    "test['prediction'] = test.new.apply(create_score)\n"
   ]
  },
  {
   "cell_type": "code",
   "execution_count": 58,
   "metadata": {},
   "outputs": [],
   "source": [
    "test.dropna(inplace=True)"
   ]
  },
  {
   "cell_type": "code",
   "execution_count": 72,
   "metadata": {},
   "outputs": [
    {
     "data": {
      "text/html": [
       "<div>\n",
       "<style scoped>\n",
       "    .dataframe tbody tr th:only-of-type {\n",
       "        vertical-align: middle;\n",
       "    }\n",
       "\n",
       "    .dataframe tbody tr th {\n",
       "        vertical-align: top;\n",
       "    }\n",
       "\n",
       "    .dataframe thead th {\n",
       "        text-align: right;\n",
       "    }\n",
       "</style>\n",
       "<table border=\"1\" class=\"dataframe\">\n",
       "  <thead>\n",
       "    <tr style=\"text-align: right;\">\n",
       "      <th></th>\n",
       "      <th>commenter</th>\n",
       "      <th>gameID</th>\n",
       "      <th>rating</th>\n",
       "      <th>comment</th>\n",
       "      <th>new</th>\n",
       "      <th>prediction</th>\n",
       "    </tr>\n",
       "  </thead>\n",
       "  <tbody>\n",
       "    <tr>\n",
       "      <th>0</th>\n",
       "      <td>25308</td>\n",
       "      <td>37111</td>\n",
       "      <td>9.0</td>\n",
       "      <td>thematic  bluff - many randomness   i really ...</td>\n",
       "      <td>[913, 3, 672, 1072]</td>\n",
       "      <td>5.500000</td>\n",
       "    </tr>\n",
       "    <tr>\n",
       "      <th>1</th>\n",
       "      <td>54313</td>\n",
       "      <td>12</td>\n",
       "      <td>8.0</td>\n",
       "      <td>well that ugly artwork certainly helped immers...</td>\n",
       "      <td>[106, 1450]</td>\n",
       "      <td>1.000000</td>\n",
       "    </tr>\n",
       "    <tr>\n",
       "      <th>2</th>\n",
       "      <td>38165</td>\n",
       "      <td>50</td>\n",
       "      <td>8.0</td>\n",
       "      <td>love this game &lt;!&gt;   if only the gf would play...</td>\n",
       "      <td>[1, 652]</td>\n",
       "      <td>9.500000</td>\n",
       "    </tr>\n",
       "    <tr>\n",
       "      <th>3</th>\n",
       "      <td>56936</td>\n",
       "      <td>1198</td>\n",
       "      <td>5.0</td>\n",
       "      <td>set is a good game in small doses in my case v...</td>\n",
       "      <td>[886, 886, 390, 244, 9, 14]</td>\n",
       "      <td>6.166667</td>\n",
       "    </tr>\n",
       "    <tr>\n",
       "      <th>4</th>\n",
       "      <td>47675</td>\n",
       "      <td>164153</td>\n",
       "      <td>6.0</td>\n",
       "      <td>so much better than descent better theme impro...</td>\n",
       "      <td>[549, 1703, 4, 5]</td>\n",
       "      <td>6.000000</td>\n",
       "    </tr>\n",
       "    <tr>\n",
       "      <th>5</th>\n",
       "      <td>94529</td>\n",
       "      <td>31260</td>\n",
       "      <td>8.0</td>\n",
       "      <td>very tense and fun and i love pondering my str...</td>\n",
       "      <td>[65, 1]</td>\n",
       "      <td>9.500000</td>\n",
       "    </tr>\n",
       "    <tr>\n",
       "      <th>9</th>\n",
       "      <td>171066</td>\n",
       "      <td>13291</td>\n",
       "      <td>7.0</td>\n",
       "      <td>same rating as base game new characters are go...</td>\n",
       "      <td>[124, 239]</td>\n",
       "      <td>9.000000</td>\n",
       "    </tr>\n",
       "    <tr>\n",
       "      <th>10</th>\n",
       "      <td>96948</td>\n",
       "      <td>31260</td>\n",
       "      <td>8.0</td>\n",
       "      <td>great game but not sure yet how much i like it...</td>\n",
       "      <td>[0, 1297]</td>\n",
       "      <td>5.000000</td>\n",
       "    </tr>\n",
       "    <tr>\n",
       "      <th>11</th>\n",
       "      <td>70621</td>\n",
       "      <td>12493</td>\n",
       "      <td>10.0</td>\n",
       "      <td>great game and very epic with lots of drama an...</td>\n",
       "      <td>[0, 96, 0]</td>\n",
       "      <td>9.333333</td>\n",
       "    </tr>\n",
       "    <tr>\n",
       "      <th>13</th>\n",
       "      <td>22801</td>\n",
       "      <td>91536</td>\n",
       "      <td>9.0</td>\n",
       "      <td>looking forward to this one i hope it'll be go...</td>\n",
       "      <td>[78, 836, 268]</td>\n",
       "      <td>6.666667</td>\n",
       "    </tr>\n",
       "    <tr>\n",
       "      <th>14</th>\n",
       "      <td>88133</td>\n",
       "      <td>105551</td>\n",
       "      <td>9.0</td>\n",
       "      <td>nice worker placement concept top material lot...</td>\n",
       "      <td>[37, 57]</td>\n",
       "      <td>10.000000</td>\n",
       "    </tr>\n",
       "    <tr>\n",
       "      <th>15</th>\n",
       "      <td>110653</td>\n",
       "      <td>483</td>\n",
       "      <td>8.0</td>\n",
       "      <td>a classic great game easy to learn difficult t...</td>\n",
       "      <td>[0, 13, 102]</td>\n",
       "      <td>9.333333</td>\n",
       "    </tr>\n",
       "    <tr>\n",
       "      <th>16</th>\n",
       "      <td>164768</td>\n",
       "      <td>71721</td>\n",
       "      <td>7.0</td>\n",
       "      <td>very good solitaire play looking forward to tr...</td>\n",
       "      <td>[78, 348, 215, 1, 596]</td>\n",
       "      <td>7.200000</td>\n",
       "    </tr>\n",
       "    <tr>\n",
       "      <th>17</th>\n",
       "      <td>29353</td>\n",
       "      <td>181</td>\n",
       "      <td>4.0</td>\n",
       "      <td>this game used to be fun when i played it as a...</td>\n",
       "      <td>[25]</td>\n",
       "      <td>3.000000</td>\n",
       "    </tr>\n",
       "    <tr>\n",
       "      <th>18</th>\n",
       "      <td>65970</td>\n",
       "      <td>1927</td>\n",
       "      <td>2.0</td>\n",
       "      <td>really long for what it is this game should ta...</td>\n",
       "      <td>[421, 512, 301, 113]</td>\n",
       "      <td>2.000000</td>\n",
       "    </tr>\n",
       "    <tr>\n",
       "      <th>19</th>\n",
       "      <td>172882</td>\n",
       "      <td>29368</td>\n",
       "      <td>8.0</td>\n",
       "      <td>a lot of great zombie fighting fun  b-movie th...</td>\n",
       "      <td>[0, 707, 0, 1293]</td>\n",
       "      <td>7.500000</td>\n",
       "    </tr>\n",
       "    <tr>\n",
       "      <th>21</th>\n",
       "      <td>46212</td>\n",
       "      <td>39856</td>\n",
       "      <td>7.0</td>\n",
       "      <td>better than i expected but not my favourite ty...</td>\n",
       "      <td>[35]</td>\n",
       "      <td>10.000000</td>\n",
       "    </tr>\n",
       "    <tr>\n",
       "      <th>22</th>\n",
       "      <td>44168</td>\n",
       "      <td>59946</td>\n",
       "      <td>7.0</td>\n",
       "      <td>fun but feels thin not enough depth in the gam...</td>\n",
       "      <td>[68, 267, 4, 199, 0, 19, 37, 492, 506]</td>\n",
       "      <td>6.555556</td>\n",
       "    </tr>\n",
       "    <tr>\n",
       "      <th>23</th>\n",
       "      <td>153331</td>\n",
       "      <td>39463</td>\n",
       "      <td>6.0</td>\n",
       "      <td>i know i'm in the minority but i dislike the f...</td>\n",
       "      <td>[58, 174]</td>\n",
       "      <td>2.000000</td>\n",
       "    </tr>\n",
       "    <tr>\n",
       "      <th>24</th>\n",
       "      <td>105806</td>\n",
       "      <td>121921</td>\n",
       "      <td>9.0</td>\n",
       "      <td>best co-op i own  lots of choices lots of dept...</td>\n",
       "      <td>[3, 599, 78]</td>\n",
       "      <td>6.666667</td>\n",
       "    </tr>\n",
       "    <tr>\n",
       "      <th>26</th>\n",
       "      <td>39803</td>\n",
       "      <td>25613</td>\n",
       "      <td>7.0</td>\n",
       "      <td>i enjoy this a great deal it's a civ game that...</td>\n",
       "      <td>[0, 210, 96, 23, 442, 143]</td>\n",
       "      <td>7.333333</td>\n",
       "    </tr>\n",
       "    <tr>\n",
       "      <th>27</th>\n",
       "      <td>19827</td>\n",
       "      <td>96848</td>\n",
       "      <td>9.0</td>\n",
       "      <td>very cool if somewhat time consuming puzzle-li...</td>\n",
       "      <td>[1160]</td>\n",
       "      <td>3.000000</td>\n",
       "    </tr>\n",
       "    <tr>\n",
       "      <th>29</th>\n",
       "      <td>66970</td>\n",
       "      <td>107529</td>\n",
       "      <td>7.0</td>\n",
       "      <td>players are expanding their kingdoms across a ...</td>\n",
       "      <td>[752, 752, 833, 752, 833, 1790, 94, 833, 309, ...</td>\n",
       "      <td>4.466667</td>\n",
       "    </tr>\n",
       "    <tr>\n",
       "      <th>30</th>\n",
       "      <td>48697</td>\n",
       "      <td>125618</td>\n",
       "      <td>8.0</td>\n",
       "      <td>so simple that even my parents-in-law like it ...</td>\n",
       "      <td>[1]</td>\n",
       "      <td>10.000000</td>\n",
       "    </tr>\n",
       "    <tr>\n",
       "      <th>31</th>\n",
       "      <td>186512</td>\n",
       "      <td>181</td>\n",
       "      <td>7.0</td>\n",
       "      <td>as long as you understand that this is a dicef...</td>\n",
       "      <td>[256]</td>\n",
       "      <td>2.000000</td>\n",
       "    </tr>\n",
       "    <tr>\n",
       "      <th>32</th>\n",
       "      <td>119849</td>\n",
       "      <td>155703</td>\n",
       "      <td>7.0</td>\n",
       "      <td>better than i thought it would be honestly  ki...</td>\n",
       "      <td>[1615, 19, 317, 41]</td>\n",
       "      <td>7.000000</td>\n",
       "    </tr>\n",
       "    <tr>\n",
       "      <th>33</th>\n",
       "      <td>142703</td>\n",
       "      <td>105134</td>\n",
       "      <td>9.0</td>\n",
       "      <td>i hate risk but this game is impressive &lt;!&gt;</td>\n",
       "      <td>[6, 506]</td>\n",
       "      <td>5.500000</td>\n",
       "    </tr>\n",
       "    <tr>\n",
       "      <th>34</th>\n",
       "      <td>36494</td>\n",
       "      <td>147020</td>\n",
       "      <td>8.0</td>\n",
       "      <td>this is a great first deckbuilder -- the rando...</td>\n",
       "      <td>[0, 41, 1767, 610]</td>\n",
       "      <td>5.000000</td>\n",
       "    </tr>\n",
       "    <tr>\n",
       "      <th>36</th>\n",
       "      <td>128947</td>\n",
       "      <td>12333</td>\n",
       "      <td>7.0</td>\n",
       "      <td>wow so much going on here not for the faint of...</td>\n",
       "      <td>[76]</td>\n",
       "      <td>10.000000</td>\n",
       "    </tr>\n",
       "    <tr>\n",
       "      <th>37</th>\n",
       "      <td>175345</td>\n",
       "      <td>31627</td>\n",
       "      <td>6.0</td>\n",
       "      <td>not really new for me compared to ticket to ri...</td>\n",
       "      <td>[249]</td>\n",
       "      <td>8.000000</td>\n",
       "    </tr>\n",
       "  </tbody>\n",
       "</table>\n",
       "</div>"
      ],
      "text/plain": [
       "    commenter  gameID  rating  \\\n",
       "0       25308   37111     9.0   \n",
       "1       54313      12     8.0   \n",
       "2       38165      50     8.0   \n",
       "3       56936    1198     5.0   \n",
       "4       47675  164153     6.0   \n",
       "5       94529   31260     8.0   \n",
       "9      171066   13291     7.0   \n",
       "10      96948   31260     8.0   \n",
       "11      70621   12493    10.0   \n",
       "13      22801   91536     9.0   \n",
       "14      88133  105551     9.0   \n",
       "15     110653     483     8.0   \n",
       "16     164768   71721     7.0   \n",
       "17      29353     181     4.0   \n",
       "18      65970    1927     2.0   \n",
       "19     172882   29368     8.0   \n",
       "21      46212   39856     7.0   \n",
       "22      44168   59946     7.0   \n",
       "23     153331   39463     6.0   \n",
       "24     105806  121921     9.0   \n",
       "26      39803   25613     7.0   \n",
       "27      19827   96848     9.0   \n",
       "29      66970  107529     7.0   \n",
       "30      48697  125618     8.0   \n",
       "31     186512     181     7.0   \n",
       "32     119849  155703     7.0   \n",
       "33     142703  105134     9.0   \n",
       "34      36494  147020     8.0   \n",
       "36     128947   12333     7.0   \n",
       "37     175345   31627     6.0   \n",
       "\n",
       "                                              comment  \\\n",
       "0    thematic  bluff - many randomness   i really ...   \n",
       "1   well that ugly artwork certainly helped immers...   \n",
       "2   love this game <!>   if only the gf would play...   \n",
       "3   set is a good game in small doses in my case v...   \n",
       "4   so much better than descent better theme impro...   \n",
       "5   very tense and fun and i love pondering my str...   \n",
       "9   same rating as base game new characters are go...   \n",
       "10  great game but not sure yet how much i like it...   \n",
       "11  great game and very epic with lots of drama an...   \n",
       "13  looking forward to this one i hope it'll be go...   \n",
       "14  nice worker placement concept top material lot...   \n",
       "15  a classic great game easy to learn difficult t...   \n",
       "16  very good solitaire play looking forward to tr...   \n",
       "17  this game used to be fun when i played it as a...   \n",
       "18  really long for what it is this game should ta...   \n",
       "19  a lot of great zombie fighting fun  b-movie th...   \n",
       "21  better than i expected but not my favourite ty...   \n",
       "22  fun but feels thin not enough depth in the gam...   \n",
       "23  i know i'm in the minority but i dislike the f...   \n",
       "24  best co-op i own  lots of choices lots of dept...   \n",
       "26  i enjoy this a great deal it's a civ game that...   \n",
       "27  very cool if somewhat time consuming puzzle-li...   \n",
       "29  players are expanding their kingdoms across a ...   \n",
       "30  so simple that even my parents-in-law like it ...   \n",
       "31  as long as you understand that this is a dicef...   \n",
       "32  better than i thought it would be honestly  ki...   \n",
       "33       i hate risk but this game is impressive <!>    \n",
       "34  this is a great first deckbuilder -- the rando...   \n",
       "36  wow so much going on here not for the faint of...   \n",
       "37  not really new for me compared to ticket to ri...   \n",
       "\n",
       "                                                  new  prediction  \n",
       "0                                 [913, 3, 672, 1072]    5.500000  \n",
       "1                                         [106, 1450]    1.000000  \n",
       "2                                            [1, 652]    9.500000  \n",
       "3                         [886, 886, 390, 244, 9, 14]    6.166667  \n",
       "4                                   [549, 1703, 4, 5]    6.000000  \n",
       "5                                             [65, 1]    9.500000  \n",
       "9                                          [124, 239]    9.000000  \n",
       "10                                          [0, 1297]    5.000000  \n",
       "11                                         [0, 96, 0]    9.333333  \n",
       "13                                     [78, 836, 268]    6.666667  \n",
       "14                                           [37, 57]   10.000000  \n",
       "15                                       [0, 13, 102]    9.333333  \n",
       "16                             [78, 348, 215, 1, 596]    7.200000  \n",
       "17                                               [25]    3.000000  \n",
       "18                               [421, 512, 301, 113]    2.000000  \n",
       "19                                  [0, 707, 0, 1293]    7.500000  \n",
       "21                                               [35]   10.000000  \n",
       "22             [68, 267, 4, 199, 0, 19, 37, 492, 506]    6.555556  \n",
       "23                                          [58, 174]    2.000000  \n",
       "24                                       [3, 599, 78]    6.666667  \n",
       "26                         [0, 210, 96, 23, 442, 143]    7.333333  \n",
       "27                                             [1160]    3.000000  \n",
       "29  [752, 752, 833, 752, 833, 1790, 94, 833, 309, ...    4.466667  \n",
       "30                                                [1]   10.000000  \n",
       "31                                              [256]    2.000000  \n",
       "32                                [1615, 19, 317, 41]    7.000000  \n",
       "33                                           [6, 506]    5.500000  \n",
       "34                                 [0, 41, 1767, 610]    5.000000  \n",
       "36                                               [76]   10.000000  \n",
       "37                                              [249]    8.000000  "
      ]
     },
     "execution_count": 72,
     "metadata": {},
     "output_type": "execute_result"
    }
   ],
   "source": [
    "test.head(30)"
   ]
  },
  {
   "cell_type": "code",
   "execution_count": 60,
   "metadata": {},
   "outputs": [
    {
     "data": {
      "text/plain": [
       "<matplotlib.collections.PathCollection at 0x10cf74400>"
      ]
     },
     "execution_count": 60,
     "metadata": {},
     "output_type": "execute_result"
    },
    {
     "data": {
      "image/png": "[encoded data removed]",
      "text/plain": [
       "<Figure size 432x288 with 1 Axes>"
      ]
     },
     "metadata": {},
     "output_type": "display_data"
    }
   ],
   "source": [
    "plt.scatter(test.rating, test.prediction)"
   ]
  },
  {
   "cell_type": "code",
   "execution_count": 107,
   "metadata": {},
   "outputs": [],
   "source": [
    "def first_part_to_rmse(rating, prediction):\n",
    "    return (rating-prediction)**2"
   ]
  },
  {
   "cell_type": "code",
   "execution_count": 108,
   "metadata": {},
   "outputs": [
    {
     "data": {
      "text/plain": [
       "0    5.500000\n",
       "1    1.000000\n",
       "2    9.500000\n",
       "3    6.166667\n",
       "4    6.000000\n",
       "Name: prediction, dtype: float64"
      ]
     },
     "execution_count": 108,
     "metadata": {},
     "output_type": "execute_result"
    }
   ],
   "source": [
    "test['prediction'].head()"
   ]
  },
  {
   "cell_type": "code",
   "execution_count": 110,
   "metadata": {},
   "outputs": [],
   "source": [
    "test['rating-prediction_squared'] = test.apply(lambda x: first_part_to_rmse(x['rating'], x['prediction']), axis=1)"
   ]
  },
  {
   "cell_type": "code",
   "execution_count": 120,
   "metadata": {},
   "outputs": [],
   "source": [
    "test['group'] = 1"
   ]
  },
  {
   "cell_type": "code",
   "execution_count": 122,
   "metadata": {},
   "outputs": [
    {
     "data": {
      "text/html": [
       "<div>\n",
       "<style scoped>\n",
       "    .dataframe tbody tr th:only-of-type {\n",
       "        vertical-align: middle;\n",
       "    }\n",
       "\n",
       "    .dataframe tbody tr th {\n",
       "        vertical-align: top;\n",
       "    }\n",
       "\n",
       "    .dataframe thead th {\n",
       "        text-align: right;\n",
       "    }\n",
       "</style>\n",
       "<table border=\"1\" class=\"dataframe\">\n",
       "  <thead>\n",
       "    <tr style=\"text-align: right;\">\n",
       "      <th></th>\n",
       "      <th>commenter</th>\n",
       "      <th>gameID</th>\n",
       "      <th>rating</th>\n",
       "      <th>comment</th>\n",
       "      <th>new</th>\n",
       "      <th>prediction</th>\n",
       "      <th>rating-prediction_squared</th>\n",
       "      <th>group</th>\n",
       "    </tr>\n",
       "  </thead>\n",
       "  <tbody>\n",
       "    <tr>\n",
       "      <th>0</th>\n",
       "      <td>25308</td>\n",
       "      <td>37111</td>\n",
       "      <td>9.0</td>\n",
       "      <td>thematic  bluff - many randomness   i really ...</td>\n",
       "      <td>[913, 3, 672, 1072]</td>\n",
       "      <td>5.500000</td>\n",
       "      <td>12.250000</td>\n",
       "      <td>1</td>\n",
       "    </tr>\n",
       "    <tr>\n",
       "      <th>1</th>\n",
       "      <td>54313</td>\n",
       "      <td>12</td>\n",
       "      <td>8.0</td>\n",
       "      <td>well that ugly artwork certainly helped immers...</td>\n",
       "      <td>[106, 1450]</td>\n",
       "      <td>1.000000</td>\n",
       "      <td>49.000000</td>\n",
       "      <td>1</td>\n",
       "    </tr>\n",
       "    <tr>\n",
       "      <th>2</th>\n",
       "      <td>38165</td>\n",
       "      <td>50</td>\n",
       "      <td>8.0</td>\n",
       "      <td>love this game &lt;!&gt;   if only the gf would play...</td>\n",
       "      <td>[1, 652]</td>\n",
       "      <td>9.500000</td>\n",
       "      <td>2.250000</td>\n",
       "      <td>1</td>\n",
       "    </tr>\n",
       "    <tr>\n",
       "      <th>3</th>\n",
       "      <td>56936</td>\n",
       "      <td>1198</td>\n",
       "      <td>5.0</td>\n",
       "      <td>set is a good game in small doses in my case v...</td>\n",
       "      <td>[886, 886, 390, 244, 9, 14]</td>\n",
       "      <td>6.166667</td>\n",
       "      <td>1.361111</td>\n",
       "      <td>1</td>\n",
       "    </tr>\n",
       "    <tr>\n",
       "      <th>4</th>\n",
       "      <td>47675</td>\n",
       "      <td>164153</td>\n",
       "      <td>6.0</td>\n",
       "      <td>so much better than descent better theme impro...</td>\n",
       "      <td>[549, 1703, 4, 5]</td>\n",
       "      <td>6.000000</td>\n",
       "      <td>0.000000</td>\n",
       "      <td>1</td>\n",
       "    </tr>\n",
       "  </tbody>\n",
       "</table>\n",
       "</div>"
      ],
      "text/plain": [
       "   commenter  gameID  rating  \\\n",
       "0      25308   37111     9.0   \n",
       "1      54313      12     8.0   \n",
       "2      38165      50     8.0   \n",
       "3      56936    1198     5.0   \n",
       "4      47675  164153     6.0   \n",
       "\n",
       "                                             comment  \\\n",
       "0   thematic  bluff - many randomness   i really ...   \n",
       "1  well that ugly artwork certainly helped immers...   \n",
       "2  love this game <!>   if only the gf would play...   \n",
       "3  set is a good game in small doses in my case v...   \n",
       "4  so much better than descent better theme impro...   \n",
       "\n",
       "                           new  prediction  rating-prediction_squared  group  \n",
       "0          [913, 3, 672, 1072]    5.500000                  12.250000      1  \n",
       "1                  [106, 1450]    1.000000                  49.000000      1  \n",
       "2                     [1, 652]    9.500000                   2.250000      1  \n",
       "3  [886, 886, 390, 244, 9, 14]    6.166667                   1.361111      1  \n",
       "4            [549, 1703, 4, 5]    6.000000                   0.000000      1  "
      ]
     },
     "execution_count": 122,
     "metadata": {},
     "output_type": "execute_result"
    }
   ],
   "source": [
    "test.head()"
   ]
  },
  {
   "cell_type": "code",
   "execution_count": 124,
   "metadata": {},
   "outputs": [],
   "source": [
    "def return_rmse(series):\n",
    "    total = 0\n",
    "    counter = 0\n",
    "    for x in series:\n",
    "        total += x\n",
    "        counter += 1\n",
    "    return ((total/counter)**(1/2))"
   ]
  },
  {
   "cell_type": "code",
   "execution_count": 125,
   "metadata": {},
   "outputs": [
    {
     "data": {
      "text/plain": [
       "group\n",
       "1    2.770572\n",
       "Name: rating-prediction_squared, dtype: float64"
      ]
     },
     "execution_count": 125,
     "metadata": {},
     "output_type": "execute_result"
    }
   ],
   "source": [
    "test.groupby('group')['rating-prediction_squared'].apply(return_rmse)"
   ]
  },
  {
   "cell_type": "code",
   "execution_count": null,
   "metadata": {},
   "outputs": [],
   "source": []
  },
  {
   "cell_type": "code",
   "execution_count": null,
   "metadata": {},
   "outputs": [],
   "source": []
  },
  {
   "cell_type": "code",
   "execution_count": null,
   "metadata": {},
   "outputs": [],
   "source": []
  },
  {
   "cell_type": "code",
   "execution_count": null,
   "metadata": {},
   "outputs": [],
   "source": []
  }
 ],
 "metadata": {
  "kernelspec": {
   "display_name": "Python 3",
   "language": "python",
   "name": "python3"
  },
  "language_info": {
   "codemirror_mode": {
    "name": "ipython",
    "version": 3
   },
   "file_extension": ".py",
   "mimetype": "text/x-python",
   "name": "python",
   "nbconvert_exporter": "python",
   "pygments_lexer": "ipython3",
   "version": "3.6.5"
  }
 },
 "nbformat": 4,
 "nbformat_minor": 2
}
