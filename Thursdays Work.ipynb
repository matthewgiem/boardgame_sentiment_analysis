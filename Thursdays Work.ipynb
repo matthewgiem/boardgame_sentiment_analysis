{
 "cells": [
  {
   "cell_type": "code",
   "execution_count": 27,
   "metadata": {},
   "outputs": [],
   "source": [
    "import pandas as pd\n",
    "import math"
   ]
  },
  {
   "cell_type": "code",
   "execution_count": 16,
   "metadata": {},
   "outputs": [],
   "source": [
    "df = pd.read_csv('new_normalized_data.csv')\n",
    "df.drop(columns=['Unnamed: 0'], inplace=True)"
   ]
  },
  {
   "cell_type": "code",
   "execution_count": 17,
   "metadata": {},
   "outputs": [],
   "source": [
    "df = df.loc[df.average_std < 1.5]"
   ]
  },
  {
   "cell_type": "code",
   "execution_count": 136,
   "metadata": {},
   "outputs": [],
   "source": [
    "testing = df.loc[df.word.isin(['worst','love', 'diseases', 'ultimate'])]\n",
    "testing = testing.reset_index(drop=True)"
   ]
  },
  {
   "cell_type": "code",
   "execution_count": 137,
   "metadata": {},
   "outputs": [],
   "source": [
    "def write_normialized_statistics(series, df):\n",
    "    mean_total = 0\n",
    "    median_total = 0\n",
    "    mode_total = 0\n",
    "    mode = 0\n",
    "    counter = 0\n",
    "    stop_median = 0\n",
    "    for x in series:\n",
    "        if counter > 0:\n",
    "            mean_total += counter*x\n",
    "            median_total += x\n",
    "            if (median_total >= 50 and stop_median == 0):\n",
    "                df.loc[(df.word == series.name) & (df.type == 1), 'median'] = counter\n",
    "                stop_median = 1\n",
    "            if x > mode_total:\n",
    "                mode_total = x\n",
    "                mode = counter\n",
    "        counter += 1\n",
    "    df.loc[(df.word == series.name) & (df.type == 1), 'mean'] = mean_total/100\n",
    "    df.loc[(df.word == series.name) & (df.type == 1), 'mode'] = mode"
   ]
  },
  {
   "cell_type": "code",
   "execution_count": 138,
   "metadata": {},
   "outputs": [
    {
     "name": "stdout",
     "output_type": "stream",
     "text": [
      "CPU times: user 56 ms, sys: 4.45 ms, total: 60.4 ms\n",
      "Wall time: 58.1 ms\n"
     ]
    },
    {
     "data": {
      "text/plain": [
       "word\n",
       "diseases    None\n",
       "love        None\n",
       "ultimate    None\n",
       "worst       None\n",
       "Name: normilized_percent, dtype: object"
      ]
     },
     "execution_count": 138,
     "metadata": {},
     "output_type": "execute_result"
    }
   ],
   "source": [
    "%%time\n",
    "testing.groupby(testing.word).normilized_percent.apply(write_normialized_statistics, df=testing)"
   ]
  },
  {
   "cell_type": "code",
   "execution_count": 23,
   "metadata": {},
   "outputs": [],
   "source": [
    "%%time\n",
    "df.groupby(df.word).normilized_percent.apply(write_normialized_statistics, df=df)"
   ]
  },
  {
   "cell_type": "code",
   "execution_count": null,
   "metadata": {},
   "outputs": [],
   "source": [
    "df.to_csv('new_normalized_data.csv')"
   ]
  },
  {
   "cell_type": "code",
   "execution_count": 139,
   "metadata": {},
   "outputs": [],
   "source": [
    "df['zeros'] = 0\n",
    "df['total_word_count'] = 0\n",
    "testing['zeros'] = 0\n",
    "testing['total_word_count'] = 0"
   ]
  },
  {
   "cell_type": "code",
   "execution_count": 155,
   "metadata": {},
   "outputs": [],
   "source": [
    "def values_with_zeros_and_total_word_count(series, df):\n",
    "    counter = 0\n",
    "    number_of_zeros = 0\n",
    "    total_words = 0\n",
    "    for x in series:\n",
    "        if (counter > 0):\n",
    "            if (x < 2):\n",
    "                number_of_zeros += 1\n",
    "            total_words += x\n",
    "        counter +=1\n",
    "    df.loc[(df.word == series.name) & (df.type == 1), 'zeros'] = number_of_zeros\n",
    "    df.loc[(df.word == series.name) & (df.type == 1), 'total_word_count'] = total_words"
   ]
  },
  {
   "cell_type": "code",
   "execution_count": 157,
   "metadata": {},
   "outputs": [
    {
     "name": "stdout",
     "output_type": "stream",
     "text": [
      "CPU times: user 35.3 s, sys: 568 ms, total: 35.8 s\n",
      "Wall time: 38.5 s\n"
     ]
    },
    {
     "data": {
      "text/plain": [
       "word\n",
       "'nuff                    None\n",
       "'take                    None\n",
       "'the                     None\n",
       "----                     None\n",
       "-1                       None\n",
       "-limited                 None\n",
       "0                        None\n",
       "01                       None\n",
       "05                       None\n",
       "09                       None\n",
       "1-4                      None\n",
       "1-5                      None\n",
       "1-6                      None\n",
       "1-8                      None\n",
       "10                       None\n",
       "10-15                    None\n",
       "1010                     None\n",
       "10th                     None\n",
       "11                       None\n",
       "110                      None\n",
       "15-20                    None\n",
       "150                      None\n",
       "16                       None\n",
       "18                       None\n",
       "18xx                     None\n",
       "1910                     None\n",
       "1960                     None\n",
       "1995                     None\n",
       "1999                     None\n",
       "1v1                      None\n",
       "                         ... \n",
       "workerplacement          None\n",
       "worlds                   None\n",
       "worn                     None\n",
       "worried                  None\n",
       "worse                    None\n",
       "worst                    None\n",
       "wow                      None\n",
       "writing                  None\n",
       "ww2                      None\n",
       "wwwbrettspillguidenno    None\n",
       "xbox                     None\n",
       "xmas                     None\n",
       "yatzee                   None\n",
       "yawn                     None\n",
       "yelling                  None\n",
       "youngest                 None\n",
       "youth                    None\n",
       "youtube                  None\n",
       "yr                       None\n",
       "yucata                   None\n",
       "yucatade                 None\n",
       "yuck                     None\n",
       "z-man                    None\n",
       "zero                     None\n",
       "zoo                      None\n",
       "zooloretto               None\n",
       "–                        None\n",
       "•                        None\n",
       "−                        None\n",
       "✔                        None\n",
       "Name: word_count, Length: 2088, dtype: object"
      ]
     },
     "execution_count": 157,
     "metadata": {},
     "output_type": "execute_result"
    }
   ],
   "source": [
    "%%time\n",
    "df.groupby(df.word).word_count.apply(values_with_zeros_and_total_word_count, df=df)"
   ]
  },
  {
   "cell_type": "code",
   "execution_count": 166,
   "metadata": {},
   "outputs": [],
   "source": [
    "words = df.loc[df.type == 1]"
   ]
  },
  {
   "cell_type": "code",
   "execution_count": 168,
   "metadata": {},
   "outputs": [],
   "source": [
    "words.to_csv('words.csv')"
   ]
  },
  {
   "cell_type": "code",
   "execution_count": null,
   "metadata": {},
   "outputs": [],
   "source": []
  }
 ],
 "metadata": {
  "kernelspec": {
   "display_name": "Python 3",
   "language": "python",
   "name": "python3"
  },
  "language_info": {
   "codemirror_mode": {
    "name": "ipython",
    "version": 3
   },
   "file_extension": ".py",
   "mimetype": "text/x-python",
   "name": "python",
   "nbconvert_exporter": "python",
   "pygments_lexer": "ipython3",
   "version": "3.6.5"
  }
 },
 "nbformat": 4,
 "nbformat_minor": 2
}
