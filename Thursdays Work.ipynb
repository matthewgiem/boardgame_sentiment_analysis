{
 "cells": [
  {
   "cell_type": "code",
   "execution_count": 1,
   "metadata": {},
   "outputs": [],
   "source": [
    "import pandas as pd\n",
    "import math\n",
    "import numpy as np\n",
    "import matplotlib.pyplot as plt"
   ]
  },
  {
   "cell_type": "code",
   "execution_count": 2,
   "metadata": {},
   "outputs": [],
   "source": [
    "df = pd.read_csv('new_normalized_data.csv')\n",
    "df.drop(columns=['Unnamed: 0'], inplace=True)"
   ]
  },
  {
   "cell_type": "code",
   "execution_count": 3,
   "metadata": {},
   "outputs": [],
   "source": [
    "df = df.loc[df.average_std < 1.5]"
   ]
  },
  {
   "cell_type": "code",
   "execution_count": 4,
   "metadata": {},
   "outputs": [],
   "source": [
    "testing = df.loc[df.word.isin(['worst','love', 'diseases', 'ultimate'])]\n",
    "testing = testing.reset_index(drop=True)"
   ]
  },
  {
   "cell_type": "code",
   "execution_count": 5,
   "metadata": {},
   "outputs": [],
   "source": [
    "def write_normialized_statistics(series, df):\n",
    "    mean_total = 0\n",
    "    median_total = 0\n",
    "    mode_total = 0\n",
    "    mode = 0\n",
    "    counter = 0\n",
    "    stop_median = 0\n",
    "    for x in series:\n",
    "        if counter > 0:\n",
    "            mean_total += counter*x\n",
    "            median_total += x\n",
    "            if (median_total >= 50 and stop_median == 0):\n",
    "                df.loc[(df.word == series.name) & (df.type == 1), 'median'] = counter\n",
    "                stop_median = 1\n",
    "            if x > mode_total:\n",
    "                mode_total = x\n",
    "                mode = counter\n",
    "        counter += 1\n",
    "    df.loc[(df.word == series.name) & (df.type == 1), 'mean'] = mean_total/100\n",
    "    df.loc[(df.word == series.name) & (df.type == 1), 'mode'] = mode"
   ]
  },
  {
   "cell_type": "code",
   "execution_count": 6,
   "metadata": {},
   "outputs": [
    {
     "name": "stdout",
     "output_type": "stream",
     "text": [
      "CPU times: user 61.1 ms, sys: 4.58 ms, total: 65.7 ms\n",
      "Wall time: 74.3 ms\n"
     ]
    },
    {
     "data": {
      "text/plain": [
       "word\n",
       "diseases    None\n",
       "love        None\n",
       "ultimate    None\n",
       "worst       None\n",
       "Name: normilized_percent, dtype: object"
      ]
     },
     "execution_count": 6,
     "metadata": {},
     "output_type": "execute_result"
    }
   ],
   "source": [
    "%%time\n",
    "testing.groupby(testing.word).normilized_percent.apply(write_normialized_statistics, df=testing)"
   ]
  },
  {
   "cell_type": "code",
   "execution_count": 7,
   "metadata": {},
   "outputs": [
    {
     "name": "stdout",
     "output_type": "stream",
     "text": [
      "CPU times: user 44.2 s, sys: 401 ms, total: 44.6 s\n",
      "Wall time: 45 s\n"
     ]
    },
    {
     "data": {
      "text/plain": [
       "word\n",
       "'nuff                    None\n",
       "'take                    None\n",
       "'the                     None\n",
       "----                     None\n",
       "-1                       None\n",
       "-limited                 None\n",
       "0                        None\n",
       "01                       None\n",
       "05                       None\n",
       "09                       None\n",
       "1-4                      None\n",
       "1-5                      None\n",
       "1-6                      None\n",
       "1-8                      None\n",
       "10                       None\n",
       "10-15                    None\n",
       "1010                     None\n",
       "10th                     None\n",
       "11                       None\n",
       "110                      None\n",
       "15-20                    None\n",
       "150                      None\n",
       "16                       None\n",
       "18                       None\n",
       "18xx                     None\n",
       "1910                     None\n",
       "1960                     None\n",
       "1995                     None\n",
       "1999                     None\n",
       "1v1                      None\n",
       "                         ... \n",
       "workerplacement          None\n",
       "worlds                   None\n",
       "worn                     None\n",
       "worried                  None\n",
       "worse                    None\n",
       "worst                    None\n",
       "wow                      None\n",
       "writing                  None\n",
       "ww2                      None\n",
       "wwwbrettspillguidenno    None\n",
       "xbox                     None\n",
       "xmas                     None\n",
       "yatzee                   None\n",
       "yawn                     None\n",
       "yelling                  None\n",
       "youngest                 None\n",
       "youth                    None\n",
       "youtube                  None\n",
       "yr                       None\n",
       "yucata                   None\n",
       "yucatade                 None\n",
       "yuck                     None\n",
       "z-man                    None\n",
       "zero                     None\n",
       "zoo                      None\n",
       "zooloretto               None\n",
       "–                        None\n",
       "•                        None\n",
       "−                        None\n",
       "✔                        None\n",
       "Name: normilized_percent, Length: 2088, dtype: object"
      ]
     },
     "execution_count": 7,
     "metadata": {},
     "output_type": "execute_result"
    }
   ],
   "source": [
    "%%time\n",
    "df.groupby(df.word).normilized_percent.apply(write_normialized_statistics, df=df)"
   ]
  },
  {
   "cell_type": "code",
   "execution_count": 8,
   "metadata": {},
   "outputs": [],
   "source": [
    "df.to_csv('new_normalized_data.csv')"
   ]
  },
  {
   "cell_type": "code",
   "execution_count": 9,
   "metadata": {},
   "outputs": [],
   "source": [
    "df['zeros'] = 0\n",
    "df['total_word_count'] = 0\n",
    "testing['zeros'] = 0\n",
    "testing['total_word_count'] = 0"
   ]
  },
  {
   "cell_type": "code",
   "execution_count": 10,
   "metadata": {},
   "outputs": [],
   "source": [
    "def values_with_zeros_and_total_word_count(series, df):\n",
    "    counter = 0\n",
    "    number_of_zeros = 0\n",
    "    total_words = 0\n",
    "    for x in series:\n",
    "        if (counter > 0):\n",
    "            if (x < 2):\n",
    "                number_of_zeros += 1\n",
    "            total_words += x\n",
    "        counter +=1\n",
    "    df.loc[(df.word == series.name) & (df.type == 1), 'zeros'] = number_of_zeros\n",
    "    df.loc[(df.word == series.name) & (df.type == 1), 'total_word_count'] = total_words"
   ]
  },
  {
   "cell_type": "code",
   "execution_count": 11,
   "metadata": {},
   "outputs": [
    {
     "name": "stdout",
     "output_type": "stream",
     "text": [
      "CPU times: user 30.1 s, sys: 294 ms, total: 30.4 s\n",
      "Wall time: 31 s\n"
     ]
    },
    {
     "data": {
      "text/plain": [
       "word\n",
       "'nuff                    None\n",
       "'take                    None\n",
       "'the                     None\n",
       "----                     None\n",
       "-1                       None\n",
       "-limited                 None\n",
       "0                        None\n",
       "01                       None\n",
       "05                       None\n",
       "09                       None\n",
       "1-4                      None\n",
       "1-5                      None\n",
       "1-6                      None\n",
       "1-8                      None\n",
       "10                       None\n",
       "10-15                    None\n",
       "1010                     None\n",
       "10th                     None\n",
       "11                       None\n",
       "110                      None\n",
       "15-20                    None\n",
       "150                      None\n",
       "16                       None\n",
       "18                       None\n",
       "18xx                     None\n",
       "1910                     None\n",
       "1960                     None\n",
       "1995                     None\n",
       "1999                     None\n",
       "1v1                      None\n",
       "                         ... \n",
       "workerplacement          None\n",
       "worlds                   None\n",
       "worn                     None\n",
       "worried                  None\n",
       "worse                    None\n",
       "worst                    None\n",
       "wow                      None\n",
       "writing                  None\n",
       "ww2                      None\n",
       "wwwbrettspillguidenno    None\n",
       "xbox                     None\n",
       "xmas                     None\n",
       "yatzee                   None\n",
       "yawn                     None\n",
       "yelling                  None\n",
       "youngest                 None\n",
       "youth                    None\n",
       "youtube                  None\n",
       "yr                       None\n",
       "yucata                   None\n",
       "yucatade                 None\n",
       "yuck                     None\n",
       "z-man                    None\n",
       "zero                     None\n",
       "zoo                      None\n",
       "zooloretto               None\n",
       "–                        None\n",
       "•                        None\n",
       "−                        None\n",
       "✔                        None\n",
       "Name: word_count, Length: 2088, dtype: object"
      ]
     },
     "execution_count": 11,
     "metadata": {},
     "output_type": "execute_result"
    }
   ],
   "source": [
    "%%time\n",
    "df.groupby(df.word).word_count.apply(values_with_zeros_and_total_word_count, df=df)"
   ]
  },
  {
   "cell_type": "code",
   "execution_count": 12,
   "metadata": {},
   "outputs": [],
   "source": [
    "words = df.loc[df.type == 1]"
   ]
  },
  {
   "cell_type": "code",
   "execution_count": 13,
   "metadata": {},
   "outputs": [],
   "source": [
    "words.to_csv('words.csv')"
   ]
  },
  {
   "cell_type": "code",
   "execution_count": 14,
   "metadata": {},
   "outputs": [],
   "source": [
    "df = pd.read_csv('words.csv')\n",
    "df = df.drop(columns=['Unnamed: 0'])"
   ]
  },
  {
   "cell_type": "code",
   "execution_count": 15,
   "metadata": {},
   "outputs": [],
   "source": [
    "df = df.sort_values(by=['average_std'])"
   ]
  },
  {
   "cell_type": "code",
   "execution_count": 16,
   "metadata": {},
   "outputs": [],
   "source": [
    "cols = df.columns.tolist()"
   ]
  },
  {
   "cell_type": "code",
   "execution_count": 17,
   "metadata": {},
   "outputs": [],
   "source": [
    "cols = ['word',\n",
    " 'total_word_count',\n",
    " 'zeros',\n",
    " 'average_std',\n",
    " 'mean',\n",
    " 'median',\n",
    " 'mode',\n",
    " 'percent_average',\n",
    " 'percent_std',\n",
    " 'rating',\n",
    " 'word_count',\n",
    " 'divisor',\n",
    " 'percent',\n",
    " 'type',\n",
    " 'normilization_divisor',\n",
    " 'normilized_percent']"
   ]
  },
  {
   "cell_type": "code",
   "execution_count": 18,
   "metadata": {},
   "outputs": [],
   "source": [
    "df = df[cols]"
   ]
  },
  {
   "cell_type": "code",
   "execution_count": 19,
   "metadata": {},
   "outputs": [],
   "source": [
    "df = df.drop(columns=['rating', 'word_count', 'divisor', 'percent'])"
   ]
  },
  {
   "cell_type": "code",
   "execution_count": 20,
   "metadata": {},
   "outputs": [],
   "source": [
    "df = df.drop(columns=['normilized_percent', 'type', 'normilization_divisor', 'percent_std'])"
   ]
  },
  {
   "cell_type": "code",
   "execution_count": 21,
   "metadata": {},
   "outputs": [],
   "source": [
    "df['new'] = df.percent_average.apply(lambda x: x*100)"
   ]
  },
  {
   "cell_type": "code",
   "execution_count": 22,
   "metadata": {},
   "outputs": [],
   "source": [
    "df = df.drop(columns=['percent_average'])"
   ]
  },
  {
   "cell_type": "code",
   "execution_count": 23,
   "metadata": {},
   "outputs": [],
   "source": [
    "df['percent_average'] = df.new.apply(lambda x: x*100)"
   ]
  },
  {
   "cell_type": "code",
   "execution_count": 24,
   "metadata": {},
   "outputs": [],
   "source": [
    "df = df.drop(columns=['new'])"
   ]
  },
  {
   "cell_type": "code",
   "execution_count": 25,
   "metadata": {},
   "outputs": [],
   "source": [
    "df = df.sort_values(by=['percent_average'],ascending=False)"
   ]
  },
  {
   "cell_type": "code",
   "execution_count": 26,
   "metadata": {},
   "outputs": [
    {
     "data": {
      "text/html": [
       "<div>\n",
       "<style scoped>\n",
       "    .dataframe tbody tr th:only-of-type {\n",
       "        vertical-align: middle;\n",
       "    }\n",
       "\n",
       "    .dataframe tbody tr th {\n",
       "        vertical-align: top;\n",
       "    }\n",
       "\n",
       "    .dataframe thead th {\n",
       "        text-align: right;\n",
       "    }\n",
       "</style>\n",
       "<table border=\"1\" class=\"dataframe\">\n",
       "  <thead>\n",
       "    <tr style=\"text-align: right;\">\n",
       "      <th></th>\n",
       "      <th>word</th>\n",
       "      <th>total_word_count</th>\n",
       "      <th>zeros</th>\n",
       "      <th>average_std</th>\n",
       "      <th>mean</th>\n",
       "      <th>median</th>\n",
       "      <th>mode</th>\n",
       "      <th>percent_average</th>\n",
       "    </tr>\n",
       "  </thead>\n",
       "  <tbody>\n",
       "    <tr>\n",
       "      <th>1289</th>\n",
       "      <td>great</td>\n",
       "      <td>53725.0</td>\n",
       "      <td>0</td>\n",
       "      <td>1.290807</td>\n",
       "      <td>7.562748</td>\n",
       "      <td>8</td>\n",
       "      <td>9</td>\n",
       "      <td>758.046962</td>\n",
       "    </tr>\n",
       "    <tr>\n",
       "      <th>1288</th>\n",
       "      <td>love</td>\n",
       "      <td>22575.0</td>\n",
       "      <td>0</td>\n",
       "      <td>1.076059</td>\n",
       "      <td>7.806826</td>\n",
       "      <td>9</td>\n",
       "      <td>10</td>\n",
       "      <td>376.468269</td>\n",
       "    </tr>\n",
       "    <tr>\n",
       "      <th>1133</th>\n",
       "      <td>boring</td>\n",
       "      <td>5024.0</td>\n",
       "      <td>0</td>\n",
       "      <td>1.040698</td>\n",
       "      <td>2.866672</td>\n",
       "      <td>3</td>\n",
       "      <td>1</td>\n",
       "      <td>367.797693</td>\n",
       "    </tr>\n",
       "    <tr>\n",
       "      <th>1287</th>\n",
       "      <td>best</td>\n",
       "      <td>20618.0</td>\n",
       "      <td>0</td>\n",
       "      <td>1.006746</td>\n",
       "      <td>7.934620</td>\n",
       "      <td>9</td>\n",
       "      <td>10</td>\n",
       "      <td>347.978685</td>\n",
       "    </tr>\n",
       "    <tr>\n",
       "      <th>1135</th>\n",
       "      <td>ever</td>\n",
       "      <td>6227.0</td>\n",
       "      <td>0</td>\n",
       "      <td>1.233311</td>\n",
       "      <td>5.106415</td>\n",
       "      <td>4</td>\n",
       "      <td>1</td>\n",
       "      <td>218.481853</td>\n",
       "    </tr>\n",
       "  </tbody>\n",
       "</table>\n",
       "</div>"
      ],
      "text/plain": [
       "        word  total_word_count  zeros  average_std      mean  median  mode  \\\n",
       "1289   great           53725.0      0     1.290807  7.562748       8     9   \n",
       "1288    love           22575.0      0     1.076059  7.806826       9    10   \n",
       "1133  boring            5024.0      0     1.040698  2.866672       3     1   \n",
       "1287    best           20618.0      0     1.006746  7.934620       9    10   \n",
       "1135    ever            6227.0      0     1.233311  5.106415       4     1   \n",
       "\n",
       "      percent_average  \n",
       "1289       758.046962  \n",
       "1288       376.468269  \n",
       "1133       367.797693  \n",
       "1287       347.978685  \n",
       "1135       218.481853  "
      ]
     },
     "execution_count": 26,
     "metadata": {},
     "output_type": "execute_result"
    }
   ],
   "source": [
    "df.head()"
   ]
  },
  {
   "cell_type": "code",
   "execution_count": 27,
   "metadata": {},
   "outputs": [
    {
     "data": {
      "text/html": [
       "<div>\n",
       "<style scoped>\n",
       "    .dataframe tbody tr th:only-of-type {\n",
       "        vertical-align: middle;\n",
       "    }\n",
       "\n",
       "    .dataframe tbody tr th {\n",
       "        vertical-align: top;\n",
       "    }\n",
       "\n",
       "    .dataframe thead th {\n",
       "        text-align: right;\n",
       "    }\n",
       "</style>\n",
       "<table border=\"1\" class=\"dataframe\">\n",
       "  <thead>\n",
       "    <tr style=\"text-align: right;\">\n",
       "      <th></th>\n",
       "      <th>word</th>\n",
       "      <th>total_word_count</th>\n",
       "      <th>zeros</th>\n",
       "      <th>average_std</th>\n",
       "      <th>mean</th>\n",
       "      <th>median</th>\n",
       "      <th>mode</th>\n",
       "      <th>percent_average</th>\n",
       "    </tr>\n",
       "  </thead>\n",
       "  <tbody>\n",
       "    <tr>\n",
       "      <th>1450</th>\n",
       "      <td>smjj</td>\n",
       "      <td>89.0</td>\n",
       "      <td>9</td>\n",
       "      <td>0.333333</td>\n",
       "      <td>1.0</td>\n",
       "      <td>1</td>\n",
       "      <td>1</td>\n",
       "      <td>40.881948</td>\n",
       "    </tr>\n",
       "  </tbody>\n",
       "</table>\n",
       "</div>"
      ],
      "text/plain": [
       "      word  total_word_count  zeros  average_std  mean  median  mode  \\\n",
       "1450  smjj              89.0      9     0.333333   1.0       1     1   \n",
       "\n",
       "      percent_average  \n",
       "1450        40.881948  "
      ]
     },
     "execution_count": 27,
     "metadata": {},
     "output_type": "execute_result"
    }
   ],
   "source": [
    "df.loc[df.zeros >= 7]"
   ]
  },
  {
   "cell_type": "code",
   "execution_count": 28,
   "metadata": {},
   "outputs": [],
   "source": [
    "df = df.drop(1450)"
   ]
  },
  {
   "cell_type": "code",
   "execution_count": 29,
   "metadata": {},
   "outputs": [
    {
     "data": {
      "text/html": [
       "<div>\n",
       "<style scoped>\n",
       "    .dataframe tbody tr th:only-of-type {\n",
       "        vertical-align: middle;\n",
       "    }\n",
       "\n",
       "    .dataframe tbody tr th {\n",
       "        vertical-align: top;\n",
       "    }\n",
       "\n",
       "    .dataframe thead th {\n",
       "        text-align: right;\n",
       "    }\n",
       "</style>\n",
       "<table border=\"1\" class=\"dataframe\">\n",
       "  <thead>\n",
       "    <tr style=\"text-align: right;\">\n",
       "      <th></th>\n",
       "      <th>word</th>\n",
       "      <th>total_word_count</th>\n",
       "      <th>zeros</th>\n",
       "      <th>average_std</th>\n",
       "      <th>mean</th>\n",
       "      <th>median</th>\n",
       "      <th>mode</th>\n",
       "      <th>percent_average</th>\n",
       "    </tr>\n",
       "  </thead>\n",
       "  <tbody>\n",
       "  </tbody>\n",
       "</table>\n",
       "</div>"
      ],
      "text/plain": [
       "Empty DataFrame\n",
       "Columns: [word, total_word_count, zeros, average_std, mean, median, mode, percent_average]\n",
       "Index: []"
      ]
     },
     "execution_count": 29,
     "metadata": {},
     "output_type": "execute_result"
    }
   ],
   "source": [
    "df.loc[df.zeros >= 7]"
   ]
  },
  {
   "cell_type": "code",
   "execution_count": 30,
   "metadata": {},
   "outputs": [
    {
     "data": {
      "text/plain": [
       "2087"
      ]
     },
     "execution_count": 30,
     "metadata": {},
     "output_type": "execute_result"
    }
   ],
   "source": [
    "len(df)"
   ]
  },
  {
   "cell_type": "code",
   "execution_count": 31,
   "metadata": {},
   "outputs": [
    {
     "data": {
      "text/plain": [
       "2087"
      ]
     },
     "execution_count": 31,
     "metadata": {},
     "output_type": "execute_result"
    }
   ],
   "source": [
    "len(df.groupby(df.average_std))"
   ]
  },
  {
   "cell_type": "code",
   "execution_count": 32,
   "metadata": {},
   "outputs": [],
   "source": [
    "df = df.reset_index(drop=True)"
   ]
  },
  {
   "cell_type": "code",
   "execution_count": 33,
   "metadata": {},
   "outputs": [],
   "source": [
    "df = df.reset_index()"
   ]
  },
  {
   "cell_type": "code",
   "execution_count": 34,
   "metadata": {},
   "outputs": [],
   "source": [
    "word_list = dict()"
   ]
  },
  {
   "cell_type": "code",
   "execution_count": 35,
   "metadata": {},
   "outputs": [],
   "source": [
    "def turn(word, index):\n",
    "    word_list[word] = [index]"
   ]
  },
  {
   "cell_type": "code",
   "execution_count": 36,
   "metadata": {},
   "outputs": [
    {
     "data": {
      "text/plain": [
       "0       None\n",
       "1       None\n",
       "2       None\n",
       "3       None\n",
       "4       None\n",
       "5       None\n",
       "6       None\n",
       "7       None\n",
       "8       None\n",
       "9       None\n",
       "10      None\n",
       "11      None\n",
       "12      None\n",
       "13      None\n",
       "14      None\n",
       "15      None\n",
       "16      None\n",
       "17      None\n",
       "18      None\n",
       "19      None\n",
       "20      None\n",
       "21      None\n",
       "22      None\n",
       "23      None\n",
       "24      None\n",
       "25      None\n",
       "26      None\n",
       "27      None\n",
       "28      None\n",
       "29      None\n",
       "        ... \n",
       "2057    None\n",
       "2058    None\n",
       "2059    None\n",
       "2060    None\n",
       "2061    None\n",
       "2062    None\n",
       "2063    None\n",
       "2064    None\n",
       "2065    None\n",
       "2066    None\n",
       "2067    None\n",
       "2068    None\n",
       "2069    None\n",
       "2070    None\n",
       "2071    None\n",
       "2072    None\n",
       "2073    None\n",
       "2074    None\n",
       "2075    None\n",
       "2076    None\n",
       "2077    None\n",
       "2078    None\n",
       "2079    None\n",
       "2080    None\n",
       "2081    None\n",
       "2082    None\n",
       "2083    None\n",
       "2084    None\n",
       "2085    None\n",
       "2086    None\n",
       "Length: 2087, dtype: object"
      ]
     },
     "execution_count": 36,
     "metadata": {},
     "output_type": "execute_result"
    }
   ],
   "source": [
    "df.apply(lambda row: turn(row['word'], row['index']), axis=1)"
   ]
  },
  {
   "cell_type": "code",
   "execution_count": 37,
   "metadata": {},
   "outputs": [
    {
     "data": {
      "text/plain": [
       "[0]"
      ]
     },
     "execution_count": 37,
     "metadata": {},
     "output_type": "execute_result"
    }
   ],
   "source": [
    "word_list['great']"
   ]
  },
  {
   "cell_type": "code",
   "execution_count": 38,
   "metadata": {},
   "outputs": [],
   "source": [
    "test = pd.read_csv('../data/small_sample.csv')\n",
    "test.drop(columns=['Unnamed: 0'], inplace=True)"
   ]
  },
  {
   "cell_type": "code",
   "execution_count": 39,
   "metadata": {},
   "outputs": [],
   "source": [
    "def remove_punctuation(comment):\n",
    "    table = str.maketrans(dict.fromkeys('@#$%^&*()_+=~`[{}]|\\:;\"<,>.\"/'))\n",
    "    return comment.translate(table)"
   ]
  },
  {
   "cell_type": "code",
   "execution_count": 40,
   "metadata": {},
   "outputs": [],
   "source": [
    "def replace_exclimation(comment):\n",
    "    return comment.replace('!', ' <!> ').replace('?', ' <?> ')"
   ]
  },
  {
   "cell_type": "code",
   "execution_count": 41,
   "metadata": {},
   "outputs": [
    {
     "name": "stdout",
     "output_type": "stream",
     "text": [
      "CPU times: user 26.3 ms, sys: 595 µs, total: 26.9 ms\n",
      "Wall time: 30.8 ms\n"
     ]
    }
   ],
   "source": [
    "%%time\n",
    "test['remove_punctuation'] = test.comment.apply(lambda x: remove_punctuation(x))\n",
    "test.drop(columns=['comment'], inplace=True)\n",
    "test.rename(columns={'remove_punctuation':'comment'}, inplace=True)\n",
    "test['replace_punctuation'] = test.comment.apply(lambda x: replace_exclimation(x))\n",
    "test.drop(columns=['comment'], inplace=True)\n",
    "test.rename(columns={'replace_punctuation':'comment'}, inplace=True)"
   ]
  },
  {
   "cell_type": "code",
   "execution_count": 42,
   "metadata": {},
   "outputs": [],
   "source": [
    "test.rating = np.ceil(test.rating)"
   ]
  },
  {
   "cell_type": "code",
   "execution_count": 43,
   "metadata": {},
   "outputs": [],
   "source": [
    "def make_it_lower(comment):\n",
    "    new_comment = []\n",
    "    for x in comment.split(' '):\n",
    "        new_comment.append(x.lower())\n",
    "    return ' '.join(new_comment)"
   ]
  },
  {
   "cell_type": "code",
   "execution_count": 44,
   "metadata": {},
   "outputs": [
    {
     "name": "stdout",
     "output_type": "stream",
     "text": [
      "CPU times: user 21.7 ms, sys: 2.15 ms, total: 23.8 ms\n",
      "Wall time: 24.6 ms\n"
     ]
    }
   ],
   "source": [
    "%%time\n",
    "test['lower_comment'] = test.comment.apply(lambda x: make_it_lower(x))\n",
    "test.drop(columns=['comment'], inplace=True)\n",
    "test.rename(columns={'lower_comment':'comment'}, inplace=True)"
   ]
  },
  {
   "cell_type": "code",
   "execution_count": 45,
   "metadata": {},
   "outputs": [],
   "source": [
    "def return_array(comment):\n",
    "    new_comment = []\n",
    "    for x in comment.split(' '):\n",
    "        if x in word_list:\n",
    "            new_comment.append(word_list[x][0])\n",
    "    return new_comment"
   ]
  },
  {
   "cell_type": "code",
   "execution_count": 46,
   "metadata": {},
   "outputs": [
    {
     "name": "stdout",
     "output_type": "stream",
     "text": [
      "CPU times: user 15.5 ms, sys: 505 µs, total: 16 ms\n",
      "Wall time: 16.6 ms\n"
     ]
    }
   ],
   "source": [
    "%%time\n",
    "test['new'] = test.comment.apply(lambda x: return_array(x))"
   ]
  },
  {
   "cell_type": "code",
   "execution_count": 47,
   "metadata": {},
   "outputs": [
    {
     "data": {
      "text/html": [
       "<div>\n",
       "<style scoped>\n",
       "    .dataframe tbody tr th:only-of-type {\n",
       "        vertical-align: middle;\n",
       "    }\n",
       "\n",
       "    .dataframe tbody tr th {\n",
       "        vertical-align: top;\n",
       "    }\n",
       "\n",
       "    .dataframe thead th {\n",
       "        text-align: right;\n",
       "    }\n",
       "</style>\n",
       "<table border=\"1\" class=\"dataframe\">\n",
       "  <thead>\n",
       "    <tr style=\"text-align: right;\">\n",
       "      <th></th>\n",
       "      <th>index</th>\n",
       "      <th>word</th>\n",
       "      <th>total_word_count</th>\n",
       "      <th>zeros</th>\n",
       "      <th>average_std</th>\n",
       "      <th>mean</th>\n",
       "      <th>median</th>\n",
       "      <th>mode</th>\n",
       "      <th>percent_average</th>\n",
       "    </tr>\n",
       "  </thead>\n",
       "  <tbody>\n",
       "    <tr>\n",
       "      <th>0</th>\n",
       "      <td>0</td>\n",
       "      <td>great</td>\n",
       "      <td>53725.0</td>\n",
       "      <td>0</td>\n",
       "      <td>1.290807</td>\n",
       "      <td>7.562748</td>\n",
       "      <td>8</td>\n",
       "      <td>9</td>\n",
       "      <td>758.046962</td>\n",
       "    </tr>\n",
       "    <tr>\n",
       "      <th>1</th>\n",
       "      <td>1</td>\n",
       "      <td>love</td>\n",
       "      <td>22575.0</td>\n",
       "      <td>0</td>\n",
       "      <td>1.076059</td>\n",
       "      <td>7.806826</td>\n",
       "      <td>9</td>\n",
       "      <td>10</td>\n",
       "      <td>376.468269</td>\n",
       "    </tr>\n",
       "    <tr>\n",
       "      <th>2</th>\n",
       "      <td>2</td>\n",
       "      <td>boring</td>\n",
       "      <td>5024.0</td>\n",
       "      <td>0</td>\n",
       "      <td>1.040698</td>\n",
       "      <td>2.866672</td>\n",
       "      <td>3</td>\n",
       "      <td>1</td>\n",
       "      <td>367.797693</td>\n",
       "    </tr>\n",
       "    <tr>\n",
       "      <th>3</th>\n",
       "      <td>3</td>\n",
       "      <td>best</td>\n",
       "      <td>20618.0</td>\n",
       "      <td>0</td>\n",
       "      <td>1.006746</td>\n",
       "      <td>7.934620</td>\n",
       "      <td>9</td>\n",
       "      <td>10</td>\n",
       "      <td>347.978685</td>\n",
       "    </tr>\n",
       "    <tr>\n",
       "      <th>4</th>\n",
       "      <td>4</td>\n",
       "      <td>ever</td>\n",
       "      <td>6227.0</td>\n",
       "      <td>0</td>\n",
       "      <td>1.233311</td>\n",
       "      <td>5.106415</td>\n",
       "      <td>4</td>\n",
       "      <td>1</td>\n",
       "      <td>218.481853</td>\n",
       "    </tr>\n",
       "  </tbody>\n",
       "</table>\n",
       "</div>"
      ],
      "text/plain": [
       "   index    word  total_word_count  zeros  average_std      mean  median  \\\n",
       "0      0   great           53725.0      0     1.290807  7.562748       8   \n",
       "1      1    love           22575.0      0     1.076059  7.806826       9   \n",
       "2      2  boring            5024.0      0     1.040698  2.866672       3   \n",
       "3      3    best           20618.0      0     1.006746  7.934620       9   \n",
       "4      4    ever            6227.0      0     1.233311  5.106415       4   \n",
       "\n",
       "   mode  percent_average  \n",
       "0     9       758.046962  \n",
       "1    10       376.468269  \n",
       "2     1       367.797693  \n",
       "3    10       347.978685  \n",
       "4     1       218.481853  "
      ]
     },
     "execution_count": 47,
     "metadata": {},
     "output_type": "execute_result"
    }
   ],
   "source": [
    "df.head()"
   ]
  },
  {
   "cell_type": "code",
   "execution_count": null,
   "metadata": {},
   "outputs": [],
   "source": []
  },
  {
   "cell_type": "code",
   "execution_count": 48,
   "metadata": {},
   "outputs": [],
   "source": [
    "word_values = dict()"
   ]
  },
  {
   "cell_type": "code",
   "execution_count": 49,
   "metadata": {},
   "outputs": [],
   "source": [
    "def values(average, index):\n",
    "    word_values[index] = [average]"
   ]
  },
  {
   "cell_type": "code",
   "execution_count": 50,
   "metadata": {},
   "outputs": [
    {
     "data": {
      "text/plain": [
       "0       None\n",
       "1       None\n",
       "2       None\n",
       "3       None\n",
       "4       None\n",
       "5       None\n",
       "6       None\n",
       "7       None\n",
       "8       None\n",
       "9       None\n",
       "10      None\n",
       "11      None\n",
       "12      None\n",
       "13      None\n",
       "14      None\n",
       "15      None\n",
       "16      None\n",
       "17      None\n",
       "18      None\n",
       "19      None\n",
       "20      None\n",
       "21      None\n",
       "22      None\n",
       "23      None\n",
       "24      None\n",
       "25      None\n",
       "26      None\n",
       "27      None\n",
       "28      None\n",
       "29      None\n",
       "        ... \n",
       "2057    None\n",
       "2058    None\n",
       "2059    None\n",
       "2060    None\n",
       "2061    None\n",
       "2062    None\n",
       "2063    None\n",
       "2064    None\n",
       "2065    None\n",
       "2066    None\n",
       "2067    None\n",
       "2068    None\n",
       "2069    None\n",
       "2070    None\n",
       "2071    None\n",
       "2072    None\n",
       "2073    None\n",
       "2074    None\n",
       "2075    None\n",
       "2076    None\n",
       "2077    None\n",
       "2078    None\n",
       "2079    None\n",
       "2080    None\n",
       "2081    None\n",
       "2082    None\n",
       "2083    None\n",
       "2084    None\n",
       "2085    None\n",
       "2086    None\n",
       "Length: 2087, dtype: object"
      ]
     },
     "execution_count": 50,
     "metadata": {},
     "output_type": "execute_result"
    }
   ],
   "source": [
    "df.apply(lambda row: values(row['mode'], row['index']), axis=1)"
   ]
  },
  {
   "cell_type": "code",
   "execution_count": 51,
   "metadata": {},
   "outputs": [],
   "source": [
    "def create_score(new):\n",
    "    if new != []:\n",
    "        raw_prediction = 0\n",
    "        counter = 0\n",
    "        for x in new:\n",
    "#             print(word_values[x])\n",
    "            raw_prediction += word_values[x][0]\n",
    "            counter += 1\n",
    "        return raw_prediction/counter"
   ]
  },
  {
   "cell_type": "code",
   "execution_count": 52,
   "metadata": {},
   "outputs": [],
   "source": [
    "test['prediction'] = test.new.apply(create_score)\n"
   ]
  },
  {
   "cell_type": "code",
   "execution_count": 53,
   "metadata": {},
   "outputs": [],
   "source": [
    "test.dropna(inplace=True)"
   ]
  },
  {
   "cell_type": "code",
   "execution_count": 54,
   "metadata": {},
   "outputs": [
    {
     "data": {
      "text/html": [
       "<div>\n",
       "<style scoped>\n",
       "    .dataframe tbody tr th:only-of-type {\n",
       "        vertical-align: middle;\n",
       "    }\n",
       "\n",
       "    .dataframe tbody tr th {\n",
       "        vertical-align: top;\n",
       "    }\n",
       "\n",
       "    .dataframe thead th {\n",
       "        text-align: right;\n",
       "    }\n",
       "</style>\n",
       "<table border=\"1\" class=\"dataframe\">\n",
       "  <thead>\n",
       "    <tr style=\"text-align: right;\">\n",
       "      <th></th>\n",
       "      <th>commenter</th>\n",
       "      <th>gameID</th>\n",
       "      <th>rating</th>\n",
       "      <th>comment</th>\n",
       "      <th>new</th>\n",
       "      <th>prediction</th>\n",
       "    </tr>\n",
       "  </thead>\n",
       "  <tbody>\n",
       "    <tr>\n",
       "      <th>841</th>\n",
       "      <td>123058</td>\n",
       "      <td>21348</td>\n",
       "      <td>6.0</td>\n",
       "      <td>we didn't care for this version of ticket to r...</td>\n",
       "      <td>[43, 292, 1297]</td>\n",
       "      <td>4.0</td>\n",
       "    </tr>\n",
       "    <tr>\n",
       "      <th>842</th>\n",
       "      <td>157377</td>\n",
       "      <td>144733</td>\n",
       "      <td>9.0</td>\n",
       "      <td>the more i play the more i love this game</td>\n",
       "      <td>[1]</td>\n",
       "      <td>10.0</td>\n",
       "    </tr>\n",
       "    <tr>\n",
       "      <th>843</th>\n",
       "      <td>165589</td>\n",
       "      <td>40692</td>\n",
       "      <td>7.0</td>\n",
       "      <td>my first venture into the hobby and boy am i g...</td>\n",
       "      <td>[907, 363]</td>\n",
       "      <td>9.0</td>\n",
       "    </tr>\n",
       "    <tr>\n",
       "      <th>844</th>\n",
       "      <td>824</td>\n",
       "      <td>158899</td>\n",
       "      <td>8.0</td>\n",
       "      <td>one of the best family style games out there i...</td>\n",
       "      <td>[3, 1, 1, 1091, 30]</td>\n",
       "      <td>8.2</td>\n",
       "    </tr>\n",
       "    <tr>\n",
       "      <th>846</th>\n",
       "      <td>109519</td>\n",
       "      <td>13</td>\n",
       "      <td>7.0</td>\n",
       "      <td>the vanilla version of this game has it's flaw...</td>\n",
       "      <td>[4]</td>\n",
       "      <td>1.0</td>\n",
       "    </tr>\n",
       "  </tbody>\n",
       "</table>\n",
       "</div>"
      ],
      "text/plain": [
       "     commenter  gameID  rating  \\\n",
       "841     123058   21348     6.0   \n",
       "842     157377  144733     9.0   \n",
       "843     165589   40692     7.0   \n",
       "844        824  158899     8.0   \n",
       "846     109519      13     7.0   \n",
       "\n",
       "                                               comment                  new  \\\n",
       "841  we didn't care for this version of ticket to r...      [43, 292, 1297]   \n",
       "842         the more i play the more i love this game                   [1]   \n",
       "843  my first venture into the hobby and boy am i g...           [907, 363]   \n",
       "844  one of the best family style games out there i...  [3, 1, 1, 1091, 30]   \n",
       "846  the vanilla version of this game has it's flaw...                  [4]   \n",
       "\n",
       "     prediction  \n",
       "841         4.0  \n",
       "842        10.0  \n",
       "843         9.0  \n",
       "844         8.2  \n",
       "846         1.0  "
      ]
     },
     "execution_count": 54,
     "metadata": {},
     "output_type": "execute_result"
    }
   ],
   "source": [
    "test.tail()"
   ]
  },
  {
   "cell_type": "code",
   "execution_count": 55,
   "metadata": {},
   "outputs": [
    {
     "data": {
      "text/plain": [
       "<matplotlib.collections.PathCollection at 0x10a99d588>"
      ]
     },
     "execution_count": 55,
     "metadata": {},
     "output_type": "execute_result"
    },
    {
     "data": {
      "image/png": "[encoded data removed]",
      "text/plain": [
       "<Figure size 432x288 with 1 Axes>"
      ]
     },
     "metadata": {},
     "output_type": "display_data"
    }
   ],
   "source": [
    "plt.scatter(test.rating, test.prediction)"
   ]
  },
  {
   "cell_type": "code",
   "execution_count": null,
   "metadata": {},
   "outputs": [],
   "source": []
  },
  {
   "cell_type": "code",
   "execution_count": null,
   "metadata": {},
   "outputs": [],
   "source": []
  },
  {
   "cell_type": "code",
   "execution_count": null,
   "metadata": {},
   "outputs": [],
   "source": []
  },
  {
   "cell_type": "code",
   "execution_count": null,
   "metadata": {},
   "outputs": [],
   "source": []
  },
  {
   "cell_type": "code",
   "execution_count": null,
   "metadata": {},
   "outputs": [],
   "source": []
  },
  {
   "cell_type": "code",
   "execution_count": null,
   "metadata": {},
   "outputs": [],
   "source": []
  },
  {
   "cell_type": "code",
   "execution_count": null,
   "metadata": {},
   "outputs": [],
   "source": []
  },
  {
   "cell_type": "code",
   "execution_count": null,
   "metadata": {},
   "outputs": [],
   "source": []
  }
 ],
 "metadata": {
  "kernelspec": {
   "display_name": "Python 3",
   "language": "python",
   "name": "python3"
  },
  "language_info": {
   "codemirror_mode": {
    "name": "ipython",
    "version": 3
   },
   "file_extension": ".py",
   "mimetype": "text/x-python",
   "name": "python",
   "nbconvert_exporter": "python",
   "pygments_lexer": "ipython3",
   "version": "3.6.5"
  }
 },
 "nbformat": 4,
 "nbformat_minor": 2
}
