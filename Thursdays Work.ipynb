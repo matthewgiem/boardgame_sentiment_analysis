{
 "cells": [
  {
   "cell_type": "code",
   "execution_count": 1,
   "metadata": {},
   "outputs": [],
   "source": [
    "import pandas as pd\n",
    "import math"
   ]
  },
  {
   "cell_type": "code",
   "execution_count": 2,
   "metadata": {},
   "outputs": [],
   "source": [
    "df = pd.read_csv('new_normalized_data.csv')\n",
    "df.drop(columns=['Unnamed: 0'], inplace=True)"
   ]
  },
  {
   "cell_type": "code",
   "execution_count": 3,
   "metadata": {},
   "outputs": [],
   "source": [
    "df = df.loc[df.average_std < 1.5]"
   ]
  },
  {
   "cell_type": "code",
   "execution_count": 136,
   "metadata": {},
   "outputs": [],
   "source": [
    "testing = df.loc[df.word.isin(['worst','love', 'diseases', 'ultimate'])]\n",
    "testing = testing.reset_index(drop=True)"
   ]
  },
  {
   "cell_type": "code",
   "execution_count": 137,
   "metadata": {},
   "outputs": [],
   "source": [
    "def write_normialized_statistics(series, df):\n",
    "    mean_total = 0\n",
    "    median_total = 0\n",
    "    mode_total = 0\n",
    "    mode = 0\n",
    "    counter = 0\n",
    "    stop_median = 0\n",
    "    for x in series:\n",
    "        if counter > 0:\n",
    "            mean_total += counter*x\n",
    "            median_total += x\n",
    "            if (median_total >= 50 and stop_median == 0):\n",
    "                df.loc[(df.word == series.name) & (df.type == 1), 'median'] = counter\n",
    "                stop_median = 1\n",
    "            if x > mode_total:\n",
    "                mode_total = x\n",
    "                mode = counter\n",
    "        counter += 1\n",
    "    df.loc[(df.word == series.name) & (df.type == 1), 'mean'] = mean_total/100\n",
    "    df.loc[(df.word == series.name) & (df.type == 1), 'mode'] = mode"
   ]
  },
  {
   "cell_type": "code",
   "execution_count": 138,
   "metadata": {},
   "outputs": [
    {
     "name": "stdout",
     "output_type": "stream",
     "text": [
      "CPU times: user 56 ms, sys: 4.45 ms, total: 60.4 ms\n",
      "Wall time: 58.1 ms\n"
     ]
    },
    {
     "data": {
      "text/plain": [
       "word\n",
       "diseases    None\n",
       "love        None\n",
       "ultimate    None\n",
       "worst       None\n",
       "Name: normilized_percent, dtype: object"
      ]
     },
     "execution_count": 138,
     "metadata": {},
     "output_type": "execute_result"
    }
   ],
   "source": [
    "%%time\n",
    "testing.groupby(testing.word).normilized_percent.apply(write_normialized_statistics, df=testing)"
   ]
  },
  {
   "cell_type": "code",
   "execution_count": 23,
   "metadata": {},
   "outputs": [],
   "source": [
    "%%time\n",
    "df.groupby(df.word).normilized_percent.apply(write_normialized_statistics, df=df)"
   ]
  },
  {
   "cell_type": "code",
   "execution_count": null,
   "metadata": {},
   "outputs": [],
   "source": [
    "df.to_csv('new_normalized_data.csv')"
   ]
  },
  {
   "cell_type": "code",
   "execution_count": 139,
   "metadata": {},
   "outputs": [],
   "source": [
    "df['zeros'] = 0\n",
    "df['total_word_count'] = 0\n",
    "testing['zeros'] = 0\n",
    "testing['total_word_count'] = 0"
   ]
  },
  {
   "cell_type": "code",
   "execution_count": 155,
   "metadata": {},
   "outputs": [],
   "source": [
    "def values_with_zeros_and_total_word_count(series, df):\n",
    "    counter = 0\n",
    "    number_of_zeros = 0\n",
    "    total_words = 0\n",
    "    for x in series:\n",
    "        if (counter > 0):\n",
    "            if (x < 2):\n",
    "                number_of_zeros += 1\n",
    "            total_words += x\n",
    "        counter +=1\n",
    "    df.loc[(df.word == series.name) & (df.type == 1), 'zeros'] = number_of_zeros\n",
    "    df.loc[(df.word == series.name) & (df.type == 1), 'total_word_count'] = total_words"
   ]
  },
  {
   "cell_type": "code",
   "execution_count": 157,
   "metadata": {},
   "outputs": [
    {
     "name": "stdout",
     "output_type": "stream",
     "text": [
      "CPU times: user 35.3 s, sys: 568 ms, total: 35.8 s\n",
      "Wall time: 38.5 s\n"
     ]
    },
    {
     "data": {
      "text/plain": [
       "word\n",
       "'nuff                    None\n",
       "'take                    None\n",
       "'the                     None\n",
       "----                     None\n",
       "-1                       None\n",
       "-limited                 None\n",
       "0                        None\n",
       "01                       None\n",
       "05                       None\n",
       "09                       None\n",
       "1-4                      None\n",
       "1-5                      None\n",
       "1-6                      None\n",
       "1-8                      None\n",
       "10                       None\n",
       "10-15                    None\n",
       "1010                     None\n",
       "10th                     None\n",
       "11                       None\n",
       "110                      None\n",
       "15-20                    None\n",
       "150                      None\n",
       "16                       None\n",
       "18                       None\n",
       "18xx                     None\n",
       "1910                     None\n",
       "1960                     None\n",
       "1995                     None\n",
       "1999                     None\n",
       "1v1                      None\n",
       "                         ... \n",
       "workerplacement          None\n",
       "worlds                   None\n",
       "worn                     None\n",
       "worried                  None\n",
       "worse                    None\n",
       "worst                    None\n",
       "wow                      None\n",
       "writing                  None\n",
       "ww2                      None\n",
       "wwwbrettspillguidenno    None\n",
       "xbox                     None\n",
       "xmas                     None\n",
       "yatzee                   None\n",
       "yawn                     None\n",
       "yelling                  None\n",
       "youngest                 None\n",
       "youth                    None\n",
       "youtube                  None\n",
       "yr                       None\n",
       "yucata                   None\n",
       "yucatade                 None\n",
       "yuck                     None\n",
       "z-man                    None\n",
       "zero                     None\n",
       "zoo                      None\n",
       "zooloretto               None\n",
       "–                        None\n",
       "•                        None\n",
       "−                        None\n",
       "✔                        None\n",
       "Name: word_count, Length: 2088, dtype: object"
      ]
     },
     "execution_count": 157,
     "metadata": {},
     "output_type": "execute_result"
    }
   ],
   "source": [
    "%%time\n",
    "df.groupby(df.word).word_count.apply(values_with_zeros_and_total_word_count, df=df)"
   ]
  },
  {
   "cell_type": "code",
   "execution_count": 166,
   "metadata": {},
   "outputs": [],
   "source": [
    "words = df.loc[df.type == 1]"
   ]
  },
  {
   "cell_type": "code",
   "execution_count": 168,
   "metadata": {},
   "outputs": [],
   "source": [
    "words.to_csv('words.csv')"
   ]
  },
  {
   "cell_type": "code",
   "execution_count": 24,
   "metadata": {},
   "outputs": [],
   "source": [
    "df = pd.read_csv('words.csv')\n",
    "df = df.drop(columns=['Unnamed: 0'])"
   ]
  },
  {
   "cell_type": "code",
   "execution_count": 25,
   "metadata": {},
   "outputs": [],
   "source": [
    "df = df.sort_values(by=['average_std'])"
   ]
  },
  {
   "cell_type": "code",
   "execution_count": 26,
   "metadata": {},
   "outputs": [],
   "source": [
    "cols = df.columns.tolist()"
   ]
  },
  {
   "cell_type": "code",
   "execution_count": 27,
   "metadata": {},
   "outputs": [],
   "source": [
    "cols = ['word',\n",
    " 'total_word_count',\n",
    " 'zeros',\n",
    " 'average_std',\n",
    " 'mean',\n",
    " 'median',\n",
    " 'mode',\n",
    " 'percent_average',\n",
    " 'percent_std',\n",
    " 'rating',\n",
    " 'word_count',\n",
    " 'divisor',\n",
    " 'percent',\n",
    " 'type',\n",
    " 'normilization_divisor',\n",
    " 'normilized_percent']"
   ]
  },
  {
   "cell_type": "code",
   "execution_count": 28,
   "metadata": {},
   "outputs": [],
   "source": [
    "df = df[cols]"
   ]
  },
  {
   "cell_type": "code",
   "execution_count": 29,
   "metadata": {},
   "outputs": [],
   "source": [
    "df = df.drop(columns=['rating', 'word_count', 'divisor', 'percent'])"
   ]
  },
  {
   "cell_type": "code",
   "execution_count": 30,
   "metadata": {},
   "outputs": [],
   "source": [
    "df = df.drop(columns=['normilized_percent', 'type', 'normilization_divisor', 'percent_std'])"
   ]
  },
  {
   "cell_type": "code",
   "execution_count": 31,
   "metadata": {},
   "outputs": [],
   "source": [
    "df['new'] = df.percent_average.apply(lambda x: x*100)"
   ]
  },
  {
   "cell_type": "code",
   "execution_count": 33,
   "metadata": {},
   "outputs": [],
   "source": [
    "df = df.drop(columns=['percent_average'])"
   ]
  },
  {
   "cell_type": "code",
   "execution_count": 34,
   "metadata": {},
   "outputs": [],
   "source": [
    "df['percent_average'] = df.new.apply(lambda x: x*100)"
   ]
  },
  {
   "cell_type": "code",
   "execution_count": 35,
   "metadata": {},
   "outputs": [],
   "source": [
    "df = df.drop(columns=['new'])"
   ]
  },
  {
   "cell_type": "code",
   "execution_count": 40,
   "metadata": {},
   "outputs": [],
   "source": [
    "df = df.sort_values(by=['percent_average'],ascending=False)"
   ]
  },
  {
   "cell_type": "code",
   "execution_count": 41,
   "metadata": {},
   "outputs": [
    {
     "data": {
      "text/html": [
       "<div>\n",
       "<style scoped>\n",
       "    .dataframe tbody tr th:only-of-type {\n",
       "        vertical-align: middle;\n",
       "    }\n",
       "\n",
       "    .dataframe tbody tr th {\n",
       "        vertical-align: top;\n",
       "    }\n",
       "\n",
       "    .dataframe thead th {\n",
       "        text-align: right;\n",
       "    }\n",
       "</style>\n",
       "<table border=\"1\" class=\"dataframe\">\n",
       "  <thead>\n",
       "    <tr style=\"text-align: right;\">\n",
       "      <th></th>\n",
       "      <th>word</th>\n",
       "      <th>total_word_count</th>\n",
       "      <th>zeros</th>\n",
       "      <th>average_std</th>\n",
       "      <th>mean</th>\n",
       "      <th>median</th>\n",
       "      <th>mode</th>\n",
       "      <th>percent_average</th>\n",
       "    </tr>\n",
       "  </thead>\n",
       "  <tbody>\n",
       "    <tr>\n",
       "      <th>1289</th>\n",
       "      <td>great</td>\n",
       "      <td>53725.0</td>\n",
       "      <td>0</td>\n",
       "      <td>1.290807</td>\n",
       "      <td>7.562748</td>\n",
       "      <td>8</td>\n",
       "      <td>9</td>\n",
       "      <td>758.046962</td>\n",
       "    </tr>\n",
       "    <tr>\n",
       "      <th>1288</th>\n",
       "      <td>love</td>\n",
       "      <td>22575.0</td>\n",
       "      <td>0</td>\n",
       "      <td>1.076059</td>\n",
       "      <td>7.806826</td>\n",
       "      <td>9</td>\n",
       "      <td>10</td>\n",
       "      <td>376.468269</td>\n",
       "    </tr>\n",
       "    <tr>\n",
       "      <th>1133</th>\n",
       "      <td>boring</td>\n",
       "      <td>5024.0</td>\n",
       "      <td>0</td>\n",
       "      <td>1.040698</td>\n",
       "      <td>2.866672</td>\n",
       "      <td>3</td>\n",
       "      <td>1</td>\n",
       "      <td>367.797693</td>\n",
       "    </tr>\n",
       "    <tr>\n",
       "      <th>1287</th>\n",
       "      <td>best</td>\n",
       "      <td>20618.0</td>\n",
       "      <td>0</td>\n",
       "      <td>1.006746</td>\n",
       "      <td>7.934620</td>\n",
       "      <td>9</td>\n",
       "      <td>10</td>\n",
       "      <td>347.978685</td>\n",
       "    </tr>\n",
       "    <tr>\n",
       "      <th>1135</th>\n",
       "      <td>ever</td>\n",
       "      <td>6227.0</td>\n",
       "      <td>0</td>\n",
       "      <td>1.233311</td>\n",
       "      <td>5.106415</td>\n",
       "      <td>4</td>\n",
       "      <td>1</td>\n",
       "      <td>218.481853</td>\n",
       "    </tr>\n",
       "  </tbody>\n",
       "</table>\n",
       "</div>"
      ],
      "text/plain": [
       "        word  total_word_count  zeros  average_std      mean  median  mode  \\\n",
       "1289   great           53725.0      0     1.290807  7.562748       8     9   \n",
       "1288    love           22575.0      0     1.076059  7.806826       9    10   \n",
       "1133  boring            5024.0      0     1.040698  2.866672       3     1   \n",
       "1287    best           20618.0      0     1.006746  7.934620       9    10   \n",
       "1135    ever            6227.0      0     1.233311  5.106415       4     1   \n",
       "\n",
       "      percent_average  \n",
       "1289       758.046962  \n",
       "1288       376.468269  \n",
       "1133       367.797693  \n",
       "1287       347.978685  \n",
       "1135       218.481853  "
      ]
     },
     "execution_count": 41,
     "metadata": {},
     "output_type": "execute_result"
    }
   ],
   "source": [
    "df.head()"
   ]
  },
  {
   "cell_type": "code",
   "execution_count": 47,
   "metadata": {},
   "outputs": [
    {
     "data": {
      "text/html": [
       "<div>\n",
       "<style scoped>\n",
       "    .dataframe tbody tr th:only-of-type {\n",
       "        vertical-align: middle;\n",
       "    }\n",
       "\n",
       "    .dataframe tbody tr th {\n",
       "        vertical-align: top;\n",
       "    }\n",
       "\n",
       "    .dataframe thead th {\n",
       "        text-align: right;\n",
       "    }\n",
       "</style>\n",
       "<table border=\"1\" class=\"dataframe\">\n",
       "  <thead>\n",
       "    <tr style=\"text-align: right;\">\n",
       "      <th></th>\n",
       "      <th>word</th>\n",
       "      <th>total_word_count</th>\n",
       "      <th>zeros</th>\n",
       "      <th>average_std</th>\n",
       "      <th>mean</th>\n",
       "      <th>median</th>\n",
       "      <th>mode</th>\n",
       "      <th>percent_average</th>\n",
       "    </tr>\n",
       "  </thead>\n",
       "  <tbody>\n",
       "    <tr>\n",
       "      <th>1450</th>\n",
       "      <td>smjj</td>\n",
       "      <td>89.0</td>\n",
       "      <td>9</td>\n",
       "      <td>0.333333</td>\n",
       "      <td>1.0</td>\n",
       "      <td>1</td>\n",
       "      <td>1</td>\n",
       "      <td>40.881948</td>\n",
       "    </tr>\n",
       "  </tbody>\n",
       "</table>\n",
       "</div>"
      ],
      "text/plain": [
       "      word  total_word_count  zeros  average_std  mean  median  mode  \\\n",
       "1450  smjj              89.0      9     0.333333   1.0       1     1   \n",
       "\n",
       "      percent_average  \n",
       "1450        40.881948  "
      ]
     },
     "execution_count": 47,
     "metadata": {},
     "output_type": "execute_result"
    }
   ],
   "source": [
    "df.loc[df.zeros >= 7]"
   ]
  },
  {
   "cell_type": "code",
   "execution_count": 50,
   "metadata": {},
   "outputs": [],
   "source": [
    "df = df.drop(1450)"
   ]
  },
  {
   "cell_type": "code",
   "execution_count": 51,
   "metadata": {},
   "outputs": [
    {
     "data": {
      "text/html": [
       "<div>\n",
       "<style scoped>\n",
       "    .dataframe tbody tr th:only-of-type {\n",
       "        vertical-align: middle;\n",
       "    }\n",
       "\n",
       "    .dataframe tbody tr th {\n",
       "        vertical-align: top;\n",
       "    }\n",
       "\n",
       "    .dataframe thead th {\n",
       "        text-align: right;\n",
       "    }\n",
       "</style>\n",
       "<table border=\"1\" class=\"dataframe\">\n",
       "  <thead>\n",
       "    <tr style=\"text-align: right;\">\n",
       "      <th></th>\n",
       "      <th>word</th>\n",
       "      <th>total_word_count</th>\n",
       "      <th>zeros</th>\n",
       "      <th>average_std</th>\n",
       "      <th>mean</th>\n",
       "      <th>median</th>\n",
       "      <th>mode</th>\n",
       "      <th>percent_average</th>\n",
       "    </tr>\n",
       "  </thead>\n",
       "  <tbody>\n",
       "  </tbody>\n",
       "</table>\n",
       "</div>"
      ],
      "text/plain": [
       "Empty DataFrame\n",
       "Columns: [word, total_word_count, zeros, average_std, mean, median, mode, percent_average]\n",
       "Index: []"
      ]
     },
     "execution_count": 51,
     "metadata": {},
     "output_type": "execute_result"
    }
   ],
   "source": [
    "df.loc[df.zeros >= 7]"
   ]
  },
  {
   "cell_type": "code",
   "execution_count": 54,
   "metadata": {},
   "outputs": [
    {
     "data": {
      "text/plain": [
       "2087"
      ]
     },
     "execution_count": 54,
     "metadata": {},
     "output_type": "execute_result"
    }
   ],
   "source": [
    "len(df)"
   ]
  },
  {
   "cell_type": "code",
   "execution_count": 56,
   "metadata": {},
   "outputs": [
    {
     "data": {
      "text/html": [
       "<div>\n",
       "<style scoped>\n",
       "    .dataframe tbody tr th:only-of-type {\n",
       "        vertical-align: middle;\n",
       "    }\n",
       "\n",
       "    .dataframe tbody tr th {\n",
       "        vertical-align: top;\n",
       "    }\n",
       "\n",
       "    .dataframe thead th {\n",
       "        text-align: right;\n",
       "    }\n",
       "</style>\n",
       "<table border=\"1\" class=\"dataframe\">\n",
       "  <thead>\n",
       "    <tr style=\"text-align: right;\">\n",
       "      <th></th>\n",
       "      <th>word</th>\n",
       "      <th>total_word_count</th>\n",
       "      <th>zeros</th>\n",
       "      <th>average_std</th>\n",
       "      <th>mean</th>\n",
       "      <th>median</th>\n",
       "      <th>mode</th>\n",
       "      <th>percent_average</th>\n",
       "    </tr>\n",
       "  </thead>\n",
       "  <tbody>\n",
       "    <tr>\n",
       "      <th>1289</th>\n",
       "      <td>great</td>\n",
       "      <td>53725.0</td>\n",
       "      <td>0</td>\n",
       "      <td>1.290807</td>\n",
       "      <td>7.562748</td>\n",
       "      <td>8</td>\n",
       "      <td>9</td>\n",
       "      <td>758.046962</td>\n",
       "    </tr>\n",
       "    <tr>\n",
       "      <th>1288</th>\n",
       "      <td>love</td>\n",
       "      <td>22575.0</td>\n",
       "      <td>0</td>\n",
       "      <td>1.076059</td>\n",
       "      <td>7.806826</td>\n",
       "      <td>9</td>\n",
       "      <td>10</td>\n",
       "      <td>376.468269</td>\n",
       "    </tr>\n",
       "    <tr>\n",
       "      <th>1133</th>\n",
       "      <td>boring</td>\n",
       "      <td>5024.0</td>\n",
       "      <td>0</td>\n",
       "      <td>1.040698</td>\n",
       "      <td>2.866672</td>\n",
       "      <td>3</td>\n",
       "      <td>1</td>\n",
       "      <td>367.797693</td>\n",
       "    </tr>\n",
       "    <tr>\n",
       "      <th>1287</th>\n",
       "      <td>best</td>\n",
       "      <td>20618.0</td>\n",
       "      <td>0</td>\n",
       "      <td>1.006746</td>\n",
       "      <td>7.934620</td>\n",
       "      <td>9</td>\n",
       "      <td>10</td>\n",
       "      <td>347.978685</td>\n",
       "    </tr>\n",
       "    <tr>\n",
       "      <th>1135</th>\n",
       "      <td>ever</td>\n",
       "      <td>6227.0</td>\n",
       "      <td>0</td>\n",
       "      <td>1.233311</td>\n",
       "      <td>5.106415</td>\n",
       "      <td>4</td>\n",
       "      <td>1</td>\n",
       "      <td>218.481853</td>\n",
       "    </tr>\n",
       "  </tbody>\n",
       "</table>\n",
       "</div>"
      ],
      "text/plain": [
       "        word  total_word_count  zeros  average_std      mean  median  mode  \\\n",
       "1289   great           53725.0      0     1.290807  7.562748       8     9   \n",
       "1288    love           22575.0      0     1.076059  7.806826       9    10   \n",
       "1133  boring            5024.0      0     1.040698  2.866672       3     1   \n",
       "1287    best           20618.0      0     1.006746  7.934620       9    10   \n",
       "1135    ever            6227.0      0     1.233311  5.106415       4     1   \n",
       "\n",
       "      percent_average  \n",
       "1289       758.046962  \n",
       "1288       376.468269  \n",
       "1133       367.797693  \n",
       "1287       347.978685  \n",
       "1135       218.481853  "
      ]
     },
     "execution_count": 56,
     "metadata": {},
     "output_type": "execute_result"
    }
   ],
   "source": [
    "df.head()"
   ]
  },
  {
   "cell_type": "code",
   "execution_count": null,
   "metadata": {},
   "outputs": [],
   "source": [
    "def turn(word, df):\n",
    "    for"
   ]
  },
  {
   "cell_type": "code",
   "execution_count": null,
   "metadata": {},
   "outputs": [],
   "source": [
    "def score(comment, df):\n",
    "    "
   ]
  }
 ],
 "metadata": {
  "kernelspec": {
   "display_name": "Python 3",
   "language": "python",
   "name": "python3"
  },
  "language_info": {
   "codemirror_mode": {
    "name": "ipython",
    "version": 3
   },
   "file_extension": ".py",
   "mimetype": "text/x-python",
   "name": "python",
   "nbconvert_exporter": "python",
   "pygments_lexer": "ipython3",
   "version": "3.6.5"
  }
 },
 "nbformat": 4,
 "nbformat_minor": 2
}
