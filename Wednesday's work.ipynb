{
 "cells": [
  {
   "cell_type": "code",
   "execution_count": 1,
   "metadata": {},
   "outputs": [],
   "source": [
    "import pandas as pd"
   ]
  },
  {
   "cell_type": "code",
   "execution_count": 2,
   "metadata": {},
   "outputs": [],
   "source": [
    "df = pd.read_csv('normalized_data.csv')\n",
    "df.drop(columns=['Unnamed: 0'], inplace=True)"
   ]
  },
  {
   "cell_type": "code",
   "execution_count": 3,
   "metadata": {},
   "outputs": [],
   "source": [
    "def write_value(series, df):\n",
    "    value = 0\n",
    "    counter = 0\n",
    "    for x in series:\n",
    "        if counter == 0:  \n",
    "            value = x\n",
    "        else:\n",
    "            df.loc[series.index[counter], 'average_std'] = value\n",
    "        counter += 1"
   ]
  },
  {
   "cell_type": "code",
   "execution_count": 4,
   "metadata": {},
   "outputs": [
    {
     "name": "stdout",
     "output_type": "stream",
     "text": [
      "CPU times: user 27.4 s, sys: 263 ms, total: 27.7 s\n",
      "Wall time: 28 s\n"
     ]
    },
    {
     "data": {
      "text/plain": [
       "word\n",
       "'             None\n",
       "'44           None\n",
       "'em           None\n",
       "'nuff         None\n",
       "'take         None\n",
       "'the          None\n",
       "-             None\n",
       "--            None\n",
       "---           None\n",
       "----          None\n",
       "-1            None\n",
       "-limited      None\n",
       "0             None\n",
       "01            None\n",
       "05            None\n",
       "09            None\n",
       "1             None\n",
       "1-2           None\n",
       "1-4           None\n",
       "1-5           None\n",
       "1-6           None\n",
       "1-8           None\n",
       "10            None\n",
       "10-15         None\n",
       "100           None\n",
       "1000          None\n",
       "1010          None\n",
       "10th          None\n",
       "11            None\n",
       "110           None\n",
       "              ... \n",
       "york          None\n",
       "you           None\n",
       "you'd         None\n",
       "you'll        None\n",
       "you're        None\n",
       "you've        None\n",
       "young         None\n",
       "younger       None\n",
       "youngest      None\n",
       "your          None\n",
       "yourself      None\n",
       "youth         None\n",
       "youtube       None\n",
       "yr            None\n",
       "yucata        None\n",
       "yucatade      None\n",
       "yuck          None\n",
       "z-man         None\n",
       "zen           None\n",
       "zero          None\n",
       "zombicide     None\n",
       "zombie        None\n",
       "zombies       None\n",
       "zoo           None\n",
       "zooloretto    None\n",
       "–             None\n",
       "—             None\n",
       "•             None\n",
       "−             None\n",
       "✔             None\n",
       "Name: average_std, Length: 4647, dtype: object"
      ]
     },
     "execution_count": 4,
     "metadata": {},
     "output_type": "execute_result"
    }
   ],
   "source": [
    "%%time\n",
    "df.groupby('word').average_std.apply(write_value, df=df)"
   ]
  },
  {
   "cell_type": "code",
   "execution_count": 9,
   "metadata": {},
   "outputs": [
    {
     "data": {
      "text/html": [
       "<div>\n",
       "<style scoped>\n",
       "    .dataframe tbody tr th:only-of-type {\n",
       "        vertical-align: middle;\n",
       "    }\n",
       "\n",
       "    .dataframe tbody tr th {\n",
       "        vertical-align: top;\n",
       "    }\n",
       "\n",
       "    .dataframe thead th {\n",
       "        text-align: right;\n",
       "    }\n",
       "</style>\n",
       "<table border=\"1\" class=\"dataframe\">\n",
       "  <thead>\n",
       "    <tr style=\"text-align: right;\">\n",
       "      <th></th>\n",
       "      <th>word</th>\n",
       "      <th>average_std</th>\n",
       "      <th>percent_average</th>\n",
       "      <th>percent_std</th>\n",
       "      <th>rating</th>\n",
       "      <th>word_count</th>\n",
       "      <th>divisor</th>\n",
       "      <th>percent</th>\n",
       "      <th>type</th>\n",
       "      <th>normilization_divisor</th>\n",
       "      <th>normilized_percent</th>\n",
       "      <th>mean</th>\n",
       "      <th>median</th>\n",
       "      <th>mode</th>\n",
       "    </tr>\n",
       "  </thead>\n",
       "  <tbody>\n",
       "    <tr>\n",
       "      <th>0</th>\n",
       "      <td>caylus</td>\n",
       "      <td>4.023446</td>\n",
       "      <td>0.00103</td>\n",
       "      <td>0.000256</td>\n",
       "      <td>NaN</td>\n",
       "      <td>NaN</td>\n",
       "      <td>NaN</td>\n",
       "      <td>NaN</td>\n",
       "      <td>1</td>\n",
       "      <td>0.010299</td>\n",
       "      <td>0.000000</td>\n",
       "      <td>6.964</td>\n",
       "      <td>11</td>\n",
       "      <td>10</td>\n",
       "    </tr>\n",
       "    <tr>\n",
       "      <th>1</th>\n",
       "      <td>caylus</td>\n",
       "      <td>4.023446</td>\n",
       "      <td>NaN</td>\n",
       "      <td>NaN</td>\n",
       "      <td>1.0</td>\n",
       "      <td>1.0</td>\n",
       "      <td>2177.0</td>\n",
       "      <td>0.000459</td>\n",
       "      <td>0</td>\n",
       "      <td>0.000000</td>\n",
       "      <td>4.460115</td>\n",
       "      <td>0.000</td>\n",
       "      <td>0</td>\n",
       "      <td>0</td>\n",
       "    </tr>\n",
       "    <tr>\n",
       "      <th>2</th>\n",
       "      <td>caylus</td>\n",
       "      <td>4.023446</td>\n",
       "      <td>NaN</td>\n",
       "      <td>NaN</td>\n",
       "      <td>2.0</td>\n",
       "      <td>5.0</td>\n",
       "      <td>4527.0</td>\n",
       "      <td>0.001104</td>\n",
       "      <td>0</td>\n",
       "      <td>0.000000</td>\n",
       "      <td>10.724178</td>\n",
       "      <td>0.000</td>\n",
       "      <td>0</td>\n",
       "      <td>0</td>\n",
       "    </tr>\n",
       "    <tr>\n",
       "      <th>3</th>\n",
       "      <td>caylus</td>\n",
       "      <td>4.023446</td>\n",
       "      <td>NaN</td>\n",
       "      <td>NaN</td>\n",
       "      <td>3.0</td>\n",
       "      <td>7.0</td>\n",
       "      <td>8567.0</td>\n",
       "      <td>0.000817</td>\n",
       "      <td>0</td>\n",
       "      <td>0.000000</td>\n",
       "      <td>7.933664</td>\n",
       "      <td>0.000</td>\n",
       "      <td>0</td>\n",
       "      <td>0</td>\n",
       "    </tr>\n",
       "    <tr>\n",
       "      <th>4</th>\n",
       "      <td>caylus</td>\n",
       "      <td>4.023446</td>\n",
       "      <td>NaN</td>\n",
       "      <td>NaN</td>\n",
       "      <td>4.0</td>\n",
       "      <td>13.0</td>\n",
       "      <td>15584.0</td>\n",
       "      <td>0.000834</td>\n",
       "      <td>0</td>\n",
       "      <td>0.000000</td>\n",
       "      <td>8.099700</td>\n",
       "      <td>0.000</td>\n",
       "      <td>0</td>\n",
       "      <td>0</td>\n",
       "    </tr>\n",
       "  </tbody>\n",
       "</table>\n",
       "</div>"
      ],
      "text/plain": [
       "     word  average_std  percent_average  percent_std  rating  word_count  \\\n",
       "0  caylus     4.023446          0.00103     0.000256     NaN         NaN   \n",
       "1  caylus     4.023446              NaN          NaN     1.0         1.0   \n",
       "2  caylus     4.023446              NaN          NaN     2.0         5.0   \n",
       "3  caylus     4.023446              NaN          NaN     3.0         7.0   \n",
       "4  caylus     4.023446              NaN          NaN     4.0        13.0   \n",
       "\n",
       "   divisor   percent  type  normilization_divisor  normilized_percent   mean  \\\n",
       "0      NaN       NaN     1               0.010299            0.000000  6.964   \n",
       "1   2177.0  0.000459     0               0.000000            4.460115  0.000   \n",
       "2   4527.0  0.001104     0               0.000000           10.724178  0.000   \n",
       "3   8567.0  0.000817     0               0.000000            7.933664  0.000   \n",
       "4  15584.0  0.000834     0               0.000000            8.099700  0.000   \n",
       "\n",
       "   median  mode  \n",
       "0      11    10  \n",
       "1       0     0  \n",
       "2       0     0  \n",
       "3       0     0  \n",
       "4       0     0  "
      ]
     },
     "execution_count": 9,
     "metadata": {},
     "output_type": "execute_result"
    }
   ],
   "source": [
    "df.head()"
   ]
  },
  {
   "cell_type": "code",
   "execution_count": 8,
   "metadata": {},
   "outputs": [
    {
     "data": {
      "text/plain": [
       "True"
      ]
     },
     "execution_count": 8,
     "metadata": {},
     "output_type": "execute_result"
    }
   ],
   "source": [
    "df.word.nunique() == df.average_std.nunique()"
   ]
  },
  {
   "cell_type": "code",
   "execution_count": null,
   "metadata": {},
   "outputs": [],
   "source": [
    "df.to_csv('new_normalized_data.csv')"
   ]
  },
  {
   "cell_type": "code",
   "execution_count": null,
   "metadata": {},
   "outputs": [],
   "source": []
  },
  {
   "cell_type": "code",
   "execution_count": 69,
   "metadata": {},
   "outputs": [],
   "source": []
  },
  {
   "cell_type": "code",
   "execution_count": null,
   "metadata": {},
   "outputs": [],
   "source": []
  },
  {
   "cell_type": "code",
   "execution_count": null,
   "metadata": {},
   "outputs": [],
   "source": []
  },
  {
   "cell_type": "code",
   "execution_count": null,
   "metadata": {},
   "outputs": [],
   "source": []
  }
 ],
 "metadata": {
  "kernelspec": {
   "display_name": "Python 3",
   "language": "python",
   "name": "python3"
  },
  "language_info": {
   "codemirror_mode": {
    "name": "ipython",
    "version": 3
   },
   "file_extension": ".py",
   "mimetype": "text/x-python",
   "name": "python",
   "nbconvert_exporter": "python",
   "pygments_lexer": "ipython3",
   "version": "3.6.5"
  }
 },
 "nbformat": 4,
 "nbformat_minor": 2
}
